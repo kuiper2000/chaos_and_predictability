{
 "cells": [
  {
   "cell_type": "code",
   "execution_count": 1,
   "metadata": {
    "colab": {
     "base_uri": "https://localhost:8080/",
     "height": 1000
    },
    "executionInfo": {
     "elapsed": 35547,
     "status": "error",
     "timestamp": 1651205038653,
     "user": {
      "displayName": "Eric Tseng",
      "userId": "16756084133469534332"
     },
     "user_tz": 240
    },
    "id": "eLaIBk-totzy",
    "outputId": "5e7a1766-bb0c-4d7b-cb68-9b390f96bd3b"
   },
   "outputs": [
    {
     "ename": "ModuleNotFoundError",
     "evalue": "No module named 'dedalus'",
     "output_type": "error",
     "traceback": [
      "\u001b[0;31m---------------------------------------------------------------------------\u001b[0m",
      "\u001b[0;31mModuleNotFoundError\u001b[0m                       Traceback (most recent call last)",
      "Input \u001b[0;32mIn [1]\u001b[0m, in \u001b[0;36m<module>\u001b[0;34m\u001b[0m\n\u001b[1;32m      1\u001b[0m \u001b[38;5;124;03m\"\"\"\u001b[39;00m\n\u001b[1;32m      2\u001b[0m \u001b[38;5;124;03mDedalus script simulating the viscous shallow water equations on a sphere. This\u001b[39;00m\n\u001b[1;32m      3\u001b[0m \u001b[38;5;124;03mscript demonstrates solving an initial value problem on the sphere. It can be\u001b[39;00m\n\u001b[0;32m   (...)\u001b[0m\n\u001b[1;32m     15\u001b[0m \u001b[38;5;124;03m    $ mpiexec -n 4 python3 plot_sphere.py snapshots/*.h5\u001b[39;00m\n\u001b[1;32m     16\u001b[0m \u001b[38;5;124;03m\"\"\"\u001b[39;00m\n\u001b[1;32m     18\u001b[0m \u001b[38;5;28;01mimport\u001b[39;00m \u001b[38;5;21;01mnumpy\u001b[39;00m \u001b[38;5;28;01mas\u001b[39;00m \u001b[38;5;21;01mnp\u001b[39;00m\n\u001b[0;32m---> 19\u001b[0m \u001b[38;5;28;01mimport\u001b[39;00m \u001b[38;5;21;01mdedalus\u001b[39;00m\u001b[38;5;21;01m.\u001b[39;00m\u001b[38;5;21;01mpublic\u001b[39;00m \u001b[38;5;28;01mas\u001b[39;00m \u001b[38;5;21;01md3\u001b[39;00m\n\u001b[1;32m     20\u001b[0m \u001b[38;5;28;01mimport\u001b[39;00m \u001b[38;5;21;01mlogging\u001b[39;00m\n\u001b[1;32m     21\u001b[0m logger \u001b[38;5;241m=\u001b[39m logging\u001b[38;5;241m.\u001b[39mgetLogger(\u001b[38;5;18m__name__\u001b[39m)\n",
      "\u001b[0;31mModuleNotFoundError\u001b[0m: No module named 'dedalus'"
     ]
    }
   ],
   "source": [
    "\"\"\"\n",
    "Dedalus script simulating the viscous shallow water equations on a sphere. This\n",
    "script demonstrates solving an initial value problem on the sphere. It can be\n",
    "ran serially or in parallel, and uses the built-in analysis framework to save\n",
    "data snapshots to HDF5 files. The `plot_sphere.py` script can be used to produce\n",
    "plots from the saved data. The simulation should a few cpu-minutes to run.\n",
    "\n",
    "The script implements the test case of a barotropically unstable mid-latitude\n",
    "jet from Galewsky et al. 2004 (https://doi.org/10.3402/tellusa.v56i5.14436).\n",
    "The initial height field balanced the imposed jet is solved with an LBVP.\n",
    "A perturbation is then added and the solution is evolved as an IVP.\n",
    "\n",
    "To run and plot using e.g. 4 processes:\n",
    "    $ mpiexec -n 4 python3 shallow_water.py\n",
    "    $ mpiexec -n 4 python3 plot_sphere.py snapshots/*.h5\n",
    "\"\"\"\n",
    "\n",
    "import numpy as np\n",
    "import dedalus.public as d3\n",
    "import logging\n",
    "logger = logging.getLogger(__name__)\n",
    "\n",
    "\n",
    "# Simulation units\n",
    "meter = 1 / 6.37122e6\n",
    "hour = 1\n",
    "second = hour / 3600\n",
    "\n",
    "# Parameters\n",
    "Nphi = 256\n",
    "Ntheta = 128\n",
    "dealias = 3/2\n",
    "R = 6.37122e6 * meter\n",
    "Omega = 7.292e-5 / second\n",
    "nu = 1e5 * meter**2 / second / 32**2 # Hyperdiffusion matched at ell=32\n",
    "g = 9.80616 * meter / second**2\n",
    "H = 1e4 * meter\n",
    "timestep = 600 * second\n",
    "stop_sim_time = 360 * hour\n",
    "dtype = np.float64\n",
    "\n",
    "# Bases\n",
    "coords = d3.S2Coordinates('phi', 'theta')\n",
    "dist = d3.Distributor(coords, dtype=dtype)\n",
    "basis = d3.SphereBasis(coords, (Nphi, Ntheta), radius=R, dealias=dealias, dtype=dtype)\n",
    "\n",
    "# Fields\n",
    "u = dist.VectorField(coords, name='u', bases=basis)\n",
    "h = dist.Field(name='h', bases=basis)\n",
    "\n",
    "# Substitutions\n",
    "zcross = lambda A: d3.MulCosine(d3.skew(A))\n",
    "\n",
    "# Initial conditions: zonal jet\n",
    "phi, theta = dist.local_grids(basis)\n",
    "lat = np.pi / 2 - theta + 0*phi\n",
    "umax = 80 * meter / second\n",
    "lat0 = np.pi / 7\n",
    "lat1 = np.pi / 2 - lat0\n",
    "en = np.exp(-4 / (lat1 - lat0)**2)\n",
    "jet = (lat0 <= lat) * (lat <= lat1)\n",
    "u_jet = umax / en * np.exp(1 / (lat[jet] - lat0) / (lat[jet] - lat1))\n",
    "u['g'][0][jet]  = u_jet\n",
    "\n",
    "# Initial conditions: balanced height\n",
    "c = dist.Field(name='c')\n",
    "problem = d3.LBVP([h, c], namespace=locals())\n",
    "problem.add_equation(\"g*lap(h) + c = - div(dot(u, grad(u)) + 2*Omega*zcross(u))\")\n",
    "problem.add_equation(\"ave(h) = 0\")\n",
    "solver = problem.build_solver()\n",
    "solver.solve()\n",
    "\n",
    "# Initial conditions: perturbation\n",
    "lat2 = np.pi / 4\n",
    "hpert = 120 * meter\n",
    "alpha = 1 / 3\n",
    "beta = 1 / 15\n",
    "h['g'] += hpert * np.cos(lat) * np.exp(-(phi/alpha)**2) * np.exp(-((lat2-lat)/beta)**2)\n",
    "\n",
    "# Problem\n",
    "problem = d3.IVP([u, h], namespace=locals())\n",
    "problem.add_equation(\"dt(u) + nu*lap(lap(u)) + g*grad(h) + 2*Omega*zcross(u) = - dot(u, grad(u))\")\n",
    "problem.add_equation(\"dt(h) + nu*lap(lap(h)) + H*div(u) = - div(h*u)\")\n",
    "\n",
    "\n",
    "# Solver\n",
    "solver = problem.build_solver(d3.RK222)\n",
    "solver.stop_sim_time = stop_sim_time\n",
    "\n",
    "# Analysis\n",
    "snapshots = solver.evaluator.add_file_handler('snapshots', sim_dt=1*hour, max_writes=10)\n",
    "snapshots.add_task(h, name='height')\n",
    "snapshots.add_task(-d3.div(d3.skew(u)), name='vorticity')\n",
    "\n",
    "# Main loop\n",
    "try:\n",
    "    logger.info('Starting main loop')\n",
    "    while solver.proceed:\n",
    "        solver.step(timestep)\n",
    "        if (solver.iteration-1) % 10 == 0:\n",
    "            logger.info('Iteration=%i, Time=%e, dt=%e' %(solver.iteration, solver.sim_time, timestep))\n",
    "except:\n",
    "    logger.error('Exception raised, triggering end of main loop.')\n",
    "    raise\n",
    "finally:\n",
    "    solver.log_stats()\n"
   ]
  },
  {
   "cell_type": "code",
   "execution_count": 1,
   "metadata": {
    "colab": {
     "base_uri": "https://localhost:8080/",
     "height": 374
    },
    "executionInfo": {
     "elapsed": 289,
     "status": "error",
     "timestamp": 1651582707672,
     "user": {
      "displayName": "Eric Tseng",
      "userId": "16756084133469534332"
     },
     "user_tz": 240
    },
    "id": "LA2iY-JBDZf-",
    "outputId": "25530a9f-162f-49f7-ad7f-3893d70601ee"
   },
   "outputs": [
    {
     "ename": "ModuleNotFoundError",
     "errorDetails": {
      "actions": [
       {
        "action": "open_url",
        "actionText": "Open Examples",
        "url": "/notebooks/snippets/importing_libraries.ipynb"
       }
      ]
     },
     "evalue": "ignored",
     "output_type": "error",
     "traceback": [
      "\u001b[0;31m---------------------------------------------------------------------------\u001b[0m",
      "\u001b[0;31mModuleNotFoundError\u001b[0m                       Traceback (most recent call last)",
      "\u001b[0;32m<ipython-input-1-29fc9d3aa0ab>\u001b[0m in \u001b[0;36m<module>\u001b[0;34m()\u001b[0m\n\u001b[1;32m     17\u001b[0m \u001b[0;34m\u001b[0m\u001b[0m\n\u001b[1;32m     18\u001b[0m \u001b[0;32mimport\u001b[0m \u001b[0mnumpy\u001b[0m \u001b[0;32mas\u001b[0m \u001b[0mnp\u001b[0m\u001b[0;34m\u001b[0m\u001b[0;34m\u001b[0m\u001b[0m\n\u001b[0;32m---> 19\u001b[0;31m \u001b[0;32mimport\u001b[0m \u001b[0mdedalus\u001b[0m\u001b[0;34m.\u001b[0m\u001b[0mpublic\u001b[0m \u001b[0;32mas\u001b[0m \u001b[0md3\u001b[0m\u001b[0;34m\u001b[0m\u001b[0;34m\u001b[0m\u001b[0m\n\u001b[0m\u001b[1;32m     20\u001b[0m \u001b[0;32mimport\u001b[0m \u001b[0mlogging\u001b[0m\u001b[0;34m\u001b[0m\u001b[0;34m\u001b[0m\u001b[0m\n\u001b[1;32m     21\u001b[0m \u001b[0mlogger\u001b[0m \u001b[0;34m=\u001b[0m \u001b[0mlogging\u001b[0m\u001b[0;34m.\u001b[0m\u001b[0mgetLogger\u001b[0m\u001b[0;34m(\u001b[0m\u001b[0m__name__\u001b[0m\u001b[0;34m)\u001b[0m\u001b[0;34m\u001b[0m\u001b[0;34m\u001b[0m\u001b[0m\n",
      "\u001b[0;31mModuleNotFoundError\u001b[0m: No module named 'dedalus'",
      "",
      "\u001b[0;31m---------------------------------------------------------------------------\u001b[0;32m\nNOTE: If your import is failing due to a missing package, you can\nmanually install dependencies using either !pip or !apt.\n\nTo view examples of installing some common dependencies, click the\n\"Open Examples\" button below.\n\u001b[0;31m---------------------------------------------------------------------------\u001b[0m\n"
     ]
    }
   ],
   "source": [
    "\"\"\"\n",
    "Dedalus script simulating the viscous shallow water equations on a sphere. This\n",
    "script demonstrates solving an initial value problem on the sphere. It can be\n",
    "ran serially or in parallel, and uses the built-in analysis framework to save\n",
    "data snapshots to HDF5 files. The `plot_sphere.py` script can be used to produce\n",
    "plots from the saved data. The simulation should a few cpu-minutes to run.\n",
    "\n",
    "The script implements the test case of a barotropically unstable mid-latitude\n",
    "jet from Galewsky et al. 2004 (https://doi.org/10.3402/tellusa.v56i5.14436).\n",
    "The initial height field balanced the imposed jet is solved with an LBVP.\n",
    "A perturbation is then added and the solution is evolved as an IVP.\n",
    "\n",
    "To run and plot using e.g. 4 processes:\n",
    "    $ mpiexec -n 4 python3 shallow_water.py\n",
    "    $ mpiexec -n 4 python3 plot_sphere.py snapshots/*.h5\n",
    "\"\"\"\n",
    "\n",
    "import numpy as np\n",
    "import dedalus.public as d3\n",
    "import logging\n",
    "logger = logging.getLogger(__name__)\n",
    "\n",
    "\n",
    "# Simulation units\n",
    "meter = 1 / 6.37122e6\n",
    "hour = 1\n",
    "second = hour / 3600\n",
    "\n",
    "# Parameters\n",
    "Nphi = 256\n",
    "Ntheta = 128\n",
    "dealias = 3/2\n",
    "R = 6.37122e6 * meter\n",
    "Omega = 7.292e-5 / second\n",
    "nu = 1e5 * meter**2 / second / 32**2 # Hyperdiffusion matched at ell=32\n",
    "g = 9.80616 * meter / second**2\n",
    "H = 1e4 * meter\n",
    "timestep = 600 * second\n",
    "stop_sim_time = 360 * hour\n",
    "dtype = np.float64\n",
    "\n",
    "# Bases\n",
    "coords = d3.S2Coordinates('phi', 'theta')\n",
    "dist = d3.Distributor(coords, dtype=dtype)\n",
    "basis = d3.SphereBasis(coords, (Nphi, Ntheta), radius=R, dealias=dealias, dtype=dtype)\n",
    "\n",
    "# Fields\n",
    "u = dist.VectorField(coords, name='u', bases=basis)\n",
    "h = dist.Field(name='h', bases=basis)\n",
    "tan_theta = dist.Field(name='tan_theta', bases=basis)\n",
    "zonal_unit = dist.VectorField(coords, name='zonal_unit', bases=basis)\n",
    "\n",
    "# Substitutions\n",
    "zcross = lambda A: d3.MulCosine(d3.skew(A))\n",
    "#tan    = np.tan(lat)\n",
    "\n",
    "# Initial conditions: zonal jet\n",
    "phi, theta = dist.local_grids(basis)\n",
    "lat = np.pi / 2 - theta + 0*phi\n",
    "umax = 80 * meter / second\n",
    "lat0 = np.pi / 7\n",
    "lat1 = np.pi / 2 - lat0\n",
    "en = np.exp(-4 / (lat1 - lat0)**2)\n",
    "jet = (lat0 <= lat) * (lat <= lat1)\n",
    "u_jet = umax / en * np.exp(1 / (lat[jet] - lat0) / (lat[jet] - lat1))\n",
    "u['g'][0][jet]  = u_jet\n",
    "tan_theta['g']     = np.tan(lat)\n",
    "zonal_unit['g'][0] = 1\n",
    "zonal_unit['g'][1] = 0\n",
    "\n",
    "# Initial conditions: balanced height\n",
    "c = dist.Field(name='c')\n",
    "problem = d3.LBVP([h, c], namespace=locals())\n",
    "problem.add_equation(\"g*lap(h) + c = - div(dot(u, grad(u)) + 2*Omega*zcross(u))\")\n",
    "problem.add_equation(\"ave(h) = 0\")\n",
    "solver = problem.build_solver()\n",
    "solver.solve()\n",
    "\n",
    "# Initial conditions: perturbation\n",
    "lat2 = np.pi / 4\n",
    "hpert = 120 * meter\n",
    "alpha = 1 / 3\n",
    "beta = 1 / 15\n",
    "h['g'] += hpert * np.cos(lat) * np.exp(-(phi/alpha)**2) * np.exp(-((lat2-lat)/beta)**2)\n",
    "\n",
    "# Problem\n",
    "problem = d3.IVP([u, h], namespace=locals())\n",
    "problem.add_equation(\"dt(u) + nu*lap(lap(u)) + g*grad(h) + 2*Omega*zcross(u) = - dot(u, grad(u))\")\n",
    "problem.add_equation(\"dt(h) + nu*lap(lap(h)) + H*div(u) = - div(h*u)\")\n",
    "\n",
    "# Solver\n",
    "solver = problem.build_solver(d3.RK222)\n",
    "solver.stop_sim_time = stop_sim_time\n",
    "\n",
    "# Analysis\n",
    "snapshots = solver.evaluator.add_file_handler('snapshots', sim_dt=1*hour, max_writes=10)\n",
    "snapshots.add_task(h, name='height')\n",
    "snapshots.add_task(-d3.div(d3.skew(u)), name='vorticity')\n",
    "\n",
    "# Main loop\n",
    "try:\n",
    "    logger.info('Starting main loop')\n",
    "    while solver.proceed:\n",
    "        solver.step(timestep)\n",
    "        if (solver.iteration-1) % 10 == 0:\n",
    "            logger.info('Iteration=%i, Time=%e, dt=%e' %(solver.iteration, solver.sim_time, timestep))\n",
    "except:\n",
    "    logger.error('Exception raised, triggering end of main loop.')\n",
    "    raise\n",
    "finally:\n",
    "    solver.log_stats()"
   ]
  },
  {
   "cell_type": "code",
   "execution_count": null,
   "metadata": {
    "colab": {
     "base_uri": "https://localhost:8080/"
    },
    "executionInfo": {
     "elapsed": 310,
     "status": "ok",
     "timestamp": 1649991765326,
     "user": {
      "displayName": "Eric Tseng",
      "userId": "16756084133469534332"
     },
     "user_tz": 240
    },
    "id": "VcpM_ASg-Ad8",
    "outputId": "73ba2701-93de-472c-c484-2a2547ca3d26"
   },
   "outputs": [
    {
     "data": {
      "text/plain": [
       "(2, 384, 192)"
      ]
     },
     "execution_count": 94,
     "metadata": {},
     "output_type": "execute_result"
    }
   ],
   "source": [
    "zonal_unit = dist.VectorField(coords, name='zonal_unit', bases=basis)\n",
    "zonal_unit['g'][0] = 1\n",
    "zonal_unit['g'][1] = 0\n",
    "\n",
    "np.shape((zonal_unit*u).evaluate()['g'])\n",
    "np.shape((d3.dot(zonal_unit,u)*d3.skew(u)).evaluate()['g'])"
   ]
  },
  {
   "cell_type": "code",
   "execution_count": 2,
   "metadata": {
    "colab": {
     "base_uri": "https://localhost:8080/"
    },
    "executionInfo": {
     "elapsed": 210764,
     "status": "ok",
     "timestamp": 1651591213772,
     "user": {
      "displayName": "Eric Tseng",
      "userId": "16756084133469534332"
     },
     "user_tz": 240
    },
    "id": "lw34l3ncpIff",
    "outputId": "60c6b863-79e7-4f96-fd1e-69b718bd2612"
   },
   "outputs": [
    {
     "name": "stdout",
     "output_type": "stream",
     "text": [
      "Reading package lists... Done\n",
      "Building dependency tree       \n",
      "Reading state information... Done\n",
      "The following packages were automatically installed and are no longer required:\n",
      "  libnvidia-common-460 nsight-compute-2020.2.0\n",
      "Use 'apt autoremove' to remove them.\n",
      "The following additional packages will be installed:\n",
      "  libfftw3-bin libfftw3-long3 libfftw3-quad3 libfftw3-single3\n",
      "Suggested packages:\n",
      "  libfftw3-doc\n",
      "The following NEW packages will be installed:\n",
      "  libfftw3-bin libfftw3-dev libfftw3-long3 libfftw3-quad3 libfftw3-single3\n",
      "0 upgraded, 5 newly installed, 0 to remove and 42 not upgraded.\n",
      "Need to get 3,766 kB of archives.\n",
      "After this operation, 21.2 MB of additional disk space will be used.\n",
      "Get:1 http://archive.ubuntu.com/ubuntu bionic/main amd64 libfftw3-long3 amd64 3.3.7-1 [308 kB]\n",
      "Get:2 http://archive.ubuntu.com/ubuntu bionic/main amd64 libfftw3-quad3 amd64 3.3.7-1 [552 kB]\n",
      "Get:3 http://archive.ubuntu.com/ubuntu bionic/main amd64 libfftw3-single3 amd64 3.3.7-1 [764 kB]\n",
      "Get:4 http://archive.ubuntu.com/ubuntu bionic/main amd64 libfftw3-bin amd64 3.3.7-1 [32.7 kB]\n",
      "Get:5 http://archive.ubuntu.com/ubuntu bionic/main amd64 libfftw3-dev amd64 3.3.7-1 [2,108 kB]\n",
      "Fetched 3,766 kB in 0s (22.8 MB/s)\n",
      "Selecting previously unselected package libfftw3-long3:amd64.\n",
      "(Reading database ... 155202 files and directories currently installed.)\n",
      "Preparing to unpack .../libfftw3-long3_3.3.7-1_amd64.deb ...\n",
      "Unpacking libfftw3-long3:amd64 (3.3.7-1) ...\n",
      "Selecting previously unselected package libfftw3-quad3:amd64.\n",
      "Preparing to unpack .../libfftw3-quad3_3.3.7-1_amd64.deb ...\n",
      "Unpacking libfftw3-quad3:amd64 (3.3.7-1) ...\n",
      "Selecting previously unselected package libfftw3-single3:amd64.\n",
      "Preparing to unpack .../libfftw3-single3_3.3.7-1_amd64.deb ...\n",
      "Unpacking libfftw3-single3:amd64 (3.3.7-1) ...\n",
      "Selecting previously unselected package libfftw3-bin.\n",
      "Preparing to unpack .../libfftw3-bin_3.3.7-1_amd64.deb ...\n",
      "Unpacking libfftw3-bin (3.3.7-1) ...\n",
      "Selecting previously unselected package libfftw3-dev:amd64.\n",
      "Preparing to unpack .../libfftw3-dev_3.3.7-1_amd64.deb ...\n",
      "Unpacking libfftw3-dev:amd64 (3.3.7-1) ...\n",
      "Setting up libfftw3-quad3:amd64 (3.3.7-1) ...\n",
      "Setting up libfftw3-single3:amd64 (3.3.7-1) ...\n",
      "Setting up libfftw3-long3:amd64 (3.3.7-1) ...\n",
      "Setting up libfftw3-bin (3.3.7-1) ...\n",
      "Setting up libfftw3-dev:amd64 (3.3.7-1) ...\n",
      "Processing triggers for libc-bin (2.27-3ubuntu1.3) ...\n",
      "/sbin/ldconfig.real: /usr/local/lib/python3.7/dist-packages/ideep4py/lib/libmkldnn.so.0 is not a symbolic link\n",
      "\n",
      "Processing triggers for man-db (2.8.3-2ubuntu0.1) ...\n",
      "Reading package lists... Done\n",
      "Building dependency tree       \n",
      "Reading state information... Done\n",
      "The following packages were automatically installed and are no longer required:\n",
      "  libnvidia-common-460 nsight-compute-2020.2.0\n",
      "Use 'apt autoremove' to remove them.\n",
      "The following additional packages will be installed:\n",
      "  libfftw3-mpi3\n",
      "Suggested packages:\n",
      "  libfftw3-doc\n",
      "The following NEW packages will be installed:\n",
      "  libfftw3-mpi-dev libfftw3-mpi3\n",
      "0 upgraded, 2 newly installed, 0 to remove and 42 not upgraded.\n",
      "Need to get 95.1 kB of archives.\n",
      "After this operation, 941 kB of additional disk space will be used.\n",
      "Get:1 http://archive.ubuntu.com/ubuntu bionic/universe amd64 libfftw3-mpi3 amd64 3.3.7-1 [47.5 kB]\n",
      "Get:2 http://archive.ubuntu.com/ubuntu bionic/universe amd64 libfftw3-mpi-dev amd64 3.3.7-1 [47.6 kB]\n",
      "Fetched 95.1 kB in 0s (1,290 kB/s)\n",
      "Selecting previously unselected package libfftw3-mpi3:amd64.\n",
      "(Reading database ... 155293 files and directories currently installed.)\n",
      "Preparing to unpack .../libfftw3-mpi3_3.3.7-1_amd64.deb ...\n",
      "Unpacking libfftw3-mpi3:amd64 (3.3.7-1) ...\n",
      "Selecting previously unselected package libfftw3-mpi-dev:amd64.\n",
      "Preparing to unpack .../libfftw3-mpi-dev_3.3.7-1_amd64.deb ...\n",
      "Unpacking libfftw3-mpi-dev:amd64 (3.3.7-1) ...\n",
      "Setting up libfftw3-mpi3:amd64 (3.3.7-1) ...\n",
      "Setting up libfftw3-mpi-dev:amd64 (3.3.7-1) ...\n",
      "Processing triggers for libc-bin (2.27-3ubuntu1.3) ...\n",
      "/sbin/ldconfig.real: /usr/local/lib/python3.7/dist-packages/ideep4py/lib/libmkldnn.so.0 is not a symbolic link\n",
      "\n",
      "Collecting http://github.com/dedalusproject/dedalus/zipball/d3/\n",
      "  Downloading http://github.com/dedalusproject/dedalus/zipball/d3/\n",
      "\u001b[K     \\ 23.3 MB 1.9 MB/s\n",
      "\u001b[?25h  Installing build dependencies ... \u001b[?25l\u001b[?25hdone\n",
      "  Getting requirements to build wheel ... \u001b[?25l\u001b[?25hdone\n",
      "    Preparing wheel metadata ... \u001b[?25l\u001b[?25hdone\n",
      "Collecting mpi4py>=2.0.0\n",
      "  Downloading mpi4py-3.1.3.tar.gz (2.5 MB)\n",
      "\u001b[K     |████████████████████████████████| 2.5 MB 27.5 MB/s \n",
      "\u001b[?25h  Installing build dependencies ... \u001b[?25l\u001b[?25hdone\n",
      "  Getting requirements to build wheel ... \u001b[?25l\u001b[?25hdone\n",
      "    Preparing wheel metadata ... \u001b[?25l\u001b[?25hdone\n",
      "Requirement already satisfied: pytest in /usr/local/lib/python3.7/dist-packages (from dedalus==3.0.0a0) (3.6.4)\n",
      "Requirement already satisfied: matplotlib in /usr/local/lib/python3.7/dist-packages (from dedalus==3.0.0a0) (3.2.2)\n",
      "Requirement already satisfied: docopt in /usr/local/lib/python3.7/dist-packages (from dedalus==3.0.0a0) (0.6.2)\n",
      "Requirement already satisfied: numpy>=1.20.0 in /usr/local/lib/python3.7/dist-packages (from dedalus==3.0.0a0) (1.21.6)\n",
      "Collecting pytest-benchmark\n",
      "  Downloading pytest_benchmark-3.4.1-py2.py3-none-any.whl (50 kB)\n",
      "\u001b[K     |████████████████████████████████| 50 kB 63.4 MB/s \n",
      "\u001b[?25hRequirement already satisfied: h5py>=2.6.0 in /usr/local/lib/python3.7/dist-packages (from dedalus==3.0.0a0) (3.1.0)\n",
      "Requirement already satisfied: scipy>=1.4.0 in /usr/local/lib/python3.7/dist-packages (from dedalus==3.0.0a0) (1.4.1)\n",
      "Collecting pytest-parallel\n",
      "  Downloading pytest_parallel-0.1.1-py3-none-any.whl (7.0 kB)\n",
      "Collecting pytest-cov\n",
      "  Downloading pytest_cov-3.0.0-py3-none-any.whl (20 kB)\n",
      "Requirement already satisfied: numexpr in /usr/local/lib/python3.7/dist-packages (from dedalus==3.0.0a0) (2.8.1)\n",
      "Requirement already satisfied: cached-property in /usr/local/lib/python3.7/dist-packages (from h5py>=2.6.0->dedalus==3.0.0a0) (1.5.2)\n",
      "Requirement already satisfied: python-dateutil>=2.1 in /usr/local/lib/python3.7/dist-packages (from matplotlib->dedalus==3.0.0a0) (2.8.2)\n",
      "Requirement already satisfied: cycler>=0.10 in /usr/local/lib/python3.7/dist-packages (from matplotlib->dedalus==3.0.0a0) (0.11.0)\n",
      "Requirement already satisfied: pyparsing!=2.0.4,!=2.1.2,!=2.1.6,>=2.0.1 in /usr/local/lib/python3.7/dist-packages (from matplotlib->dedalus==3.0.0a0) (3.0.8)\n",
      "Requirement already satisfied: kiwisolver>=1.0.1 in /usr/local/lib/python3.7/dist-packages (from matplotlib->dedalus==3.0.0a0) (1.4.2)\n",
      "Requirement already satisfied: typing-extensions in /usr/local/lib/python3.7/dist-packages (from kiwisolver>=1.0.1->matplotlib->dedalus==3.0.0a0) (4.2.0)\n",
      "Requirement already satisfied: six>=1.5 in /usr/local/lib/python3.7/dist-packages (from python-dateutil>=2.1->matplotlib->dedalus==3.0.0a0) (1.15.0)\n",
      "Requirement already satisfied: packaging in /usr/local/lib/python3.7/dist-packages (from numexpr->dedalus==3.0.0a0) (21.3)\n",
      "Requirement already satisfied: py>=1.5.0 in /usr/local/lib/python3.7/dist-packages (from pytest->dedalus==3.0.0a0) (1.11.0)\n",
      "Requirement already satisfied: more-itertools>=4.0.0 in /usr/local/lib/python3.7/dist-packages (from pytest->dedalus==3.0.0a0) (8.12.0)\n",
      "Requirement already satisfied: pluggy<0.8,>=0.5 in /usr/local/lib/python3.7/dist-packages (from pytest->dedalus==3.0.0a0) (0.7.1)\n",
      "Requirement already satisfied: atomicwrites>=1.0 in /usr/local/lib/python3.7/dist-packages (from pytest->dedalus==3.0.0a0) (1.4.0)\n",
      "Requirement already satisfied: attrs>=17.4.0 in /usr/local/lib/python3.7/dist-packages (from pytest->dedalus==3.0.0a0) (21.4.0)\n",
      "Requirement already satisfied: setuptools in /usr/local/lib/python3.7/dist-packages (from pytest->dedalus==3.0.0a0) (57.4.0)\n",
      "Collecting py-cpuinfo\n",
      "  Downloading py-cpuinfo-8.0.0.tar.gz (99 kB)\n",
      "\u001b[K     |████████████████████████████████| 99 kB 85.5 MB/s \n",
      "\u001b[?25hCollecting pytest\n",
      "  Downloading pytest-7.1.2-py3-none-any.whl (297 kB)\n",
      "\u001b[K     |████████████████████████████████| 297 kB 77.5 MB/s \n",
      "\u001b[?25hRequirement already satisfied: importlib-metadata>=0.12 in /usr/local/lib/python3.7/dist-packages (from pytest->dedalus==3.0.0a0) (4.11.3)\n",
      "  Downloading pytest-7.1.1-py3-none-any.whl (297 kB)\n",
      "\u001b[K     |████████████████████████████████| 297 kB 72.7 MB/s \n",
      "\u001b[?25h  Downloading pytest-7.1.0-py3-none-any.whl (297 kB)\n",
      "\u001b[K     |████████████████████████████████| 297 kB 86.5 MB/s \n",
      "\u001b[?25h  Downloading pytest-7.0.1-py3-none-any.whl (296 kB)\n",
      "\u001b[K     |████████████████████████████████| 296 kB 87.7 MB/s \n",
      "\u001b[?25h  Downloading pytest-7.0.0-py3-none-any.whl (296 kB)\n",
      "\u001b[K     |████████████████████████████████| 296 kB 88.4 MB/s \n",
      "\u001b[?25h  Downloading pytest-6.2.5-py3-none-any.whl (280 kB)\n",
      "\u001b[K     |████████████████████████████████| 280 kB 88.9 MB/s \n",
      "\u001b[?25h  Downloading pytest-6.2.4-py3-none-any.whl (280 kB)\n",
      "\u001b[K     |████████████████████████████████| 280 kB 85.5 MB/s \n",
      "\u001b[?25h  Downloading pytest-6.2.3-py3-none-any.whl (280 kB)\n",
      "\u001b[K     |████████████████████████████████| 280 kB 89.0 MB/s \n",
      "\u001b[?25h  Downloading pytest-6.2.2-py3-none-any.whl (280 kB)\n",
      "\u001b[K     |████████████████████████████████| 280 kB 83.7 MB/s \n",
      "\u001b[?25h  Downloading pytest-6.2.1-py3-none-any.whl (279 kB)\n",
      "\u001b[K     |████████████████████████████████| 279 kB 83.7 MB/s \n",
      "\u001b[?25h  Downloading pytest-6.2.0-py3-none-any.whl (279 kB)\n",
      "\u001b[K     |████████████████████████████████| 279 kB 85.2 MB/s \n",
      "\u001b[?25h  Downloading pytest-6.1.2-py3-none-any.whl (272 kB)\n",
      "\u001b[K     |████████████████████████████████| 272 kB 77.5 MB/s \n",
      "\u001b[?25hCollecting toml\n",
      "  Downloading toml-0.10.2-py2.py3-none-any.whl (16 kB)\n",
      "Requirement already satisfied: iniconfig in /usr/local/lib/python3.7/dist-packages (from pytest->dedalus==3.0.0a0) (1.1.1)\n",
      "Collecting pytest\n",
      "  Downloading pytest-6.1.1-py3-none-any.whl (272 kB)\n",
      "\u001b[K     |████████████████████████████████| 272 kB 63.2 MB/s \n",
      "\u001b[?25h  Downloading pytest-6.1.0-py3-none-any.whl (272 kB)\n",
      "\u001b[K     |████████████████████████████████| 272 kB 87.1 MB/s \n",
      "\u001b[?25h  Downloading pytest-6.0.2-py3-none-any.whl (270 kB)\n",
      "\u001b[K     |████████████████████████████████| 270 kB 83.1 MB/s \n",
      "\u001b[?25h  Downloading pytest-6.0.1-py3-none-any.whl (270 kB)\n",
      "\u001b[K     |████████████████████████████████| 270 kB 88.0 MB/s \n",
      "\u001b[?25h  Downloading pytest-6.0.0-py3-none-any.whl (270 kB)\n",
      "\u001b[K     |████████████████████████████████| 270 kB 87.9 MB/s \n",
      "\u001b[?25h  Downloading pytest-5.4.3-py3-none-any.whl (248 kB)\n",
      "\u001b[K     |████████████████████████████████| 248 kB 96.2 MB/s \n",
      "\u001b[?25h  Downloading pytest-5.4.2-py3-none-any.whl (247 kB)\n",
      "\u001b[K     |████████████████████████████████| 247 kB 72.9 MB/s \n",
      "\u001b[?25h  Downloading pytest-5.4.1-py3-none-any.whl (246 kB)\n",
      "\u001b[K     |████████████████████████████████| 246 kB 89.8 MB/s \n",
      "\u001b[?25h  Downloading pytest-5.4.0-py3-none-any.whl (247 kB)\n",
      "\u001b[K     |████████████████████████████████| 247 kB 86.9 MB/s \n",
      "\u001b[?25h  Downloading pytest-5.3.5-py3-none-any.whl (235 kB)\n",
      "\u001b[K     |████████████████████████████████| 235 kB 89.4 MB/s \n",
      "\u001b[?25h  Downloading pytest-5.3.4-py3-none-any.whl (235 kB)\n",
      "\u001b[K     |████████████████████████████████| 235 kB 89.4 MB/s \n",
      "\u001b[?25h  Downloading pytest-5.3.3-py3-none-any.whl (235 kB)\n",
      "\u001b[K     |████████████████████████████████| 235 kB 81.7 MB/s \n",
      "\u001b[?25h  Downloading pytest-5.3.2-py3-none-any.whl (234 kB)\n",
      "\u001b[K     |████████████████████████████████| 234 kB 92.1 MB/s \n",
      "\u001b[?25h  Downloading pytest-5.3.1-py3-none-any.whl (233 kB)\n",
      "\u001b[K     |████████████████████████████████| 233 kB 85.9 MB/s \n",
      "\u001b[?25h  Downloading pytest-5.3.0-py3-none-any.whl (233 kB)\n",
      "\u001b[K     |████████████████████████████████| 233 kB 69.4 MB/s \n",
      "\u001b[?25h  Downloading pytest-5.2.4-py3-none-any.whl (227 kB)\n",
      "\u001b[K     |████████████████████████████████| 227 kB 89.0 MB/s \n",
      "\u001b[?25h  Downloading pytest-5.2.3-py3-none-any.whl (227 kB)\n",
      "\u001b[K     |████████████████████████████████| 227 kB 69.4 MB/s \n",
      "\u001b[?25h  Downloading pytest-5.2.2-py3-none-any.whl (227 kB)\n",
      "\u001b[K     |████████████████████████████████| 227 kB 84.7 MB/s \n",
      "\u001b[?25h  Downloading pytest-5.2.1-py3-none-any.whl (226 kB)\n",
      "\u001b[K     |████████████████████████████████| 226 kB 91.3 MB/s \n",
      "\u001b[?25h  Downloading pytest-5.2.0-py3-none-any.whl (226 kB)\n",
      "\u001b[K     |████████████████████████████████| 226 kB 91.4 MB/s \n",
      "\u001b[?25h  Downloading pytest-5.1.3-py3-none-any.whl (224 kB)\n",
      "\u001b[K     |████████████████████████████████| 224 kB 72.6 MB/s \n",
      "\u001b[?25h  Downloading pytest-5.1.2-py3-none-any.whl (224 kB)\n",
      "\u001b[K     |████████████████████████████████| 224 kB 85.9 MB/s \n",
      "\u001b[?25h  Downloading pytest-5.1.1-py3-none-any.whl (223 kB)\n",
      "\u001b[K     |████████████████████████████████| 223 kB 80.8 MB/s \n",
      "\u001b[?25h  Downloading pytest-5.1.0-py3-none-any.whl (223 kB)\n",
      "\u001b[K     |████████████████████████████████| 223 kB 66.9 MB/s \n",
      "\u001b[?25h  Downloading pytest-5.0.1-py3-none-any.whl (221 kB)\n",
      "\u001b[K     |████████████████████████████████| 221 kB 68.5 MB/s \n",
      "\u001b[?25h  Downloading pytest-5.0.0-py3-none-any.whl (221 kB)\n",
      "\u001b[K     |████████████████████████████████| 221 kB 61.5 MB/s \n",
      "\u001b[?25h  Downloading pytest-4.6.11-py2.py3-none-any.whl (231 kB)\n",
      "\u001b[K     |████████████████████████████████| 231 kB 61.8 MB/s \n",
      "\u001b[?25h  Downloading pytest-4.6.10-py2.py3-none-any.whl (231 kB)\n",
      "\u001b[K     |████████████████████████████████| 231 kB 84.0 MB/s \n",
      "\u001b[?25h  Downloading pytest-4.6.9-py2.py3-none-any.whl (231 kB)\n",
      "\u001b[K     |████████████████████████████████| 231 kB 88.8 MB/s \n",
      "\u001b[?25h  Downloading pytest-4.6.8-py2.py3-none-any.whl (230 kB)\n",
      "\u001b[K     |████████████████████████████████| 230 kB 83.4 MB/s \n",
      "\u001b[?25h  Downloading pytest-4.6.7-py2.py3-none-any.whl (230 kB)\n",
      "\u001b[K     |████████████████████████████████| 230 kB 89.1 MB/s \n",
      "\u001b[?25h  Downloading pytest-4.6.6-py2.py3-none-any.whl (230 kB)\n",
      "\u001b[K     |████████████████████████████████| 230 kB 81.2 MB/s \n",
      "\u001b[?25h  Downloading pytest-4.6.5-py2.py3-none-any.whl (230 kB)\n",
      "\u001b[K     |████████████████████████████████| 230 kB 92.7 MB/s \n",
      "\u001b[?25h  Downloading pytest-4.6.4-py2.py3-none-any.whl (229 kB)\n",
      "\u001b[K     |████████████████████████████████| 229 kB 87.7 MB/s \n",
      "\u001b[?25h  Downloading pytest-4.6.3-py2.py3-none-any.whl (229 kB)\n",
      "\u001b[K     |████████████████████████████████| 229 kB 76.1 MB/s \n",
      "\u001b[?25h  Downloading pytest-4.6.2-py2.py3-none-any.whl (229 kB)\n",
      "\u001b[K     |████████████████████████████████| 229 kB 69.7 MB/s \n",
      "\u001b[?25h  Downloading pytest-4.6.1-py2.py3-none-any.whl (229 kB)\n",
      "\u001b[K     |████████████████████████████████| 229 kB 90.9 MB/s \n",
      "\u001b[?25h  Downloading pytest-4.6.0-py2.py3-none-any.whl (229 kB)\n",
      "\u001b[K     |████████████████████████████████| 229 kB 86.0 MB/s \n",
      "\u001b[?25h  Downloading pytest-4.5.0-py2.py3-none-any.whl (227 kB)\n",
      "\u001b[K     |████████████████████████████████| 227 kB 85.6 MB/s \n",
      "\u001b[?25h  Downloading pytest-4.4.2-py2.py3-none-any.whl (224 kB)\n",
      "\u001b[K     |████████████████████████████████| 224 kB 67.7 MB/s \n",
      "\u001b[?25h  Downloading pytest-4.4.1-py2.py3-none-any.whl (223 kB)\n",
      "\u001b[K     |████████████████████████████████| 223 kB 88.5 MB/s \n",
      "\u001b[?25h  Downloading pytest-4.4.0-py2.py3-none-any.whl (223 kB)\n",
      "\u001b[K     |████████████████████████████████| 223 kB 94.9 MB/s \n",
      "\u001b[?25h  Downloading pytest-4.3.1-py2.py3-none-any.whl (219 kB)\n",
      "\u001b[K     |████████████████████████████████| 219 kB 93.9 MB/s \n",
      "\u001b[?25hCollecting coverage[toml]>=5.2.1\n",
      "  Downloading coverage-6.3.2-cp37-cp37m-manylinux_2_5_x86_64.manylinux1_x86_64.manylinux_2_17_x86_64.manylinux2014_x86_64.whl (207 kB)\n",
      "\u001b[K     |████████████████████████████████| 207 kB 71.0 MB/s \n",
      "\u001b[?25hRequirement already satisfied: tomli in /usr/local/lib/python3.7/dist-packages (from coverage[toml]>=5.2.1->pytest-cov->dedalus==3.0.0a0) (2.0.1)\n",
      "INFO: pip is looking at multiple versions of coverage to determine which version is compatible with other requirements. This could take a while.\n",
      "INFO: pip is looking at multiple versions of coverage[toml] to determine which version is compatible with other requirements. This could take a while.\n",
      "  Downloading coverage-6.3.1-cp37-cp37m-manylinux_2_5_x86_64.manylinux1_x86_64.manylinux_2_17_x86_64.manylinux2014_x86_64.whl (207 kB)\n",
      "\u001b[K     |████████████████████████████████| 207 kB 86.0 MB/s \n",
      "\u001b[?25h  Downloading coverage-6.3-cp37-cp37m-manylinux_2_5_x86_64.manylinux1_x86_64.manylinux_2_17_x86_64.manylinux2014_x86_64.whl (207 kB)\n",
      "\u001b[K     |████████████████████████████████| 207 kB 89.9 MB/s \n",
      "\u001b[?25h  Downloading coverage-6.2-cp37-cp37m-manylinux_2_5_x86_64.manylinux1_x86_64.manylinux_2_12_x86_64.manylinux2010_x86_64.whl (213 kB)\n",
      "\u001b[K     |████████████████████████████████| 213 kB 85.3 MB/s \n",
      "\u001b[?25h  Downloading coverage-6.1.2-cp37-cp37m-manylinux_2_5_x86_64.manylinux1_x86_64.manylinux_2_12_x86_64.manylinux2010_x86_64.whl (213 kB)\n",
      "\u001b[K     |████████████████████████████████| 213 kB 90.1 MB/s \n",
      "\u001b[?25h  Downloading coverage-6.1.1-cp37-cp37m-manylinux_2_5_x86_64.manylinux1_x86_64.manylinux_2_12_x86_64.manylinux2010_x86_64.whl (213 kB)\n",
      "\u001b[K     |████████████████████████████████| 213 kB 84.8 MB/s \n",
      "\u001b[?25h  Downloading coverage-6.1-cp37-cp37m-manylinux_2_5_x86_64.manylinux1_x86_64.manylinux_2_12_x86_64.manylinux2010_x86_64.whl (213 kB)\n",
      "\u001b[K     |████████████████████████████████| 213 kB 69.6 MB/s \n",
      "\u001b[?25h  Downloading coverage-6.0.2-cp37-cp37m-manylinux_2_5_x86_64.manylinux1_x86_64.manylinux_2_12_x86_64.manylinux2010_x86_64.whl (253 kB)\n",
      "\u001b[K     |████████████████████████████████| 253 kB 82.3 MB/s \n",
      "\u001b[?25hINFO: pip is looking at multiple versions of coverage to determine which version is compatible with other requirements. This could take a while.\n",
      "INFO: pip is looking at multiple versions of coverage[toml] to determine which version is compatible with other requirements. This could take a while.\n",
      "  Downloading coverage-6.0.1-cp37-cp37m-manylinux_2_5_x86_64.manylinux1_x86_64.manylinux_2_12_x86_64.manylinux2010_x86_64.whl (252 kB)\n",
      "\u001b[K     |████████████████████████████████| 252 kB 88.7 MB/s \n",
      "\u001b[?25h  Downloading coverage-6.0-cp37-cp37m-manylinux_2_5_x86_64.manylinux1_x86_64.manylinux_2_12_x86_64.manylinux2010_x86_64.whl (252 kB)\n",
      "\u001b[K     |████████████████████████████████| 252 kB 82.6 MB/s \n",
      "\u001b[?25h  Downloading coverage-5.5-cp37-cp37m-manylinux2010_x86_64.whl (242 kB)\n",
      "\u001b[K     |████████████████████████████████| 242 kB 88.3 MB/s \n",
      "\u001b[?25h  Downloading coverage-5.4-cp37-cp37m-manylinux2010_x86_64.whl (242 kB)\n",
      "\u001b[K     |████████████████████████████████| 242 kB 87.1 MB/s \n",
      "\u001b[?25h  Downloading coverage-5.3.1-cp37-cp37m-manylinux2010_x86_64.whl (242 kB)\n",
      "\u001b[K     |████████████████████████████████| 242 kB 85.4 MB/s \n",
      "\u001b[?25hINFO: This is taking longer than usual. You might need to provide the dependency resolver with stricter constraints to reduce runtime. If you want to abort this run, you can press Ctrl + C to do so. To improve how pip performs, tell us what happened here: https://pip.pypa.io/surveys/backtracking\n",
      "INFO: This is taking longer than usual. You might need to provide the dependency resolver with stricter constraints to reduce runtime. If you want to abort this run, you can press Ctrl + C to do so. To improve how pip performs, tell us what happened here: https://pip.pypa.io/surveys/backtracking\n",
      "  Downloading coverage-5.3-cp37-cp37m-manylinux1_x86_64.whl (229 kB)\n",
      "\u001b[K     |████████████████████████████████| 229 kB 81.1 MB/s \n",
      "\u001b[?25h  Downloading coverage-5.2.1-cp37-cp37m-manylinux1_x86_64.whl (229 kB)\n",
      "\u001b[K     |████████████████████████████████| 229 kB 84.1 MB/s \n",
      "\u001b[?25hINFO: pip is looking at multiple versions of pytest-cov to determine which version is compatible with other requirements. This could take a while.\n",
      "Collecting pytest-cov\n",
      "  Downloading pytest_cov-2.12.1-py2.py3-none-any.whl (20 kB)\n",
      "  Downloading pytest_cov-2.12.0-py2.py3-none-any.whl (20 kB)\n",
      "  Downloading pytest_cov-2.11.1-py2.py3-none-any.whl (20 kB)\n",
      "  Downloading pytest_cov-2.11.0-py2.py3-none-any.whl (20 kB)\n",
      "  Downloading pytest_cov-2.10.1-py2.py3-none-any.whl (19 kB)\n",
      "Collecting coverage>=4.4\n",
      "\u001b[33m  WARNING: Retrying (Retry(total=4, connect=None, read=None, redirect=None, status=None)) after connection broken by 'ProtocolError('Connection aborted.', ConnectionResetError(104, 'Connection reset by peer'))': /packages/dd/ee/2cc12177fe77d116d5a0c5e7c2fb2c1f5f3d5dd287e8bb67a17948684ede/coverage-5.2-cp37-cp37m-manylinux1_x86_64.whl\u001b[0m\n",
      "  Downloading coverage-5.2-cp37-cp37m-manylinux1_x86_64.whl (229 kB)\n",
      "\u001b[K     |████████████████████████████████| 229 kB 27.0 MB/s \n",
      "\u001b[?25h  Downloading coverage-5.1-cp37-cp37m-manylinux1_x86_64.whl (227 kB)\n",
      "\u001b[K     |████████████████████████████████| 227 kB 48.6 MB/s \n",
      "\u001b[?25h  Downloading coverage-5.0.4-cp37-cp37m-manylinux1_x86_64.whl (227 kB)\n",
      "\u001b[K     |████████████████████████████████| 227 kB 83.7 MB/s \n",
      "\u001b[?25h  Downloading coverage-5.0.3-cp37-cp37m-manylinux1_x86_64.whl (227 kB)\n",
      "\u001b[K     |████████████████████████████████| 227 kB 79.8 MB/s \n",
      "\u001b[?25h  Downloading coverage-5.0.2-cp37-cp37m-manylinux1_x86_64.whl (226 kB)\n",
      "\u001b[K     |████████████████████████████████| 226 kB 85.3 MB/s \n",
      "\u001b[?25h  Downloading coverage-5.0.1-cp37-cp37m-manylinux1_x86_64.whl (226 kB)\n",
      "\u001b[K     |████████████████████████████████| 226 kB 83.7 MB/s \n",
      "\u001b[?25h  Downloading coverage-5.0-cp37-cp37m-manylinux1_x86_64.whl (226 kB)\n",
      "\u001b[K     |████████████████████████████████| 226 kB 82.3 MB/s \n",
      "\u001b[?25h  Downloading coverage-4.5.4-cp37-cp37m-manylinux1_x86_64.whl (205 kB)\n",
      "\u001b[K     |████████████████████████████████| 205 kB 77.3 MB/s \n",
      "\u001b[?25h  Downloading coverage-4.5.3-cp37-cp37m-manylinux1_x86_64.whl (204 kB)\n",
      "\u001b[K     |████████████████████████████████| 204 kB 89.6 MB/s \n",
      "\u001b[?25h  Downloading coverage-4.5.2-cp37-cp37m-manylinux1_x86_64.whl (205 kB)\n",
      "\u001b[K     |████████████████████████████████| 205 kB 81.5 MB/s \n",
      "\u001b[?25h  Downloading coverage-4.5.1-cp37-cp37m-manylinux1_x86_64.whl (202 kB)\n",
      "\u001b[K     |████████████████████████████████| 202 kB 89.2 MB/s \n",
      "\u001b[?25h  Downloading coverage-4.5.tar.gz (378 kB)\n",
      "\u001b[K     |████████████████████████████████| 378 kB 82.2 MB/s \n",
      "\u001b[?25h  Downloading coverage-4.4.2.tar.gz (374 kB)\n",
      "\u001b[K     |████████████████████████████████| 374 kB 79.3 MB/s \n",
      "\u001b[?25h  Downloading coverage-4.4.1.tar.gz (369 kB)\n",
      "\u001b[K     |████████████████████████████████| 369 kB 76.9 MB/s \n",
      "\u001b[?25h  Downloading coverage-4.4.tar.gz (369 kB)\n",
      "\u001b[K     |████████████████████████████████| 369 kB 81.1 MB/s \n",
      "\u001b[?25hCollecting pytest-cov\n",
      "  Downloading pytest_cov-2.10.0-py2.py3-none-any.whl (19 kB)\n",
      "  Downloading pytest_cov-2.9.0-py2.py3-none-any.whl (19 kB)\n",
      "Requirement already satisfied: tblib in /usr/local/lib/python3.7/dist-packages (from pytest-parallel->dedalus==3.0.0a0) (1.7.0)\n",
      "Building wheels for collected packages: dedalus, mpi4py, py-cpuinfo\n",
      "  Building wheel for dedalus (PEP 517) ... \u001b[?25l\u001b[?25hdone\n",
      "  Created wheel for dedalus: filename=dedalus-3.0.0a0-cp37-cp37m-linux_x86_64.whl size=1600331 sha256=1cf6062aad43bc2c3aee857ab6676588ce503570f87bb60434e3e04a4b36aa78\n",
      "  Stored in directory: /tmp/pip-ephem-wheel-cache-kwimx3zs/wheels/4f/9e/02/b9dedd82f504e0234fd1ef1b7f1888d3af12cf5bbb1d1eff5f\n",
      "  Building wheel for mpi4py (PEP 517) ... \u001b[?25l\u001b[?25hdone\n",
      "  Created wheel for mpi4py: filename=mpi4py-3.1.3-cp37-cp37m-linux_x86_64.whl size=2185301 sha256=f9e68118fc3a0dab3737da18c22b2f2886ae580b0dae13f568b130ac408a1940\n",
      "  Stored in directory: /tmp/pip-ephem-wheel-cache-kwimx3zs/wheels/7a/07/14/6a0c63fa2c6e473c6edc40985b7d89f05c61ff25ee7f0ad9ac\n",
      "  Building wheel for py-cpuinfo (setup.py) ... \u001b[?25l\u001b[?25hdone\n",
      "  Created wheel for py-cpuinfo: filename=py_cpuinfo-8.0.0-py3-none-any.whl size=22257 sha256=104e2b326eea9f9aa968b16bd959e3d0ba299d02efaef7ecd7a09201404440e0\n",
      "  Stored in directory: /tmp/pip-ephem-wheel-cache-kwimx3zs/wheels/d2/f1/1f/041add21dc9c4220157f1bd2bd6afe1f1a49524c3396b94401\n",
      "Successfully built dedalus mpi4py py-cpuinfo\n",
      "Installing collected packages: pytest, py-cpuinfo, coverage, pytest-parallel, pytest-cov, pytest-benchmark, mpi4py, dedalus\n",
      "  Attempting uninstall: pytest\n",
      "    Found existing installation: pytest 3.6.4\n",
      "    Uninstalling pytest-3.6.4:\n",
      "      Successfully uninstalled pytest-3.6.4\n",
      "  Attempting uninstall: coverage\n",
      "    Found existing installation: coverage 3.7.1\n",
      "    Uninstalling coverage-3.7.1:\n",
      "      Successfully uninstalled coverage-3.7.1\n",
      "\u001b[31mERROR: pip's dependency resolver does not currently take into account all the packages that are installed. This behaviour is the source of the following dependency conflicts.\n",
      "datascience 0.10.6 requires coverage==3.7.1, but you have coverage 6.3.2 which is incompatible.\n",
      "datascience 0.10.6 requires folium==0.2.1, but you have folium 0.8.3 which is incompatible.\n",
      "coveralls 0.5 requires coverage<3.999,>=3.6, but you have coverage 6.3.2 which is incompatible.\u001b[0m\n",
      "Successfully installed coverage-6.3.2 dedalus-3.0.0a0 mpi4py-3.1.3 py-cpuinfo-8.0.0 pytest-4.3.1 pytest-benchmark-3.4.1 pytest-cov-2.9.0 pytest-parallel-0.1.1\n"
     ]
    }
   ],
   "source": [
    "# Step 1: Install FFTW\n",
    "!apt-get install libfftw3-dev\n",
    "!apt-get install libfftw3-mpi-dev\n",
    "\n",
    "# Step 2: Set paths for Dedalus installation\n",
    "import os\n",
    "os.environ['MPI_INCLUDE_PATH'] = \"/usr/lib/x86_64-linux-gnu/openmpi/include\"\n",
    "os.environ['MPI_LIBRARY_PATH'] = \"/usr/lib/x86_64-linux-gnu\"\n",
    "os.environ['FFTW_INCLUDE_PATH'] = \"/usr/include\"\n",
    "os.environ['FFTW_LIBRARY_PATH'] = \"/usr/lib/x86_64-linux-gnu\"\n",
    "\n",
    "# Step 3: Install Dedalus using pip\n",
    "!pip3 install --no-cache http://github.com/dedalusproject/dedalus/zipball/d3/"
   ]
  },
  {
   "cell_type": "code",
   "execution_count": null,
   "metadata": {
    "colab": {
     "base_uri": "https://localhost:8080/"
    },
    "executionInfo": {
     "elapsed": 15225,
     "status": "ok",
     "timestamp": 1649218163493,
     "user": {
      "displayName": "Eric Tseng",
      "userId": "16756084133469534332"
     },
     "user_tz": 240
    },
    "id": "-MgxVEBa5tdv",
    "outputId": "dd6788c4-ca1c-4bad-b106-0896ea0967d6"
   },
   "outputs": [
    {
     "name": "stdout",
     "output_type": "stream",
     "text": [
      "Collecting http://github.com/dedalusproject/dedalus/zipball/d3/\n",
      "  Downloading http://github.com/dedalusproject/dedalus/zipball/d3/\n",
      "\u001b[K     - 23.3 MB 798 kB/s\n",
      "\u001b[?25h  Installing build dependencies ... \u001b[?25l\u001b[?25hdone\n",
      "  Getting requirements to build wheel ... \u001b[?25l\u001b[?25herror\n",
      "\u001b[33mWARNING: Discarding http://github.com/dedalusproject/dedalus/zipball/d3/. Command errored out with exit status 1: /usr/bin/python3 /usr/local/lib/python3.7/dist-packages/pip/_vendor/pep517/in_process/_in_process.py get_requires_for_build_wheel /tmp/tmpdclesyj7 Check the logs for full command output.\u001b[0m\n",
      "\u001b[31mERROR: Command errored out with exit status 1: /usr/bin/python3 /usr/local/lib/python3.7/dist-packages/pip/_vendor/pep517/in_process/_in_process.py get_requires_for_build_wheel /tmp/tmpdclesyj7 Check the logs for full command output.\u001b[0m\n"
     ]
    }
   ],
   "source": [
    "#!mv /content/snapshots /content/drive/MyDrive/website-hugo/chaos_and_predictability/week3/RB2D/2D_shallow_water_output/snapshots\n",
    "#!pip uninstall dedalus\n",
    "!pip3 install --no-cache http://github.com/dedalusproject/dedalus/zipball/d3/"
   ]
  },
  {
   "cell_type": "code",
   "execution_count": null,
   "metadata": {
    "colab": {
     "base_uri": "https://localhost:8080/",
     "height": 761
    },
    "executionInfo": {
     "elapsed": 38670,
     "status": "ok",
     "timestamp": 1649217013553,
     "user": {
      "displayName": "Eric Tseng",
      "userId": "16756084133469534332"
     },
     "user_tz": 240
    },
    "id": "I0WVAxiwsJvZ",
    "outputId": "c4cdfc08-ad19-4bc7-fb2b-a4bdcb7f0236"
   },
   "outputs": [
    {
     "name": "stdout",
     "output_type": "stream",
     "text": [
      "Collecting dedalus\n",
      "  Downloading dedalus-2.2006.tar.gz (123 kB)\n",
      "\u001b[?25l\r",
      "\u001b[K     |██▋                             | 10 kB 17.6 MB/s eta 0:00:01\r",
      "\u001b[K     |█████▎                          | 20 kB 10.4 MB/s eta 0:00:01\r",
      "\u001b[K     |████████                        | 30 kB 8.2 MB/s eta 0:00:01\r",
      "\u001b[K     |██████████▋                     | 40 kB 3.5 MB/s eta 0:00:01\r",
      "\u001b[K     |█████████████▎                  | 51 kB 3.5 MB/s eta 0:00:01\r",
      "\u001b[K     |████████████████                | 61 kB 4.2 MB/s eta 0:00:01\r",
      "\u001b[K     |██████████████████▋             | 71 kB 4.4 MB/s eta 0:00:01\r",
      "\u001b[K     |█████████████████████▎          | 81 kB 4.4 MB/s eta 0:00:01\r",
      "\u001b[K     |████████████████████████        | 92 kB 4.9 MB/s eta 0:00:01\r",
      "\u001b[K     |██████████████████████████▋     | 102 kB 4.1 MB/s eta 0:00:01\r",
      "\u001b[K     |█████████████████████████████▎  | 112 kB 4.1 MB/s eta 0:00:01\r",
      "\u001b[K     |████████████████████████████████| 122 kB 4.1 MB/s eta 0:00:01\r",
      "\u001b[K     |████████████████████████████████| 123 kB 4.1 MB/s \n",
      "\u001b[?25h  Installing build dependencies ... \u001b[?25l\u001b[?25hdone\n",
      "  Getting requirements to build wheel ... \u001b[?25l\u001b[?25hdone\n",
      "    Preparing wheel metadata ... \u001b[?25l\u001b[?25hdone\n",
      "Requirement already satisfied: matplotlib in /usr/local/lib/python3.7/dist-packages (from dedalus) (3.2.2)\n",
      "Requirement already satisfied: pytest-cov in /usr/local/lib/python3.7/dist-packages (from dedalus) (2.9.0)\n",
      "Requirement already satisfied: pytest-benchmark in /usr/local/lib/python3.7/dist-packages (from dedalus) (3.4.1)\n",
      "Requirement already satisfied: h5py>=2.10.0 in /usr/local/lib/python3.7/dist-packages (from dedalus) (3.1.0)\n",
      "Requirement already satisfied: docopt in /usr/local/lib/python3.7/dist-packages (from dedalus) (0.6.2)\n",
      "Requirement already satisfied: mpi4py>=2.0.0 in /usr/local/lib/python3.7/dist-packages (from dedalus) (3.1.3)\n",
      "Requirement already satisfied: scipy>=0.13.0 in /usr/local/lib/python3.7/dist-packages (from dedalus) (1.4.1)\n",
      "Requirement already satisfied: pytest in /usr/local/lib/python3.7/dist-packages (from dedalus) (4.3.1)\n",
      "Requirement already satisfied: numpy in /usr/local/lib/python3.7/dist-packages (from dedalus) (1.21.5)\n",
      "Requirement already satisfied: cached-property in /usr/local/lib/python3.7/dist-packages (from h5py>=2.10.0->dedalus) (1.5.2)\n",
      "Requirement already satisfied: pyparsing!=2.0.4,!=2.1.2,!=2.1.6,>=2.0.1 in /usr/local/lib/python3.7/dist-packages (from matplotlib->dedalus) (3.0.7)\n",
      "Requirement already satisfied: cycler>=0.10 in /usr/local/lib/python3.7/dist-packages (from matplotlib->dedalus) (0.11.0)\n",
      "Requirement already satisfied: python-dateutil>=2.1 in /usr/local/lib/python3.7/dist-packages (from matplotlib->dedalus) (2.8.2)\n",
      "Requirement already satisfied: kiwisolver>=1.0.1 in /usr/local/lib/python3.7/dist-packages (from matplotlib->dedalus) (1.4.0)\n",
      "Requirement already satisfied: typing-extensions in /usr/local/lib/python3.7/dist-packages (from kiwisolver>=1.0.1->matplotlib->dedalus) (3.10.0.2)\n",
      "Requirement already satisfied: six>=1.5 in /usr/local/lib/python3.7/dist-packages (from python-dateutil>=2.1->matplotlib->dedalus) (1.15.0)\n",
      "Requirement already satisfied: attrs>=17.4.0 in /usr/local/lib/python3.7/dist-packages (from pytest->dedalus) (21.4.0)\n",
      "Requirement already satisfied: py>=1.5.0 in /usr/local/lib/python3.7/dist-packages (from pytest->dedalus) (1.11.0)\n",
      "Requirement already satisfied: pluggy>=0.7 in /usr/local/lib/python3.7/dist-packages (from pytest->dedalus) (0.7.1)\n",
      "Requirement already satisfied: setuptools in /usr/local/lib/python3.7/dist-packages (from pytest->dedalus) (57.4.0)\n",
      "Requirement already satisfied: atomicwrites>=1.0 in /usr/local/lib/python3.7/dist-packages (from pytest->dedalus) (1.4.0)\n",
      "Requirement already satisfied: more-itertools>=4.0.0 in /usr/local/lib/python3.7/dist-packages (from pytest->dedalus) (8.12.0)\n",
      "Requirement already satisfied: py-cpuinfo in /usr/local/lib/python3.7/dist-packages (from pytest-benchmark->dedalus) (8.0.0)\n",
      "Requirement already satisfied: coverage>=4.4 in /usr/local/lib/python3.7/dist-packages (from pytest-cov->dedalus) (6.3.2)\n",
      "Building wheels for collected packages: dedalus\n",
      "  Building wheel for dedalus (PEP 517) ... \u001b[?25l\u001b[?25hdone\n",
      "  Created wheel for dedalus: filename=dedalus-2.2006-cp37-cp37m-linux_x86_64.whl size=1289070 sha256=5ab90d3ead211c03f6130c8e908ce83f871e931dac23d31ece025506d0fa395a\n",
      "  Stored in directory: /root/.cache/pip/wheels/5d/fb/3a/61d89cbb71c8f0a01732855dd91d8f087b278cc00781093b4f\n",
      "Successfully built dedalus\n",
      "Installing collected packages: dedalus\n",
      "Successfully installed dedalus-2.2006\n"
     ]
    },
    {
     "data": {
      "application/vnd.colab-display-data+json": {
       "pip_warning": {
        "packages": [
         "dedalus"
        ]
       }
      }
     },
     "metadata": {},
     "output_type": "display_data"
    }
   ],
   "source": [
    "# for plotting \n",
    "!pip install dedalus"
   ]
  },
  {
   "cell_type": "code",
   "execution_count": null,
   "metadata": {
    "colab": {
     "base_uri": "https://localhost:8080/"
    },
    "executionInfo": {
     "elapsed": 2611,
     "status": "ok",
     "timestamp": 1649215410448,
     "user": {
      "displayName": "Eric Tseng",
      "userId": "16756084133469534332"
     },
     "user_tz": 240
    },
    "id": "ZEWkyd-xwQ3u",
    "outputId": "c3f88280-1e79-4b19-c44d-0d0de5857820"
   },
   "outputs": [
    {
     "name": "stdout",
     "output_type": "stream",
     "text": [
      "Mounted at /content/gdrive\n"
     ]
    }
   ],
   "source": [
    "from google.colab import drive\n",
    "drive.mount('/content/gdrive')\n",
    "\n"
   ]
  },
  {
   "cell_type": "code",
   "execution_count": null,
   "metadata": {
    "colab": {
     "base_uri": "https://localhost:8080/"
    },
    "executionInfo": {
     "elapsed": 7,
     "status": "ok",
     "timestamp": 1649217264249,
     "user": {
      "displayName": "Eric Tseng",
      "userId": "16756084133469534332"
     },
     "user_tz": 240
    },
    "id": "iYCJRb-fAhcq",
    "outputId": "120efc4e-53a0-4245-90e9-a71149fec4bd"
   },
   "outputs": [
    {
     "name": "stdout",
     "output_type": "stream",
     "text": [
      "/content/drive/MyDrive/website-hugo/chaos_and_predictability/week3/RB2D/2D_shallow_water_output/snapshots/snapshots_s10.h5\n",
      "/content/drive/MyDrive/website-hugo/chaos_and_predictability/week3/RB2D/2D_shallow_water_output/snapshots/snapshots_s11.h5\n",
      "/content/drive/MyDrive/website-hugo/chaos_and_predictability/week3/RB2D/2D_shallow_water_output/snapshots/snapshots_s12.h5\n",
      "/content/drive/MyDrive/website-hugo/chaos_and_predictability/week3/RB2D/2D_shallow_water_output/snapshots/snapshots_s13.h5\n",
      "/content/drive/MyDrive/website-hugo/chaos_and_predictability/week3/RB2D/2D_shallow_water_output/snapshots/snapshots_s14.h5\n",
      "/content/drive/MyDrive/website-hugo/chaos_and_predictability/week3/RB2D/2D_shallow_water_output/snapshots/snapshots_s15.h5\n",
      "/content/drive/MyDrive/website-hugo/chaos_and_predictability/week3/RB2D/2D_shallow_water_output/snapshots/snapshots_s16.h5\n",
      "/content/drive/MyDrive/website-hugo/chaos_and_predictability/week3/RB2D/2D_shallow_water_output/snapshots/snapshots_s17.h5\n",
      "/content/drive/MyDrive/website-hugo/chaos_and_predictability/week3/RB2D/2D_shallow_water_output/snapshots/snapshots_s18.h5\n",
      "/content/drive/MyDrive/website-hugo/chaos_and_predictability/week3/RB2D/2D_shallow_water_output/snapshots/snapshots_s19.h5\n",
      "/content/drive/MyDrive/website-hugo/chaos_and_predictability/week3/RB2D/2D_shallow_water_output/snapshots/snapshots_s1.h5\n",
      "/content/drive/MyDrive/website-hugo/chaos_and_predictability/week3/RB2D/2D_shallow_water_output/snapshots/snapshots_s20.h5\n",
      "/content/drive/MyDrive/website-hugo/chaos_and_predictability/week3/RB2D/2D_shallow_water_output/snapshots/snapshots_s21.h5\n",
      "/content/drive/MyDrive/website-hugo/chaos_and_predictability/week3/RB2D/2D_shallow_water_output/snapshots/snapshots_s22.h5\n",
      "/content/drive/MyDrive/website-hugo/chaos_and_predictability/week3/RB2D/2D_shallow_water_output/snapshots/snapshots_s23.h5\n",
      "/content/drive/MyDrive/website-hugo/chaos_and_predictability/week3/RB2D/2D_shallow_water_output/snapshots/snapshots_s24.h5\n",
      "/content/drive/MyDrive/website-hugo/chaos_and_predictability/week3/RB2D/2D_shallow_water_output/snapshots/snapshots_s25.h5\n",
      "/content/drive/MyDrive/website-hugo/chaos_and_predictability/week3/RB2D/2D_shallow_water_output/snapshots/snapshots_s26.h5\n",
      "/content/drive/MyDrive/website-hugo/chaos_and_predictability/week3/RB2D/2D_shallow_water_output/snapshots/snapshots_s27.h5\n",
      "/content/drive/MyDrive/website-hugo/chaos_and_predictability/week3/RB2D/2D_shallow_water_output/snapshots/snapshots_s28.h5\n",
      "/content/drive/MyDrive/website-hugo/chaos_and_predictability/week3/RB2D/2D_shallow_water_output/snapshots/snapshots_s29.h5\n",
      "/content/drive/MyDrive/website-hugo/chaos_and_predictability/week3/RB2D/2D_shallow_water_output/snapshots/snapshots_s2.h5\n",
      "/content/drive/MyDrive/website-hugo/chaos_and_predictability/week3/RB2D/2D_shallow_water_output/snapshots/snapshots_s30.h5\n",
      "/content/drive/MyDrive/website-hugo/chaos_and_predictability/week3/RB2D/2D_shallow_water_output/snapshots/snapshots_s31.h5\n",
      "/content/drive/MyDrive/website-hugo/chaos_and_predictability/week3/RB2D/2D_shallow_water_output/snapshots/snapshots_s32.h5\n",
      "/content/drive/MyDrive/website-hugo/chaos_and_predictability/week3/RB2D/2D_shallow_water_output/snapshots/snapshots_s33.h5\n",
      "/content/drive/MyDrive/website-hugo/chaos_and_predictability/week3/RB2D/2D_shallow_water_output/snapshots/snapshots_s34.h5\n",
      "/content/drive/MyDrive/website-hugo/chaos_and_predictability/week3/RB2D/2D_shallow_water_output/snapshots/snapshots_s35.h5\n",
      "/content/drive/MyDrive/website-hugo/chaos_and_predictability/week3/RB2D/2D_shallow_water_output/snapshots/snapshots_s36.h5\n",
      "/content/drive/MyDrive/website-hugo/chaos_and_predictability/week3/RB2D/2D_shallow_water_output/snapshots/snapshots_s3.h5\n",
      "/content/drive/MyDrive/website-hugo/chaos_and_predictability/week3/RB2D/2D_shallow_water_output/snapshots/snapshots_s4.h5\n",
      "/content/drive/MyDrive/website-hugo/chaos_and_predictability/week3/RB2D/2D_shallow_water_output/snapshots/snapshots_s5.h5\n",
      "/content/drive/MyDrive/website-hugo/chaos_and_predictability/week3/RB2D/2D_shallow_water_output/snapshots/snapshots_s6.h5\n",
      "/content/drive/MyDrive/website-hugo/chaos_and_predictability/week3/RB2D/2D_shallow_water_output/snapshots/snapshots_s7.h5\n",
      "/content/drive/MyDrive/website-hugo/chaos_and_predictability/week3/RB2D/2D_shallow_water_output/snapshots/snapshots_s8.h5\n",
      "/content/drive/MyDrive/website-hugo/chaos_and_predictability/week3/RB2D/2D_shallow_water_output/snapshots/snapshots_s9.h5\n"
     ]
    }
   ],
   "source": [
    "!ls /content/drive/MyDrive/website-hugo/chaos_and_predictability/week3/RB2D/2D_shallow_water_output/snapshots/snapshots_s*.h5"
   ]
  },
  {
   "cell_type": "code",
   "execution_count": null,
   "metadata": {
    "id": "qLVnA1zX_O6Q"
   },
   "outputs": [],
   "source": [
    "!mv /content/drive/MyDrive/website-hugo/chaos_and_predictability/week3/RB2D/2D_shallow_water_output/snapshots /content/snapshots "
   ]
  },
  {
   "cell_type": "code",
   "execution_count": null,
   "metadata": {
    "colab": {
     "base_uri": "https://localhost:8080/",
     "height": 345
    },
    "executionInfo": {
     "elapsed": 292,
     "status": "error",
     "timestamp": 1649217485825,
     "user": {
      "displayName": "Eric Tseng",
      "userId": "16756084133469534332"
     },
     "user_tz": 240
    },
    "id": "06EyHQsl_sGM",
    "outputId": "450e6767-8a3d-4f79-cc8c-dc2cbd3cdd34"
   },
   "outputs": [
    {
     "name": "stdout",
     "output_type": "stream",
     "text": [
      "2022-04-06 03:58:05,000 post 0/1 INFO :: Merging files from snapshots\n"
     ]
    },
    {
     "ename": "ValueError",
     "evalue": "ignored",
     "output_type": "error",
     "traceback": [
      "\u001b[0;31m---------------------------------------------------------------------------\u001b[0m",
      "\u001b[0;31mValueError\u001b[0m                                Traceback (most recent call last)",
      "\u001b[0;32m<ipython-input-8-c99b0d5c0d75>\u001b[0m in \u001b[0;36m<module>\u001b[0;34m()\u001b[0m\n\u001b[1;32m      6\u001b[0m \u001b[0mpost\u001b[0m\u001b[0;34m.\u001b[0m\u001b[0mmerge_process_files\u001b[0m\u001b[0;34m(\u001b[0m\u001b[0;34m\"snapshots\"\u001b[0m\u001b[0;34m,\u001b[0m \u001b[0mcleanup\u001b[0m\u001b[0;34m=\u001b[0m\u001b[0;32mTrue\u001b[0m\u001b[0;34m)\u001b[0m\u001b[0;34m\u001b[0m\u001b[0;34m\u001b[0m\u001b[0m\n\u001b[1;32m      7\u001b[0m \u001b[0mset_paths\u001b[0m \u001b[0;34m=\u001b[0m \u001b[0mlist\u001b[0m\u001b[0;34m(\u001b[0m\u001b[0mpathlib\u001b[0m\u001b[0;34m.\u001b[0m\u001b[0mPath\u001b[0m\u001b[0;34m(\u001b[0m\u001b[0;34m\"snapshots\"\u001b[0m\u001b[0;34m)\u001b[0m\u001b[0;34m.\u001b[0m\u001b[0mglob\u001b[0m\u001b[0;34m(\u001b[0m\u001b[0;34m\"snapshots_s*.h5\"\u001b[0m\u001b[0;34m)\u001b[0m\u001b[0;34m)\u001b[0m\u001b[0;34m\u001b[0m\u001b[0;34m\u001b[0m\u001b[0m\n\u001b[0;32m----> 8\u001b[0;31m \u001b[0mpost\u001b[0m\u001b[0;34m.\u001b[0m\u001b[0mmerge_sets\u001b[0m\u001b[0;34m(\u001b[0m\u001b[0;34m\"snapshots/snapshots.h5\"\u001b[0m\u001b[0;34m,\u001b[0m \u001b[0mset_paths\u001b[0m\u001b[0;34m,\u001b[0m \u001b[0mcleanup\u001b[0m\u001b[0;34m=\u001b[0m\u001b[0;32mTrue\u001b[0m\u001b[0;34m)\u001b[0m\u001b[0;34m\u001b[0m\u001b[0;34m\u001b[0m\u001b[0m\n\u001b[0m",
      "\u001b[0;32m/usr/local/lib/python3.7/dist-packages/dedalus/tools/post.py\u001b[0m in \u001b[0;36mmerge_sets\u001b[0;34m(joint_path, set_paths, cleanup, comm)\u001b[0m\n\u001b[1;32m    289\u001b[0m         \u001b[0;32mwith\u001b[0m \u001b[0mh5py\u001b[0m\u001b[0;34m.\u001b[0m\u001b[0mFile\u001b[0m\u001b[0;34m(\u001b[0m\u001b[0mstr\u001b[0m\u001b[0;34m(\u001b[0m\u001b[0mset_path\u001b[0m\u001b[0;34m)\u001b[0m\u001b[0;34m,\u001b[0m \u001b[0mmode\u001b[0m\u001b[0;34m=\u001b[0m\u001b[0;34m'r'\u001b[0m\u001b[0;34m)\u001b[0m \u001b[0;32mas\u001b[0m \u001b[0mfile\u001b[0m\u001b[0;34m:\u001b[0m\u001b[0;34m\u001b[0m\u001b[0;34m\u001b[0m\u001b[0m\n\u001b[1;32m    290\u001b[0m             \u001b[0mset_starts\u001b[0m\u001b[0;34m.\u001b[0m\u001b[0mappend\u001b[0m\u001b[0;34m(\u001b[0m\u001b[0mnp\u001b[0m\u001b[0;34m.\u001b[0m\u001b[0mmin\u001b[0m\u001b[0;34m(\u001b[0m\u001b[0mfile\u001b[0m\u001b[0;34m[\u001b[0m\u001b[0;34m'scales'\u001b[0m\u001b[0;34m]\u001b[0m\u001b[0;34m[\u001b[0m\u001b[0;34m'sim_time'\u001b[0m\u001b[0;34m]\u001b[0m\u001b[0;34m[\u001b[0m\u001b[0;34m:\u001b[0m\u001b[0;34m]\u001b[0m\u001b[0;34m)\u001b[0m\u001b[0;34m)\u001b[0m\u001b[0;34m\u001b[0m\u001b[0;34m\u001b[0m\u001b[0m\n\u001b[0;32m--> 291\u001b[0;31m     \u001b[0mset_starts\u001b[0m\u001b[0;34m,\u001b[0m \u001b[0mset_paths\u001b[0m \u001b[0;34m=\u001b[0m \u001b[0mzip\u001b[0m\u001b[0;34m(\u001b[0m\u001b[0;34m*\u001b[0m\u001b[0;34m[\u001b[0m\u001b[0mpair\u001b[0m \u001b[0;32mfor\u001b[0m \u001b[0mpair\u001b[0m \u001b[0;32min\u001b[0m \u001b[0msorted\u001b[0m\u001b[0;34m(\u001b[0m\u001b[0mzip\u001b[0m\u001b[0;34m(\u001b[0m\u001b[0mset_starts\u001b[0m\u001b[0;34m,\u001b[0m \u001b[0mset_paths\u001b[0m\u001b[0;34m)\u001b[0m\u001b[0;34m)\u001b[0m\u001b[0;34m]\u001b[0m\u001b[0;34m)\u001b[0m\u001b[0;34m\u001b[0m\u001b[0;34m\u001b[0m\u001b[0m\n\u001b[0m\u001b[1;32m    292\u001b[0m \u001b[0;34m\u001b[0m\u001b[0m\n\u001b[1;32m    293\u001b[0m     \u001b[0;31m# Find number of writes to extract from each set\u001b[0m\u001b[0;34m\u001b[0m\u001b[0;34m\u001b[0m\u001b[0;34m\u001b[0m\u001b[0m\n",
      "\u001b[0;31mValueError\u001b[0m: not enough values to unpack (expected 2, got 0)"
     ]
    }
   ],
   "source": [
    "import pathlib\n",
    "import dedalus.public as de\n",
    "from dedalus.extras import flow_tools\n",
    "from dedalus.tools import post\n",
    "#Merging analysis files\n",
    "post.merge_process_files(\"snapshots\", cleanup=True)\n",
    "set_paths = list(pathlib.Path(\"snapshots\").glob(\"snapshots_s*.h5\"))\n",
    "post.merge_sets(\"snapshots/snapshots.h5\", set_paths, cleanup=True)"
   ]
  },
  {
   "cell_type": "code",
   "execution_count": null,
   "metadata": {
    "id": "5y6nmSUuyaX_"
   },
   "outputs": [],
   "source": [
    "def build_s2_coord_vertices(phi, theta):\n",
    "    phi = phi.ravel()\n",
    "    phi_vert = np.concatenate([phi, [2*np.pi]])\n",
    "    phi_vert -= phi_vert[1] / 2\n",
    "    theta = theta.ravel()\n",
    "    theta_mid = (theta[:-1] + theta[1:]) / 2\n",
    "    theta_vert = np.concatenate([[np.pi], theta_mid, [0]])\n",
    "    return np.meshgrid(phi_vert, theta_vert, indexing='ij')\n",
    "\n",
    "def main(filename, start, count, output):\n",
    "    \"\"\"Save plot of specified tasks for given range of analysis writes.\"\"\"\n",
    "    # Plot settings\n",
    "    task = 'vorticity'\n",
    "    cmap = plt.cm.RdBu_r\n",
    "    dpi = 100\n",
    "    figsize = (8, 8)\n",
    "    savename_func = lambda write: 'write_{:06}.png'.format(write)\n",
    "    # Create figure\n",
    "    fig = plt.figure(figsize=figsize)\n",
    "    ax = fig.add_axes([0, 0, 1, 1], projection='3d')\n",
    "    # Plot writes\n",
    "    with h5py.File(filename, mode='r') as file:\n",
    "        dset = file['tasks'][task]\n",
    "        phi = dset.dims[1][0][:].ravel()\n",
    "        theta = dset.dims[2][0][:].ravel()\n",
    "        phi_vert, theta_vert = build_s2_coord_vertices(phi, theta)\n",
    "        x = np.sin(theta_vert) * np.cos(phi_vert)\n",
    "        y = np.sin(theta_vert) * np.sin(phi_vert)\n",
    "        z = np.cos(theta_vert)\n",
    "        for index in range(start, start+count):\n",
    "            data_slices = (index, slice(None), slice(None))\n",
    "            data = dset[data_slices]\n",
    "            clim = np.max(np.abs(data))\n",
    "            norm = matplotlib.colors.Normalize(-clim, clim)\n",
    "            fc = cmap(norm(data))\n",
    "            #fc[:, theta.size//2, :] = [0,0,0,1]  # black equator\n",
    "            if index == start:\n",
    "                surf = ax.plot_surface(x, y, z, facecolors=fc, cstride=1, rstride=1, linewidth=0, antialiased=False, shade=False, zorder=5)\n",
    "                ax.set_box_aspect((1,1,1))\n",
    "                ax.set_xlim(-0.7, 0.7)\n",
    "                ax.set_ylim(-0.7, 0.7)\n",
    "                ax.set_zlim(-0.7, 0.7)\n",
    "                ax.axis('off')\n",
    "            else:\n",
    "                surf.set_facecolors(fc.reshape(fc.size//4, 4))\n",
    "            # Save figure\n",
    "            savename = savename_func(file['scales/write_number'][index])\n",
    "            savepath = output.joinpath(savename)\n",
    "            fig.savefig(str(savepath), dpi=dpi)\n",
    "    plt.close(fig)"
   ]
  },
  {
   "cell_type": "code",
   "execution_count": null,
   "metadata": {
    "colab": {
     "base_uri": "https://localhost:8080/"
    },
    "executionInfo": {
     "elapsed": 1502,
     "status": "ok",
     "timestamp": 1649219570889,
     "user": {
      "displayName": "Eric Tseng",
      "userId": "16756084133469534332"
     },
     "user_tz": 240
    },
    "id": "Pq-w34ApBkWh",
    "outputId": "8aee2971-c64c-44da-bd39-2262b991c3d0"
   },
   "outputs": [
    {
     "name": "stdout",
     "output_type": "stream",
     "text": [
      "rm: cannot remove 'list.txt': No such file or directory\n"
     ]
    }
   ],
   "source": [
    "!rm list.txt\n",
    "import os\n",
    "for i in range(1,37):\n",
    "    os.system('ls /content/drive/MyDrive/website-hugo/chaos_and_predictability/week3/RB2D/2D_shallow_water_output/snapshots/snapshots_s'+str(i)+'.h5 >> list.txt')"
   ]
  },
  {
   "cell_type": "code",
   "execution_count": null,
   "metadata": {
    "id": "Ok7sR9KEGxhd"
   },
   "outputs": [],
   "source": [
    "!mkdir /content/drive/MyDrive/website-hugo/chaos_and_predictability/week3/RB2D/2D_shallow_water_output/figures"
   ]
  },
  {
   "cell_type": "code",
   "execution_count": null,
   "metadata": {
    "colab": {
     "base_uri": "https://localhost:8080/"
    },
    "executionInfo": {
     "elapsed": 645,
     "status": "ok",
     "timestamp": 1649220090631,
     "user": {
      "displayName": "Eric Tseng",
      "userId": "16756084133469534332"
     },
     "user_tz": 240
    },
    "id": "r0aPRRN2IkuE",
    "outputId": "6a2bc391-19dd-4ac5-cc9d-faf556dea8cc"
   },
   "outputs": [
    {
     "name": "stdout",
     "output_type": "stream",
     "text": [
      "/content/drive/MyDrive/website-hugo/chaos_and_predictability/week3/RB2D/2D_shallow_water_output/snapshots/snapshots_s1.h5\n",
      "/content/drive/MyDrive/website-hugo/chaos_and_predictability/week3/RB2D/2D_shallow_water_output/snapshots/snapshots_s2.h5\n",
      "/content/drive/MyDrive/website-hugo/chaos_and_predictability/week3/RB2D/2D_shallow_water_output/snapshots/snapshots_s3.h5\n",
      "/content/drive/MyDrive/website-hugo/chaos_and_predictability/week3/RB2D/2D_shallow_water_output/snapshots/snapshots_s4.h5\n",
      "/content/drive/MyDrive/website-hugo/chaos_and_predictability/week3/RB2D/2D_shallow_water_output/snapshots/snapshots_s5.h5\n",
      "/content/drive/MyDrive/website-hugo/chaos_and_predictability/week3/RB2D/2D_shallow_water_output/snapshots/snapshots_s6.h5\n",
      "/content/drive/MyDrive/website-hugo/chaos_and_predictability/week3/RB2D/2D_shallow_water_output/snapshots/snapshots_s7.h5\n",
      "/content/drive/MyDrive/website-hugo/chaos_and_predictability/week3/RB2D/2D_shallow_water_output/snapshots/snapshots_s8.h5\n",
      "/content/drive/MyDrive/website-hugo/chaos_and_predictability/week3/RB2D/2D_shallow_water_output/snapshots/snapshots_s9.h5\n",
      "/content/drive/MyDrive/website-hugo/chaos_and_predictability/week3/RB2D/2D_shallow_water_output/snapshots/snapshots_s10.h5\n",
      "/content/drive/MyDrive/website-hugo/chaos_and_predictability/week3/RB2D/2D_shallow_water_output/snapshots/snapshots_s11.h5\n",
      "/content/drive/MyDrive/website-hugo/chaos_and_predictability/week3/RB2D/2D_shallow_water_output/snapshots/snapshots_s12.h5\n",
      "/content/drive/MyDrive/website-hugo/chaos_and_predictability/week3/RB2D/2D_shallow_water_output/snapshots/snapshots_s13.h5\n",
      "/content/drive/MyDrive/website-hugo/chaos_and_predictability/week3/RB2D/2D_shallow_water_output/snapshots/snapshots_s14.h5\n",
      "/content/drive/MyDrive/website-hugo/chaos_and_predictability/week3/RB2D/2D_shallow_water_output/snapshots/snapshots_s15.h5\n",
      "/content/drive/MyDrive/website-hugo/chaos_and_predictability/week3/RB2D/2D_shallow_water_output/snapshots/snapshots_s16.h5\n",
      "/content/drive/MyDrive/website-hugo/chaos_and_predictability/week3/RB2D/2D_shallow_water_output/snapshots/snapshots_s17.h5\n",
      "/content/drive/MyDrive/website-hugo/chaos_and_predictability/week3/RB2D/2D_shallow_water_output/snapshots/snapshots_s18.h5\n",
      "/content/drive/MyDrive/website-hugo/chaos_and_predictability/week3/RB2D/2D_shallow_water_output/snapshots/snapshots_s19.h5\n",
      "/content/drive/MyDrive/website-hugo/chaos_and_predictability/week3/RB2D/2D_shallow_water_output/snapshots/snapshots_s20.h5\n",
      "/content/drive/MyDrive/website-hugo/chaos_and_predictability/week3/RB2D/2D_shallow_water_output/snapshots/snapshots_s21.h5\n",
      "/content/drive/MyDrive/website-hugo/chaos_and_predictability/week3/RB2D/2D_shallow_water_output/snapshots/snapshots_s22.h5\n",
      "/content/drive/MyDrive/website-hugo/chaos_and_predictability/week3/RB2D/2D_shallow_water_output/snapshots/snapshots_s23.h5\n",
      "/content/drive/MyDrive/website-hugo/chaos_and_predictability/week3/RB2D/2D_shallow_water_output/snapshots/snapshots_s24.h5\n",
      "/content/drive/MyDrive/website-hugo/chaos_and_predictability/week3/RB2D/2D_shallow_water_output/snapshots/snapshots_s25.h5\n",
      "/content/drive/MyDrive/website-hugo/chaos_and_predictability/week3/RB2D/2D_shallow_water_output/snapshots/snapshots_s26.h5\n",
      "/content/drive/MyDrive/website-hugo/chaos_and_predictability/week3/RB2D/2D_shallow_water_output/snapshots/snapshots_s27.h5\n",
      "/content/drive/MyDrive/website-hugo/chaos_and_predictability/week3/RB2D/2D_shallow_water_output/snapshots/snapshots_s28.h5\n",
      "/content/drive/MyDrive/website-hugo/chaos_and_predictability/week3/RB2D/2D_shallow_water_output/snapshots/snapshots_s29.h5\n",
      "/content/drive/MyDrive/website-hugo/chaos_and_predictability/week3/RB2D/2D_shallow_water_output/snapshots/snapshots_s30.h5\n",
      "/content/drive/MyDrive/website-hugo/chaos_and_predictability/week3/RB2D/2D_shallow_water_output/snapshots/snapshots_s31.h5\n",
      "/content/drive/MyDrive/website-hugo/chaos_and_predictability/week3/RB2D/2D_shallow_water_output/snapshots/snapshots_s32.h5\n",
      "/content/drive/MyDrive/website-hugo/chaos_and_predictability/week3/RB2D/2D_shallow_water_output/snapshots/snapshots_s33.h5\n",
      "/content/drive/MyDrive/website-hugo/chaos_and_predictability/week3/RB2D/2D_shallow_water_output/snapshots/snapshots_s34.h5\n",
      "/content/drive/MyDrive/website-hugo/chaos_and_predictability/week3/RB2D/2D_shallow_water_output/snapshots/snapshots_s35.h5\n",
      "/content/drive/MyDrive/website-hugo/chaos_and_predictability/week3/RB2D/2D_shallow_water_output/snapshots/snapshots_s36.h5\n"
     ]
    }
   ],
   "source": [
    "with open('list.txt') as f:\n",
    "     for line in f:\n",
    "          newstr = line.strip()\n",
    "          print(newstr)\n",
    "          f   = h5py.File(newstr, 'r')"
   ]
  },
  {
   "cell_type": "code",
   "execution_count": null,
   "metadata": {
    "id": "OOP9BittCQhx"
   },
   "outputs": [],
   "source": [
    "import numpy as np\n",
    "import h5py\n",
    "import matplotlib.pyplot as plt\n",
    "import matplotlib \n",
    "\n",
    "\n",
    "def build_s2_coord_vertices(phi, theta):\n",
    "    phi = phi.ravel()\n",
    "    phi_vert = np.concatenate([phi, [2*np.pi]])\n",
    "    phi_vert -= phi_vert[1] / 2\n",
    "    theta = theta.ravel()\n",
    "    theta_mid = (theta[:-1] + theta[1:]) / 2\n",
    "    theta_vert = np.concatenate([[np.pi], theta_mid, [0]])\n",
    "    return np.meshgrid(phi_vert, theta_vert, indexing='ij')\n",
    "\n",
    "count=0\n",
    "with open('list.txt') as f:\n",
    "     for line in f:\n",
    "          newstr = line.strip()\n",
    "          print(newstr)\n",
    "          f   = h5py.File(newstr, 'r')\n",
    "          vor = f['tasks']['vorticity']\n",
    "          dim = np.shape(vor)\n",
    "          # Plot settings\n",
    "          task = 'vorticity'\n",
    "          cmap = plt.cm.RdBu_r\n",
    "          dpi = 100\n",
    "          figsize = (8, 8)\n",
    "          fig = plt.figure(figsize=figsize)\n",
    "          ax = fig.add_axes([0, 0, 1, 1], projection='3d')\n",
    "          #plt.contourf(vor[0,:,:].T)\n",
    "          phi = vor.dims[1][0][:].ravel()\n",
    "          theta = vor.dims[2][0][:].ravel()\n",
    "          phi_vert, theta_vert = build_s2_coord_vertices(phi, theta)\n",
    "          x = np.sin(theta_vert) * np.cos(phi_vert)\n",
    "          y = np.sin(theta_vert) * np.sin(phi_vert)\n",
    "          z = np.cos(theta_vert)\n",
    "          for index in range(1, dim[0]):\n",
    "              data_slices = (index, slice(None), slice(None))\n",
    "              data = vor[data_slices]\n",
    "              clim = np.max(np.abs(data))\n",
    "              norm = matplotlib.colors.Normalize(-clim, clim)\n",
    "              fc = cmap(norm(data))\n",
    "              #fc[:, theta.size//2, :] = [0,0,0,1]  # black equator\n",
    "              if index == 1:\n",
    "                  surf = ax.plot_surface(x, y, z, facecolors=fc, cstride=1, rstride=1, linewidth=0, antialiased=False, shade=False, zorder=5)\n",
    "                  #ax.set_box_aspect((1,1,1))\n",
    "                  ax.set_xlim(-0.7, 0.7)\n",
    "                  ax.set_ylim(-0.7, 0.7)\n",
    "                  ax.set_zlim(-0.7, 0.7)\n",
    "                  ax.axis('off')\n",
    "              else:\n",
    "                  surf.set_facecolors(fc.reshape(fc.size//4, 4))\n",
    "              count=count+1\n",
    "              fig.savefig(\"/content/drive/MyDrive/website-hugo/chaos_and_predictability/week3/RB2D/2D_shallow_water_output/figures/\"+str(count).zfill(3)+'.png', dpi=dpi)\n",
    "          plt.close(fig)"
   ]
  },
  {
   "cell_type": "code",
   "execution_count": null,
   "metadata": {
    "id": "1K4hptL7NUsH"
   },
   "outputs": [],
   "source": [
    "import glob\n",
    "from PIL import Image\n",
    "\n",
    "# filepaths\n",
    "fp_in = \"/content/drive/MyDrive/website-hugo/chaos_and_predictability/week3/RB2D/2D_shallow_water_output/figures/*.png\"\n",
    "fp_out = \"/content/drive/MyDrive/website-hugo/chaos_and_predictability/week3/RB2D/2D_shallow_water_output/figures/image.gif\"\n",
    "\n",
    "# https://pillow.readthedocs.io/en/stable/handbook/image-file-formats.html#gif\n",
    "imgs = (Image.open(f) for f in sorted(glob.glob(fp_in)))\n",
    "img = next(imgs)  # extract first image from iterator\n",
    "img.save(fp=fp_out, format='GIF', append_images=imgs,\n",
    "         save_all=True, duration=10, loop=0)"
   ]
  },
  {
   "cell_type": "code",
   "execution_count": null,
   "metadata": {
    "id": "Zhp57SkdQYH8"
   },
   "outputs": [],
   "source": [
    "for count in range(1,316):\n",
    "    os.system('mv /content/drive/MyDrive/website-hugo/chaos_and_predictability/week3/RB2D/2D_shallow_water_output/figures/'+str(count)+'.png /content/drive/MyDrive/website-hugo/chaos_and_predictability/week3/RB2D/2D_shallow_water_output/figures/'+str(count).zfill(3)+'.png')"
   ]
  },
  {
   "cell_type": "code",
   "execution_count": null,
   "metadata": {
    "id": "HwCvBmdOLxCQ"
   },
   "outputs": [],
   "source": [
    "f   = h5py.File('/content/drive/MyDrive/website-hugo/chaos_and_predictability/week3/RB2D/2D_shallow_water_output/snapshots/snapshots_s2.h5', 'r')\n",
    "vor = f['tasks']['vorticity']"
   ]
  },
  {
   "cell_type": "code",
   "execution_count": null,
   "metadata": {
    "id": "T1b8szbgcjxf"
   },
   "outputs": [],
   "source": [
    "def eq_eval(eq_str):\n",
    "    return [eval(expr) for expr in split_equation(eq_str)]"
   ]
  },
  {
   "cell_type": "code",
   "execution_count": null,
   "metadata": {
    "colab": {
     "base_uri": "https://localhost:8080/",
     "height": 239
    },
    "executionInfo": {
     "elapsed": 269,
     "status": "error",
     "timestamp": 1649358839050,
     "user": {
      "displayName": "Eric Tseng",
      "userId": "16756084133469534332"
     },
     "user_tz": 240
    },
    "id": "I2ByPo6DclqN",
    "outputId": "7fe29707-594b-408e-9854-0a46eb104e59"
   },
   "outputs": [
    {
     "ename": "NameError",
     "evalue": "ignored",
     "output_type": "error",
     "traceback": [
      "\u001b[0;31m---------------------------------------------------------------------------\u001b[0m",
      "\u001b[0;31mNameError\u001b[0m                                 Traceback (most recent call last)",
      "\u001b[0;32m<ipython-input-2-f1c3dc5bb1e9>\u001b[0m in \u001b[0;36m<module>\u001b[0;34m()\u001b[0m\n\u001b[0;32m----> 1\u001b[0;31m \u001b[0meq_eval\u001b[0m\u001b[0;34m(\u001b[0m\u001b[0;34m\"u = 0\"\u001b[0m\u001b[0;34m)\u001b[0m\u001b[0;34m\u001b[0m\u001b[0;34m\u001b[0m\u001b[0m\n\u001b[0m",
      "\u001b[0;32m<ipython-input-1-78d4b9596683>\u001b[0m in \u001b[0;36meq_eval\u001b[0;34m(eq_str)\u001b[0m\n\u001b[1;32m      1\u001b[0m \u001b[0;32mdef\u001b[0m \u001b[0meq_eval\u001b[0m\u001b[0;34m(\u001b[0m\u001b[0meq_str\u001b[0m\u001b[0;34m)\u001b[0m\u001b[0;34m:\u001b[0m\u001b[0;34m\u001b[0m\u001b[0;34m\u001b[0m\u001b[0m\n\u001b[0;32m----> 2\u001b[0;31m     \u001b[0;32mreturn\u001b[0m \u001b[0;34m[\u001b[0m\u001b[0meval\u001b[0m\u001b[0;34m(\u001b[0m\u001b[0mexpr\u001b[0m\u001b[0;34m)\u001b[0m \u001b[0;32mfor\u001b[0m \u001b[0mexpr\u001b[0m \u001b[0;32min\u001b[0m \u001b[0msplit_equation\u001b[0m\u001b[0;34m(\u001b[0m\u001b[0meq_str\u001b[0m\u001b[0;34m)\u001b[0m\u001b[0;34m]\u001b[0m\u001b[0;34m\u001b[0m\u001b[0;34m\u001b[0m\u001b[0m\n\u001b[0m",
      "\u001b[0;31mNameError\u001b[0m: name 'split_equation' is not defined"
     ]
    }
   ],
   "source": [
    "eq_eval(\"u = 0\")"
   ]
  }
 ],
 "metadata": {
  "colab": {
   "authorship_tag": "ABX9TyNNwZE6vOR+vL6CTit6LFUr",
   "machine_shape": "hm",
   "mount_file_id": "1TRKOUDThoid9cqG8UdRy-VxYlZHdWXNz",
   "name": "Spherical_shallow_water.ipynb",
   "provenance": []
  },
  "kernelspec": {
   "display_name": "Python 3",
   "name": "python3"
  },
  "language_info": {
   "codemirror_mode": {
    "name": "ipython",
    "version": 3
   },
   "file_extension": ".py",
   "mimetype": "text/x-python",
   "name": "python",
   "nbconvert_exporter": "python",
   "pygments_lexer": "ipython3",
   "version": "3.8.12"
  }
 },
 "nbformat": 4,
 "nbformat_minor": 0
}