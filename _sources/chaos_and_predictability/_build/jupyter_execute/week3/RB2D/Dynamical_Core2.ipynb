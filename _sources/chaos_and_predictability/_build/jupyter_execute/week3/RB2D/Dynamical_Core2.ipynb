{
 "cells": [
  {
   "cell_type": "code",
   "execution_count": 1,
   "metadata": {
    "colab": {
     "base_uri": "https://localhost:8080/"
    },
    "executionInfo": {
     "elapsed": 201343,
     "status": "ok",
     "timestamp": 1652117226430,
     "user": {
      "displayName": "Eric Tseng",
      "userId": "16756084133469534332"
     },
     "user_tz": 240
    },
    "id": "4-owkXZigFe7",
    "outputId": "e2450170-26b1-4edf-bda0-e652632cef82"
   },
   "outputs": [
    {
     "name": "stdout",
     "output_type": "stream",
     "text": [
      "/bin/bash: apt-get: command not found\r\n"
     ]
    },
    {
     "name": "stdout",
     "output_type": "stream",
     "text": [
      "/bin/bash: apt-get: command not found\r\n"
     ]
    },
    {
     "name": "stdout",
     "output_type": "stream",
     "text": [
      "Collecting http://github.com/dedalusproject/dedalus/zipball/d3/\r\n"
     ]
    },
    {
     "name": "stdout",
     "output_type": "stream",
     "text": [
      "  Downloading http://github.com/dedalusproject/dedalus/zipball/d3/\r\n",
      "\r",
      "\u001b[K     - 10kB 17.4MB/s"
     ]
    },
    {
     "name": "stdout",
     "output_type": "stream",
     "text": [
      "\r",
      "\u001b[K     \\ 20kB 392kB/s\r",
      "\u001b[K     | 30kB 581kB/s\r",
      "\u001b[K     / 40kB 770kB/s\r",
      "\u001b[K     - 51kB 957kB/s\r",
      "\u001b[K     \\ 61kB 1.1MB/s\r",
      "\u001b[K     | 71kB 1.3MB/s\r",
      "\u001b[K     / 81kB 1.5MB/s\r",
      "\u001b[K     - 92kB 1.7MB/s\r",
      "\u001b[K     \\ 102kB 1.9MB/s"
     ]
    },
    {
     "name": "stdout",
     "output_type": "stream",
     "text": [
      "\r",
      "\u001b[K     | 112kB 996kB/s\r",
      "\u001b[K     / 122kB 2.0MB/s\r",
      "\u001b[K     - 133kB 2.0MB/s\r",
      "\u001b[K     \\ 143kB 2.0MB/s\r",
      "\u001b[K     | 153kB 2.0MB/s\r",
      "\u001b[K     / 163kB 2.0MB/s\r",
      "\u001b[K     - 174kB 2.0MB/s\r",
      "\u001b[K     \\ 184kB 2.0MB/s\r",
      "\u001b[K     | 194kB 2.0MB/s\r",
      "\u001b[K     / 204kB 2.0MB/s\r",
      "\u001b[K     - 215kB 28.5MB/s\r",
      "\u001b[K     \\ 225kB 17.2MB/s\r",
      "\u001b[K     | 235kB 17.8MB/s\r",
      "\u001b[K     / 245kB 18.1MB/s\r",
      "\u001b[K     - 256kB 18.4MB/s\r",
      "\u001b[K     \\ 266kB 11.5MB/s\r",
      "\u001b[K     | 276kB 11.4MB/s"
     ]
    },
    {
     "name": "stdout",
     "output_type": "stream",
     "text": [
      "\r",
      "\u001b[K     / 286kB 2.1MB/s\r",
      "\u001b[K     - 296kB 2.1MB/s\r",
      "\u001b[K     \\ 307kB 2.0MB/s\r",
      "\u001b[K     | 317kB 2.1MB/s\r",
      "\u001b[K     / 327kB 2.1MB/s\r",
      "\u001b[K     - 337kB 2.1MB/s\r",
      "\u001b[K     \\ 348kB 2.0MB/s\r",
      "\u001b[K     | 358kB 2.0MB/s\r",
      "\u001b[K     / 368kB 2.1MB/s\r",
      "\u001b[K     - 378kB 2.0MB/s\r",
      "\u001b[K     \\ 389kB 7.4MB/s\r",
      "\u001b[K     | 399kB 6.8MB/s\r",
      "\u001b[K     / 409kB 6.8MB/s"
     ]
    },
    {
     "name": "stdout",
     "output_type": "stream",
     "text": [
      "\r",
      "\u001b[K     - 419kB 5.2MB/s\r",
      "\u001b[K     \\ 430kB 5.5MB/s\r",
      "\u001b[K     | 440kB 5.7MB/s\r",
      "\u001b[K     / 450kB 6.2MB/s\r",
      "\u001b[K     - 460kB 5.9MB/s\r",
      "\u001b[K     \\ 471kB 6.5MB/s\r",
      "\u001b[K     | 481kB 6.2MB/s\r",
      "\u001b[K     / 491kB 7.9MB/s\r",
      "\u001b[K     - 501kB 3.1MB/s\r",
      "\u001b[K     \\ 512kB 3.1MB/s\r",
      "\u001b[K     | 522kB 2.9MB/s\r",
      "\u001b[K     / 532kB 2.9MB/s\r",
      "\u001b[K     - 542kB 2.8MB/s\r",
      "\u001b[K     \\ 552kB 2.7MB/s\r",
      "\u001b[K     | 563kB 2.7MB/s\r",
      "\u001b[K     / 573kB 2.7MB/s\r",
      "\u001b[K     - 583kB 2.5MB/s\r",
      "\u001b[K     \\ 593kB 2.4MB/s"
     ]
    },
    {
     "name": "stdout",
     "output_type": "stream",
     "text": [
      "\r",
      "\u001b[K     | 604kB 3.9MB/s\r",
      "\u001b[K     / 614kB 3.5MB/s\r",
      "\u001b[K     - 624kB 3.9MB/s\r",
      "\u001b[K     \\ 634kB 3.5MB/s\r",
      "\u001b[K     | 645kB 3.6MB/s\r",
      "\u001b[K     / 655kB 2.4MB/s\r",
      "\u001b[K     - 665kB 2.4MB/s\r",
      "\u001b[K     \\ 675kB 2.4MB/s\r",
      "\u001b[K     | 686kB 2.7MB/s\r",
      "\u001b[K     / 696kB 2.9MB/s\r",
      "\u001b[K     - 706kB 3.3MB/s\r",
      "\u001b[K     \\ 716kB 3.3MB/s\r",
      "\u001b[K     | 727kB 3.8MB/s\r",
      "\u001b[K     / 737kB 3.5MB/s\r",
      "\u001b[K     - 747kB 3.3MB/s\r",
      "\u001b[K     \\ 757kB 6.1MB/s\r",
      "\u001b[K     | 768kB 5.0MB/s"
     ]
    },
    {
     "name": "stdout",
     "output_type": "stream",
     "text": [
      "\r",
      "\u001b[K     / 778kB 4.2MB/s\r",
      "\u001b[K     - 788kB 3.7MB/s\r",
      "\u001b[K     \\ 798kB 3.7MB/s\r",
      "\u001b[K     | 808kB 3.3MB/s\r",
      "\u001b[K     / 819kB 3.3MB/s\r",
      "\u001b[K     - 829kB 2.5MB/s\r",
      "\u001b[K     \\ 839kB 2.9MB/s\r",
      "\u001b[K     | 849kB 2.7MB/s\r",
      "\u001b[K     / 860kB 2.9MB/s\r",
      "\u001b[K     - 870kB 3.2MB/s\r",
      "\u001b[K     \\ 880kB 3.1MB/s\r",
      "\u001b[K     | 890kB 3.1MB/s\r",
      "\u001b[K     / 901kB 3.1MB/s\r",
      "\u001b[K     - 911kB 3.0MB/s\r",
      "\u001b[K     \\ 921kB 2.9MB/s"
     ]
    },
    {
     "name": "stdout",
     "output_type": "stream",
     "text": [
      "\r",
      "\u001b[K     | 931kB 3.8MB/s\r",
      "\u001b[K     / 942kB 3.7MB/s\r",
      "\u001b[K     - 952kB 3.5MB/s\r",
      "\u001b[K     \\ 962kB 3.0MB/s\r",
      "\u001b[K     | 972kB 3.0MB/s\r",
      "\u001b[K     / 983kB 2.4MB/s\r",
      "\u001b[K     - 993kB 2.6MB/s\r",
      "\u001b[K     \\ 1.0MB 2.6MB/s\r",
      "\u001b[K     | 1.0MB 3.0MB/s\r",
      "\u001b[K     / 1.0MB 3.3MB/s\r",
      "\u001b[K     - 1.0MB 2.8MB/s\r",
      "\u001b[K     \\ 1.0MB 2.8MB/s\r",
      "\u001b[K     | 1.1MB 3.0MB/s\r",
      "\u001b[K     / 1.1MB 3.0MB/s\r",
      "\u001b[K     - 1.1MB 3.0MB/s\r",
      "\u001b[K     \\ 1.1MB 4.8MB/s"
     ]
    },
    {
     "name": "stdout",
     "output_type": "stream",
     "text": [
      "\r",
      "\u001b[K     | 1.1MB 3.9MB/s\r",
      "\u001b[K     / 1.1MB 3.3MB/s\r",
      "\u001b[K     - 1.1MB 3.3MB/s\r",
      "\u001b[K     \\ 1.1MB 2.9MB/s\r",
      "\u001b[K     | 1.1MB 2.8MB/s\r",
      "\u001b[K     / 1.1MB 2.8MB/s\r",
      "\u001b[K     - 1.2MB 3.1MB/s\r",
      "\u001b[K     \\ 1.2MB 3.4MB/s\r",
      "\u001b[K     | 1.2MB 3.0MB/s\r",
      "\u001b[K     / 1.2MB 3.0MB/s\r",
      "\u001b[K     - 1.2MB 2.9MB/s\r",
      "\u001b[K     \\ 1.2MB 3.0MB/s\r",
      "\u001b[K     | 1.2MB 3.0MB/s\r",
      "\u001b[K     / 1.2MB 3.8MB/s\r",
      "\u001b[K     - 1.2MB 4.1MB/s\r",
      "\u001b[K     \\ 1.2MB 3.4MB/s"
     ]
    },
    {
     "name": "stdout",
     "output_type": "stream",
     "text": [
      "\r",
      "\u001b[K     | 1.3MB 3.4MB/s\r",
      "\u001b[K     / 1.3MB 3.1MB/s\r",
      "\u001b[K     - 1.3MB 2.2MB/s\r",
      "\u001b[K     \\ 1.3MB 2.2MB/s\r",
      "\u001b[K     | 1.3MB 2.5MB/s\r",
      "\u001b[K     / 1.3MB 2.4MB/s\r",
      "\u001b[K     - 1.3MB 2.4MB/s\r",
      "\u001b[K     \\ 1.3MB 2.4MB/s\r",
      "\u001b[K     | 1.3MB 2.7MB/s\r",
      "\u001b[K     / 1.4MB 2.8MB/s\r",
      "\u001b[K     - 1.4MB 2.8MB/s\r",
      "\u001b[K     \\ 1.4MB 3.4MB/s\r",
      "\u001b[K     | 1.4MB 6.3MB/s\r",
      "\u001b[K     / 1.4MB 4.6MB/s\r",
      "\u001b[K     - 1.4MB 4.5MB/s\r",
      "\u001b[K     \\ 1.4MB 4.9MB/s"
     ]
    },
    {
     "name": "stdout",
     "output_type": "stream",
     "text": [
      "\r",
      "\u001b[K     | 1.4MB 3.9MB/s\r",
      "\u001b[K     / 1.4MB 3.9MB/s\r",
      "\u001b[K     - 1.4MB 3.9MB/s\r",
      "\u001b[K     \\ 1.5MB 3.5MB/s\r",
      "\u001b[K     | 1.5MB 2.9MB/s\r",
      "\u001b[K     / 1.5MB 2.9MB/s\r",
      "\u001b[K     - 1.5MB 3.0MB/s\r",
      "\u001b[K     \\ 1.5MB 3.1MB/s\r",
      "\u001b[K     | 1.5MB 3.1MB/s\r",
      "\u001b[K     / 1.5MB 3.6MB/s\r",
      "\u001b[K     - 1.5MB 3.6MB/s\r",
      "\u001b[K     \\ 1.5MB 3.0MB/s\r",
      "\u001b[K     | 1.5MB 3.0MB/s\r",
      "\u001b[K     / 1.6MB 3.8MB/s\r",
      "\u001b[K     - 1.6MB 3.1MB/s"
     ]
    },
    {
     "name": "stdout",
     "output_type": "stream",
     "text": [
      "\r",
      "\u001b[K     \\ 1.6MB 2.9MB/s\r",
      "\u001b[K     | 1.6MB 3.2MB/s\r",
      "\u001b[K     / 1.6MB 3.3MB/s\r",
      "\u001b[K     - 1.6MB 3.3MB/s\r",
      "\u001b[K     \\ 1.6MB 3.3MB/s\r",
      "\u001b[K     | 1.6MB 3.4MB/s\r",
      "\u001b[K     / 1.6MB 2.9MB/s\r",
      "\u001b[K     - 1.6MB 2.9MB/s\r",
      "\u001b[K     \\ 1.7MB 2.8MB/s\r",
      "\u001b[K     | 1.7MB 3.8MB/s\r",
      "\u001b[K     / 1.7MB 4.1MB/s\r",
      "\u001b[K     - 1.7MB 4.2MB/s\r",
      "\u001b[K     \\ 1.7MB 3.8MB/s\r",
      "\u001b[K     | 1.7MB 3.2MB/s\r",
      "\u001b[K     / 1.7MB 3.2MB/s\r",
      "\u001b[K     - 1.7MB 3.1MB/s"
     ]
    },
    {
     "name": "stdout",
     "output_type": "stream",
     "text": [
      "\r",
      "\u001b[K     \\ 1.7MB 2.8MB/s\r",
      "\u001b[K     | 1.8MB 2.8MB/s\r",
      "\u001b[K     / 1.8MB 3.0MB/s\r",
      "\u001b[K     - 1.8MB 3.1MB/s\r",
      "\u001b[K     \\ 1.8MB 3.0MB/s\r",
      "\u001b[K     | 1.8MB 3.0MB/s\r",
      "\u001b[K     / 1.8MB 2.9MB/s\r",
      "\u001b[K     - 1.8MB 3.0MB/s\r",
      "\u001b[K     \\ 1.8MB 3.0MB/s\r",
      "\u001b[K     | 1.8MB 3.6MB/s\r",
      "\u001b[K     / 1.8MB 5.2MB/s\r",
      "\u001b[K     - 1.9MB 5.2MB/s\r",
      "\u001b[K     \\ 1.9MB 3.9MB/s\r",
      "\u001b[K     | 1.9MB 3.4MB/s\r",
      "\u001b[K     / 1.9MB 3.5MB/s\r",
      "\u001b[K     - 1.9MB 2.9MB/s\r",
      "\u001b[K     \\ 1.9MB 3.0MB/s\r",
      "\u001b[K     | 1.9MB 3.4MB/s\r",
      "\u001b[K     / 1.9MB 3.4MB/s"
     ]
    },
    {
     "name": "stdout",
     "output_type": "stream",
     "text": [
      "\r",
      "\u001b[K     - 1.9MB 2.9MB/s\r",
      "\u001b[K     \\ 1.9MB 2.9MB/s\r",
      "\u001b[K     | 2.0MB 2.9MB/s\r",
      "\u001b[K     / 2.0MB 2.6MB/s\r",
      "\u001b[K     - 2.0MB 2.9MB/s\r",
      "\u001b[K     \\ 2.0MB 2.9MB/s\r",
      "\u001b[K     | 2.0MB 3.4MB/s\r",
      "\u001b[K     / 2.0MB 3.5MB/s\r",
      "\u001b[K     - 2.0MB 3.2MB/s\r",
      "\u001b[K     \\ 2.0MB 3.2MB/s\r",
      "\u001b[K     | 2.0MB 3.0MB/s\r",
      "\u001b[K     / 2.0MB 3.6MB/s\r",
      "\u001b[K     - 2.1MB 3.1MB/s\r",
      "\u001b[K     \\ 2.1MB 3.7MB/s\r",
      "\u001b[K     | 2.1MB 3.8MB/s"
     ]
    },
    {
     "name": "stdout",
     "output_type": "stream",
     "text": [
      "\r",
      "\u001b[K     / 2.1MB 3.0MB/s\r",
      "\u001b[K     - 2.1MB 2.5MB/s\r",
      "\u001b[K     \\ 2.1MB 2.8MB/s\r",
      "\u001b[K     | 2.1MB 3.1MB/s\r",
      "\u001b[K     / 2.1MB 2.8MB/s\r",
      "\u001b[K     - 2.1MB 3.0MB/s\r",
      "\u001b[K     \\ 2.2MB 3.0MB/s\r",
      "\u001b[K     | 2.2MB 3.1MB/s\r",
      "\u001b[K     / 2.2MB 2.9MB/s\r",
      "\u001b[K     - 2.2MB 2.9MB/s\r",
      "\u001b[K     \\ 2.2MB 3.6MB/s\r",
      "\u001b[K     | 2.2MB 3.3MB/s\r",
      "\u001b[K     / 2.2MB 2.9MB/s\r",
      "\u001b[K     - 2.2MB 2.9MB/s\r",
      "\u001b[K     \\ 2.2MB 2.8MB/s"
     ]
    },
    {
     "name": "stdout",
     "output_type": "stream",
     "text": [
      "\r",
      "\u001b[K     | 2.2MB 2.8MB/s\r",
      "\u001b[K     / 2.3MB 2.8MB/s\r",
      "\u001b[K     - 2.3MB 3.1MB/s\r",
      "\u001b[K     \\ 2.3MB 2.6MB/s\r",
      "\u001b[K     | 2.3MB 2.6MB/s\r",
      "\u001b[K     / 2.3MB 2.6MB/s\r",
      "\u001b[K     - 2.3MB 3.4MB/s\r",
      "\u001b[K     \\ 2.3MB 4.0MB/s\r",
      "\u001b[K     | 2.3MB 3.3MB/s\r",
      "\u001b[K     / 2.3MB 3.8MB/s\r",
      "\u001b[K     - 2.3MB 4.8MB/s\r",
      "\u001b[K     \\ 2.4MB 4.1MB/s\r",
      "\u001b[K     | 2.4MB 3.2MB/s\r",
      "\u001b[K     / 2.4MB 5.7MB/s\r",
      "\u001b[K     - 2.4MB 4.6MB/s\r",
      "\u001b[K     \\ 2.4MB 3.5MB/s\r",
      "\u001b[K     | 2.4MB 3.5MB/s\r",
      "\u001b[K     / 2.4MB 3.6MB/s\r",
      "\u001b[K     - 2.4MB 3.8MB/s"
     ]
    },
    {
     "name": "stdout",
     "output_type": "stream",
     "text": [
      "\r",
      "\u001b[K     \\ 2.4MB 3.0MB/s\r",
      "\u001b[K     | 2.4MB 2.9MB/s\r",
      "\u001b[K     / 2.5MB 2.9MB/s\r",
      "\u001b[K     - 2.5MB 3.1MB/s\r",
      "\u001b[K     \\ 2.5MB 3.2MB/s\r",
      "\u001b[K     | 2.5MB 3.7MB/s\r",
      "\u001b[K     / 2.5MB 3.7MB/s\r",
      "\u001b[K     - 2.5MB 3.2MB/s\r",
      "\u001b[K     \\ 2.5MB 3.2MB/s\r",
      "\u001b[K     | 2.5MB 2.8MB/s\r",
      "\u001b[K     / 2.5MB 3.2MB/s\r",
      "\u001b[K     - 2.5MB 3.2MB/s\r",
      "\u001b[K     \\ 2.6MB 3.8MB/s\r",
      "\u001b[K     | 2.6MB 3.6MB/s\r",
      "\u001b[K     / 2.6MB 3.0MB/s\r",
      "\u001b[K     - 2.6MB 2.9MB/s"
     ]
    },
    {
     "name": "stdout",
     "output_type": "stream",
     "text": [
      "\r",
      "\u001b[K     \\ 2.6MB 2.3MB/s\r",
      "\u001b[K     | 2.6MB 2.5MB/s\r",
      "\u001b[K     / 2.6MB 2.5MB/s\r",
      "\u001b[K     - 2.6MB 3.0MB/s\r",
      "\u001b[K     \\ 2.6MB 3.4MB/s\r",
      "\u001b[K     | 2.7MB 2.8MB/s\r",
      "\u001b[K     / 2.7MB 2.8MB/s\r",
      "\u001b[K     - 2.7MB 2.9MB/s\r",
      "\u001b[K     \\ 2.7MB 2.9MB/s\r",
      "\u001b[K     | 2.7MB 2.9MB/s\r",
      "\u001b[K     / 2.7MB 5.5MB/s\r",
      "\u001b[K     - 2.7MB 4.2MB/s\r",
      "\u001b[K     \\ 2.7MB 3.6MB/s\r",
      "\u001b[K     | 2.7MB 3.6MB/s\r",
      "\u001b[K     / 2.7MB 3.0MB/s"
     ]
    },
    {
     "name": "stdout",
     "output_type": "stream",
     "text": [
      "\r",
      "\u001b[K     - 2.8MB 3.1MB/s\r",
      "\u001b[K     \\ 2.8MB 3.1MB/s\r",
      "\u001b[K     | 2.8MB 3.5MB/s\r",
      "\u001b[K     / 2.8MB 3.4MB/s\r",
      "\u001b[K     - 2.8MB 3.1MB/s\r",
      "\u001b[K     \\ 2.8MB 3.1MB/s\r",
      "\u001b[K     | 2.8MB 3.1MB/s\r",
      "\u001b[K     / 2.8MB 3.0MB/s\r",
      "\u001b[K     - 2.8MB 3.0MB/s\r",
      "\u001b[K     \\ 2.8MB 3.6MB/s\r",
      "\u001b[K     | 2.9MB 3.6MB/s\r",
      "\u001b[K     / 2.9MB 3.0MB/s\r",
      "\u001b[K     - 2.9MB 3.0MB/s\r",
      "\u001b[K     \\ 2.9MB 3.2MB/s\r",
      "\u001b[K     | 2.9MB 2.9MB/s\r",
      "\u001b[K     / 2.9MB 2.9MB/s\r",
      "\u001b[K     - 2.9MB 3.5MB/s"
     ]
    },
    {
     "name": "stdout",
     "output_type": "stream",
     "text": [
      "\r",
      "\u001b[K     \\ 2.9MB 2.6MB/s\r",
      "\u001b[K     | 2.9MB 2.6MB/s\r",
      "\u001b[K     / 2.9MB 2.6MB/s\r",
      "\u001b[K     - 3.0MB 2.9MB/s\r",
      "\u001b[K     \\ 3.0MB 2.4MB/s\r",
      "\u001b[K     | 3.0MB 2.4MB/s\r",
      "\u001b[K     / 3.0MB 2.7MB/s\r",
      "\u001b[K     - 3.0MB 3.2MB/s\r",
      "\u001b[K     \\ 3.0MB 3.0MB/s\r",
      "\u001b[K     | 3.0MB 3.0MB/s\r",
      "\u001b[K     / 3.0MB 4.1MB/s\r",
      "\u001b[K     - 3.0MB 3.8MB/s\r",
      "\u001b[K     \\ 3.1MB 3.8MB/s\r",
      "\u001b[K     | 3.1MB 3.8MB/s\r",
      "\u001b[K     / 3.1MB 4.8MB/s"
     ]
    },
    {
     "name": "stdout",
     "output_type": "stream",
     "text": [
      "\r",
      "\u001b[K     - 3.1MB 4.2MB/s\r",
      "\u001b[K     \\ 3.1MB 4.1MB/s\r",
      "\u001b[K     | 3.1MB 3.2MB/s\r",
      "\u001b[K     / 3.1MB 3.0MB/s\r",
      "\u001b[K     - 3.1MB 3.0MB/s\r",
      "\u001b[K     \\ 3.1MB 3.7MB/s\r",
      "\u001b[K     | 3.1MB 3.4MB/s\r",
      "\u001b[K     / 3.2MB 2.9MB/s\r",
      "\u001b[K     - 3.2MB 2.9MB/s\r",
      "\u001b[K     \\ 3.2MB 3.1MB/s\r",
      "\u001b[K     | 3.2MB 3.0MB/s\r",
      "\u001b[K     / 3.2MB 2.9MB/s\r",
      "\u001b[K     - 3.2MB 3.8MB/s\r",
      "\u001b[K     \\ 3.2MB 3.6MB/s\r",
      "\u001b[K     | 3.2MB 3.1MB/s\r",
      "\u001b[K     / 3.2MB 3.1MB/s"
     ]
    },
    {
     "name": "stdout",
     "output_type": "stream",
     "text": [
      "\r",
      "\u001b[K     - 3.2MB 2.3MB/s\r",
      "\u001b[K     \\ 3.3MB 2.6MB/s\r",
      "\u001b[K     | 3.3MB 2.6MB/s\r",
      "\u001b[K     / 3.3MB 3.0MB/s\r",
      "\u001b[K     - 3.3MB 3.6MB/s\r",
      "\u001b[K     \\ 3.3MB 3.0MB/s\r",
      "\u001b[K     | 3.3MB 3.0MB/s\r",
      "\u001b[K     / 3.3MB 3.0MB/s\r",
      "\u001b[K     - 3.3MB 2.9MB/s\r",
      "\u001b[K     \\ 3.3MB 2.9MB/s\r",
      "\u001b[K     | 3.3MB 5.2MB/s\r",
      "\u001b[K     / 3.4MB 4.3MB/s\r",
      "\u001b[K     - 3.4MB 3.5MB/s\r",
      "\u001b[K     \\ 3.4MB 3.5MB/s\r",
      "\u001b[K     | 3.4MB 3.0MB/s\r",
      "\u001b[K     / 3.4MB 2.9MB/s\r",
      "\u001b[K     - 3.4MB 2.9MB/s\r",
      "\u001b[K     \\ 3.4MB 3.5MB/s"
     ]
    },
    {
     "name": "stdout",
     "output_type": "stream",
     "text": [
      "\r",
      "\u001b[K     | 3.4MB 3.8MB/s\r",
      "\u001b[K     / 3.4MB 3.0MB/s\r",
      "\u001b[K     - 3.5MB 3.0MB/s\r",
      "\u001b[K     \\ 3.5MB 2.9MB/s\r",
      "\u001b[K     | 3.5MB 3.1MB/s\r",
      "\u001b[K     / 3.5MB 3.1MB/s\r",
      "\u001b[K     - 3.5MB 3.7MB/s\r",
      "\u001b[K     \\ 3.5MB 3.6MB/s\r",
      "\u001b[K     | 3.5MB 3.0MB/s\r",
      "\u001b[K     / 3.5MB 3.0MB/s\r",
      "\u001b[K     - 3.5MB 3.4MB/s\r",
      "\u001b[K     \\ 3.5MB 3.5MB/s\r",
      "\u001b[K     | 3.6MB 3.0MB/s\r",
      "\u001b[K     / 3.6MB 3.6MB/s\r",
      "\u001b[K     - 3.6MB 4.1MB/s"
     ]
    },
    {
     "name": "stdout",
     "output_type": "stream",
     "text": [
      "\r",
      "\u001b[K     \\ 3.6MB 2.6MB/s\r",
      "\u001b[K     | 3.6MB 2.6MB/s\r",
      "\u001b[K     / 3.6MB 3.1MB/s\r",
      "\u001b[K     - 3.6MB 3.6MB/s\r",
      "\u001b[K     \\ 3.6MB 3.1MB/s\r",
      "\u001b[K     | 3.6MB 3.0MB/s\r",
      "\u001b[K     / 3.6MB 3.7MB/s\r",
      "\u001b[K     - 3.7MB 3.7MB/s\r",
      "\u001b[K     \\ 3.7MB 3.0MB/s\r",
      "\u001b[K     | 3.7MB 3.0MB/s\r",
      "\u001b[K     / 3.7MB 3.8MB/s\r",
      "\u001b[K     - 3.7MB 3.3MB/s\r",
      "\u001b[K     \\ 3.7MB 3.3MB/s\r",
      "\u001b[K     | 3.7MB 3.4MB/s\r",
      "\u001b[K     / 3.7MB 3.6MB/s\r",
      "\u001b[K     - 3.7MB 3.1MB/s\r",
      "\u001b[K     \\ 3.7MB 3.0MB/s"
     ]
    },
    {
     "name": "stdout",
     "output_type": "stream",
     "text": [
      "\r",
      "\u001b[K     | 3.8MB 2.8MB/s\r",
      "\u001b[K     / 3.8MB 3.1MB/s\r",
      "\u001b[K     - 3.8MB 3.1MB/s\r",
      "\u001b[K     \\ 3.8MB 3.9MB/s\r",
      "\u001b[K     | 3.8MB 3.5MB/s\r",
      "\u001b[K     / 3.8MB 2.9MB/s\r",
      "\u001b[K     - 3.8MB 2.9MB/s\r",
      "\u001b[K     \\ 3.8MB 2.9MB/s\r",
      "\u001b[K     | 3.8MB 2.8MB/s\r",
      "\u001b[K     / 3.9MB 2.9MB/s\r",
      "\u001b[K     - 3.9MB 3.6MB/s\r",
      "\u001b[K     \\ 3.9MB 3.4MB/s\r",
      "\u001b[K     | 3.9MB 2.8MB/s\r",
      "\u001b[K     / 3.9MB 2.8MB/s"
     ]
    },
    {
     "name": "stdout",
     "output_type": "stream",
     "text": [
      "\r",
      "\u001b[K     - 3.9MB 2.4MB/s\r",
      "\u001b[K     \\ 3.9MB 2.8MB/s\r",
      "\u001b[K     | 3.9MB 2.8MB/s\r",
      "\u001b[K     / 3.9MB 3.2MB/s\r",
      "\u001b[K     - 3.9MB 3.4MB/s\r",
      "\u001b[K     \\ 4.0MB 3.0MB/s\r",
      "\u001b[K     | 4.0MB 3.0MB/s\r",
      "\u001b[K     / 4.0MB 3.1MB/s\r",
      "\u001b[K     - 4.0MB 2.5MB/s\r",
      "\u001b[K     \\ 4.0MB 2.5MB/s\r",
      "\u001b[K     | 4.0MB 3.6MB/s\r",
      "\u001b[K     / 4.0MB 3.5MB/s\r",
      "\u001b[K     - 4.0MB 3.2MB/s\r",
      "\u001b[K     \\ 4.0MB 3.2MB/s\r",
      "\u001b[K     | 4.0MB 3.1MB/s\r",
      "\u001b[K     / 4.1MB 2.7MB/s\r",
      "\u001b[K     - 4.1MB 2.7MB/s\r",
      "\u001b[K     \\ 4.1MB 3.2MB/s\r",
      "\u001b[K     | 4.1MB 4.7MB/s"
     ]
    },
    {
     "name": "stdout",
     "output_type": "stream",
     "text": [
      "\r",
      "\u001b[K     / 4.1MB 4.0MB/s\r",
      "\u001b[K     - 4.1MB 3.9MB/s\r",
      "\u001b[K     \\ 4.1MB 3.2MB/s\r",
      "\u001b[K     | 4.1MB 2.8MB/s\r",
      "\u001b[K     / 4.1MB 2.8MB/s\r",
      "\u001b[K     - 4.1MB 3.3MB/s\r",
      "\u001b[K     \\ 4.2MB 3.7MB/s\r",
      "\u001b[K     | 4.2MB 3.2MB/s\r",
      "\u001b[K     / 4.2MB 3.2MB/s\r",
      "\u001b[K     - 4.2MB 3.2MB/s\r",
      "\u001b[K     \\ 4.2MB 2.9MB/s\r",
      "\u001b[K     | 4.2MB 2.9MB/s\r",
      "\u001b[K     / 4.2MB 3.5MB/s\r",
      "\u001b[K     - 4.2MB 3.1MB/s\r",
      "\u001b[K     \\ 4.2MB 3.0MB/s\r",
      "\u001b[K     | 4.2MB 3.0MB/s"
     ]
    },
    {
     "name": "stdout",
     "output_type": "stream",
     "text": [
      "\r",
      "\u001b[K     / 4.3MB 3.1MB/s\r",
      "\u001b[K     - 4.3MB 3.1MB/s\r",
      "\u001b[K     \\ 4.3MB 3.1MB/s\r",
      "\u001b[K     | 4.3MB 3.6MB/s\r",
      "\u001b[K     / 4.3MB 3.7MB/s\r",
      "\u001b[K     - 4.3MB 3.1MB/s\r",
      "\u001b[K     \\ 4.3MB 3.1MB/s\r",
      "\u001b[K     | 4.3MB 3.3MB/s\r",
      "\u001b[K     / 4.3MB 3.1MB/s\r",
      "\u001b[K     - 4.4MB 3.1MB/s\r",
      "\u001b[K     \\ 4.4MB 3.5MB/s\r",
      "\u001b[K     | 4.4MB 2.7MB/s\r",
      "\u001b[K     / 4.4MB 2.6MB/s\r",
      "\u001b[K     - 4.4MB 2.6MB/s\r",
      "\u001b[K     \\ 4.4MB 2.8MB/s"
     ]
    },
    {
     "name": "stdout",
     "output_type": "stream",
     "text": [
      "\r",
      "\u001b[K     | 4.4MB 2.0MB/s\r",
      "\u001b[K     / 4.4MB 2.0MB/s\r",
      "\u001b[K     - 4.4MB 2.4MB/s\r",
      "\u001b[K     \\ 4.4MB 2.6MB/s\r",
      "\u001b[K     | 4.5MB 2.5MB/s\r",
      "\u001b[K     / 4.5MB 2.5MB/s\r",
      "\u001b[K     - 4.5MB 3.5MB/s\r",
      "\u001b[K     \\ 4.5MB 3.2MB/s\r",
      "\u001b[K     | 4.5MB 3.2MB/s\r",
      "\u001b[K     / 4.5MB 3.5MB/s\r",
      "\u001b[K     - 4.5MB 8.5MB/s\r",
      "\u001b[K     \\ 4.5MB 5.9MB/s\r",
      "\u001b[K     | 4.5MB 5.9MB/s"
     ]
    },
    {
     "name": "stdout",
     "output_type": "stream",
     "text": [
      "\r",
      "\u001b[K     / 4.5MB 3.1MB/s\r",
      "\u001b[K     - 4.6MB 3.3MB/s\r",
      "\u001b[K     \\ 4.6MB 3.3MB/s\r",
      "\u001b[K     | 4.6MB 3.5MB/s\r",
      "\u001b[K     / 4.6MB 3.8MB/s\r",
      "\u001b[K     - 4.6MB 3.0MB/s\r",
      "\u001b[K     \\ 4.6MB 3.0MB/s\r",
      "\u001b[K     | 4.6MB 2.9MB/s\r",
      "\u001b[K     / 4.6MB 2.9MB/s\r",
      "\u001b[K     - 4.6MB 2.9MB/s\r",
      "\u001b[K     \\ 4.6MB 5.2MB/s\r",
      "\u001b[K     | 4.7MB 4.4MB/s\r",
      "\u001b[K     / 4.7MB 3.5MB/s\r",
      "\u001b[K     - 4.7MB 3.5MB/s\r",
      "\u001b[K     \\ 4.7MB 2.9MB/s\r",
      "\u001b[K     | 4.7MB 3.0MB/s\r",
      "\u001b[K     / 4.7MB 3.0MB/s\r",
      "\u001b[K     - 4.7MB 3.5MB/s\r",
      "\u001b[K     \\ 4.7MB 3.8MB/s"
     ]
    },
    {
     "name": "stdout",
     "output_type": "stream",
     "text": [
      "\r",
      "\u001b[K     | 4.7MB 3.1MB/s\r",
      "\u001b[K     / 4.8MB 3.1MB/s\r",
      "\u001b[K     - 4.8MB 3.0MB/s\r",
      "\u001b[K     \\ 4.8MB 2.9MB/s\r",
      "\u001b[K     | 4.8MB 2.9MB/s\r",
      "\u001b[K     / 4.8MB 3.5MB/s\r",
      "\u001b[K     - 4.8MB 3.9MB/s\r",
      "\u001b[K     \\ 4.8MB 3.1MB/s\r",
      "\u001b[K     | 4.8MB 3.1MB/s\r",
      "\u001b[K     / 4.8MB 2.9MB/s\r",
      "\u001b[K     - 4.8MB 3.0MB/s\r",
      "\u001b[K     \\ 4.9MB 3.0MB/s\r",
      "\u001b[K     | 4.9MB 3.4MB/s\r",
      "\u001b[K     / 4.9MB 3.1MB/s\r",
      "\u001b[K     - 4.9MB 3.0MB/s\r",
      "\u001b[K     \\ 4.9MB 3.0MB/s"
     ]
    },
    {
     "name": "stdout",
     "output_type": "stream",
     "text": [
      "\r",
      "\u001b[K     | 4.9MB 3.0MB/s\r",
      "\u001b[K     / 4.9MB 3.0MB/s\r",
      "\u001b[K     - 4.9MB 3.0MB/s\r",
      "\u001b[K     \\ 4.9MB 3.7MB/s\r",
      "\u001b[K     | 4.9MB 3.6MB/s\r",
      "\u001b[K     / 5.0MB 3.1MB/s\r",
      "\u001b[K     - 5.0MB 3.1MB/s\r",
      "\u001b[K     \\ 5.0MB 3.5MB/s\r",
      "\u001b[K     | 5.0MB 3.0MB/s\r",
      "\u001b[K     / 5.0MB 3.0MB/s\r",
      "\u001b[K     - 5.0MB 3.4MB/s\r",
      "\u001b[K     \\ 5.0MB 3.1MB/s\r",
      "\u001b[K     | 5.0MB 2.9MB/s\r",
      "\u001b[K     / 5.0MB 2.9MB/s\r",
      "\u001b[K     - 5.0MB 2.8MB/s"
     ]
    },
    {
     "name": "stdout",
     "output_type": "stream",
     "text": [
      "\r",
      "\u001b[K     \\ 5.1MB 3.0MB/s\r",
      "\u001b[K     | 5.1MB 3.0MB/s\r",
      "\u001b[K     / 5.1MB 3.7MB/s\r",
      "\u001b[K     - 5.1MB 3.6MB/s\r",
      "\u001b[K     \\ 5.1MB 3.1MB/s\r",
      "\u001b[K     | 5.1MB 3.1MB/s\r",
      "\u001b[K     / 5.1MB 3.3MB/s\r",
      "\u001b[K     - 5.1MB 2.9MB/s\r",
      "\u001b[K     \\ 5.1MB 2.8MB/s\r",
      "\u001b[K     | 5.2MB 3.6MB/s\r",
      "\u001b[K     / 5.2MB 3.5MB/s\r",
      "\u001b[K     - 5.2MB 3.0MB/s\r",
      "\u001b[K     \\ 5.2MB 3.0MB/s\r",
      "\u001b[K     | 5.2MB 2.5MB/s\r",
      "\u001b[K     / 5.2MB 2.8MB/s\r",
      "\u001b[K     - 5.2MB 2.8MB/s\r",
      "\u001b[K     \\ 5.2MB 3.5MB/s"
     ]
    },
    {
     "name": "stdout",
     "output_type": "stream",
     "text": [
      "\r",
      "\u001b[K     | 5.2MB 3.4MB/s\r",
      "\u001b[K     / 5.2MB 3.3MB/s\r",
      "\u001b[K     - 5.3MB 3.3MB/s\r",
      "\u001b[K     \\ 5.3MB 2.9MB/s\r",
      "\u001b[K     | 5.3MB 3.0MB/s\r",
      "\u001b[K     / 5.3MB 3.0MB/s\r",
      "\u001b[K     - 5.3MB 4.6MB/s\r",
      "\u001b[K     \\ 5.3MB 3.5MB/s\r",
      "\u001b[K     | 5.3MB 3.1MB/s\r",
      "\u001b[K     / 5.3MB 3.1MB/s\r",
      "\u001b[K     - 5.3MB 3.3MB/s\r",
      "\u001b[K     \\ 5.3MB 2.9MB/s\r",
      "\u001b[K     | 5.4MB 2.9MB/s\r",
      "\u001b[K     / 5.4MB 3.8MB/s\r",
      "\u001b[K     - 5.4MB 3.3MB/s\r",
      "\u001b[K     \\ 5.4MB 3.0MB/s\r",
      "\u001b[K     | 5.4MB 3.0MB/s"
     ]
    },
    {
     "name": "stdout",
     "output_type": "stream",
     "text": [
      "\r",
      "\u001b[K     / 5.4MB 2.8MB/s\r",
      "\u001b[K     - 5.4MB 3.1MB/s\r",
      "\u001b[K     \\ 5.4MB 3.1MB/s\r",
      "\u001b[K     | 5.4MB 3.8MB/s\r",
      "\u001b[K     / 5.4MB 3.6MB/s\r",
      "\u001b[K     - 5.5MB 3.1MB/s\r",
      "\u001b[K     \\ 5.5MB 3.1MB/s\r",
      "\u001b[K     | 5.5MB 3.1MB/s\r",
      "\u001b[K     / 5.5MB 2.3MB/s\r",
      "\u001b[K     - 5.5MB 2.3MB/s\r",
      "\u001b[K     \\ 5.5MB 2.9MB/s\r",
      "\u001b[K     | 5.5MB 2.9MB/s\r",
      "\u001b[K     / 5.5MB 2.7MB/s\r",
      "\u001b[K     - 5.5MB 2.7MB/s\r",
      "\u001b[K     \\ 5.6MB 2.9MB/s"
     ]
    },
    {
     "name": "stdout",
     "output_type": "stream",
     "text": [
      "\r",
      "\u001b[K     | 5.6MB 2.6MB/s\r",
      "\u001b[K     / 5.6MB 2.6MB/s\r",
      "\u001b[K     - 5.6MB 3.1MB/s\r",
      "\u001b[K     \\ 5.6MB 5.7MB/s\r",
      "\u001b[K     | 5.6MB 4.1MB/s\r",
      "\u001b[K     / 5.6MB 4.1MB/s\r",
      "\u001b[K     - 5.6MB 3.7MB/s\r",
      "\u001b[K     \\ 5.6MB 3.2MB/s\r",
      "\u001b[K     | 5.6MB 3.2MB/s\r",
      "\u001b[K     / 5.7MB 3.7MB/s\r",
      "\u001b[K     - 5.7MB 4.4MB/s\r",
      "\u001b[K     \\ 5.7MB 3.5MB/s\r",
      "\u001b[K     | 5.7MB 3.5MB/s\r",
      "\u001b[K     / 5.7MB 3.0MB/s\r",
      "\u001b[K     - 5.7MB 3.1MB/s\r",
      "\u001b[K     \\ 5.7MB 3.1MB/s\r",
      "\u001b[K     | 5.7MB 3.4MB/s"
     ]
    },
    {
     "name": "stdout",
     "output_type": "stream",
     "text": [
      "\r",
      "\u001b[K     / 5.7MB 3.6MB/s\r",
      "\u001b[K     - 5.7MB 3.1MB/s\r",
      "\u001b[K     \\ 5.8MB 3.1MB/s\r",
      "\u001b[K     | 5.8MB 2.8MB/s\r",
      "\u001b[K     / 5.8MB 3.0MB/s\r",
      "\u001b[K     - 5.8MB 3.0MB/s\r",
      "\u001b[K     \\ 5.8MB 3.5MB/s\r",
      "\u001b[K     | 5.8MB 3.6MB/s\r",
      "\u001b[K     / 5.8MB 2.3MB/s\r",
      "\u001b[K     - 5.8MB 2.3MB/s\r",
      "\u001b[K     \\ 5.8MB 2.6MB/s\r",
      "\u001b[K     | 5.8MB 2.7MB/s\r",
      "\u001b[K     / 5.9MB 2.7MB/s\r",
      "\u001b[K     - 5.9MB 3.4MB/s\r",
      "\u001b[K     \\ 5.9MB 3.3MB/s"
     ]
    },
    {
     "name": "stdout",
     "output_type": "stream",
     "text": [
      "\r",
      "\u001b[K     | 5.9MB 2.9MB/s\r",
      "\u001b[K     / 5.9MB 2.9MB/s\r",
      "\u001b[K     - 5.9MB 2.9MB/s\r",
      "\u001b[K     \\ 5.9MB 4.0MB/s\r",
      "\u001b[K     | 5.9MB 4.0MB/s\r",
      "\u001b[K     / 5.9MB 4.0MB/s\r",
      "\u001b[K     - 5.9MB 3.7MB/s\r",
      "\u001b[K     \\ 6.0MB 3.1MB/s\r",
      "\u001b[K     | 6.0MB 3.1MB/s\r",
      "\u001b[K     / 6.0MB 3.2MB/s\r",
      "\u001b[K     - 6.0MB 3.0MB/s\r",
      "\u001b[K     \\ 6.0MB 3.0MB/s\r",
      "\u001b[K     | 6.0MB 3.5MB/s\r",
      "\u001b[K     / 6.0MB 3.1MB/s\r",
      "\u001b[K     - 6.0MB 3.1MB/s\r",
      "\u001b[K     \\ 6.0MB 3.1MB/s"
     ]
    },
    {
     "name": "stdout",
     "output_type": "stream",
     "text": [
      "\r",
      "\u001b[K     | 6.1MB 2.7MB/s\r",
      "\u001b[K     / 6.1MB 3.1MB/s\r",
      "\u001b[K     - 6.1MB 3.1MB/s\r",
      "\u001b[K     \\ 6.1MB 3.7MB/s\r",
      "\u001b[K     | 6.1MB 3.5MB/s\r",
      "\u001b[K     / 6.1MB 3.0MB/s\r",
      "\u001b[K     - 6.1MB 3.0MB/s\r",
      "\u001b[K     \\ 6.1MB 3.5MB/s\r",
      "\u001b[K     | 6.1MB 2.3MB/s\r",
      "\u001b[K     / 6.1MB 2.3MB/s\r",
      "\u001b[K     - 6.2MB 3.0MB/s\r",
      "\u001b[K     \\ 6.2MB 3.0MB/s\r",
      "\u001b[K     | 6.2MB 2.8MB/s\r",
      "\u001b[K     / 6.2MB 2.8MB/s\r",
      "\u001b[K     - 6.2MB 3.0MB/s"
     ]
    },
    {
     "name": "stdout",
     "output_type": "stream",
     "text": [
      "\r",
      "\u001b[K     \\ 6.2MB 3.0MB/s\r",
      "\u001b[K     | 6.2MB 3.0MB/s\r",
      "\u001b[K     / 6.2MB 3.5MB/s\r",
      "\u001b[K     - 6.2MB 5.0MB/s\r",
      "\u001b[K     \\ 6.2MB 4.0MB/s\r",
      "\u001b[K     | 6.3MB 4.0MB/s\r",
      "\u001b[K     / 6.3MB 3.5MB/s\r",
      "\u001b[K     - 6.3MB 3.1MB/s\r",
      "\u001b[K     \\ 6.3MB 3.1MB/s\r",
      "\u001b[K     | 6.3MB 3.6MB/s\r",
      "\u001b[K     / 6.3MB 3.4MB/s\r",
      "\u001b[K     - 6.3MB 2.9MB/s\r",
      "\u001b[K     \\ 6.3MB 2.9MB/s\r",
      "\u001b[K     | 6.3MB 3.0MB/s\r",
      "\u001b[K     / 6.3MB 3.0MB/s\r",
      "\u001b[K     - 6.4MB 3.0MB/s\r",
      "\u001b[K     \\ 6.4MB 3.4MB/s"
     ]
    },
    {
     "name": "stdout",
     "output_type": "stream",
     "text": [
      "\r",
      "\u001b[K     | 6.4MB 3.3MB/s\r",
      "\u001b[K     / 6.4MB 3.0MB/s\r",
      "\u001b[K     - 6.4MB 3.0MB/s\r",
      "\u001b[K     \\ 6.4MB 3.1MB/s\r",
      "\u001b[K     | 6.4MB 3.1MB/s\r",
      "\u001b[K     / 6.4MB 3.1MB/s\r",
      "\u001b[K     - 6.4MB 3.7MB/s\r",
      "\u001b[K     \\ 6.5MB 3.4MB/s\r",
      "\u001b[K     | 6.5MB 2.5MB/s\r",
      "\u001b[K     / 6.5MB 2.4MB/s\r",
      "\u001b[K     - 6.5MB 2.9MB/s\r",
      "\u001b[K     \\ 6.5MB 3.0MB/s\r",
      "\u001b[K     | 6.5MB 3.0MB/s\r",
      "\u001b[K     / 6.5MB 3.6MB/s\r",
      "\u001b[K     - 6.5MB 3.6MB/s\r",
      "\u001b[K     \\ 6.5MB 3.0MB/s\r",
      "\u001b[K     | 6.5MB 3.0MB/s"
     ]
    },
    {
     "name": "stdout",
     "output_type": "stream",
     "text": [
      "\r",
      "\u001b[K     / 6.6MB 3.2MB/s\r",
      "\u001b[K     - 6.6MB 3.8MB/s\r",
      "\u001b[K     \\ 6.6MB 3.8MB/s\r",
      "\u001b[K     | 6.6MB 3.9MB/s\r",
      "\u001b[K     / 6.6MB 3.5MB/s\r",
      "\u001b[K     - 6.6MB 3.5MB/s\r",
      "\u001b[K     \\ 6.6MB 2.7MB/s\r",
      "\u001b[K     | 6.6MB 2.7MB/s\r",
      "\u001b[K     / 6.6MB 3.1MB/s\r",
      "\u001b[K     - 6.6MB 3.0MB/s\r",
      "\u001b[K     \\ 6.7MB 3.6MB/s\r",
      "\u001b[K     | 6.7MB 3.7MB/s\r",
      "\u001b[K     / 6.7MB 3.0MB/s\r",
      "\u001b[K     - 6.7MB 3.0MB/s"
     ]
    },
    {
     "name": "stdout",
     "output_type": "stream",
     "text": [
      "\r",
      "\u001b[K     \\ 6.7MB 2.9MB/s\r",
      "\u001b[K     | 6.7MB 2.6MB/s\r",
      "\u001b[K     / 6.7MB 3.3MB/s\r",
      "\u001b[K     - 6.7MB 4.0MB/s\r",
      "\u001b[K     \\ 6.7MB 3.3MB/s\r",
      "\u001b[K     | 6.7MB 3.0MB/s\r",
      "\u001b[K     / 6.8MB 3.0MB/s\r",
      "\u001b[K     - 6.8MB 2.9MB/s\r",
      "\u001b[K     \\ 6.8MB 2.5MB/s\r",
      "\u001b[K     | 6.8MB 2.5MB/s\r",
      "\u001b[K     / 6.8MB 2.9MB/s\r",
      "\u001b[K     - 6.8MB 3.3MB/s\r",
      "\u001b[K     \\ 6.8MB 3.1MB/s\r",
      "\u001b[K     | 6.8MB 3.0MB/s\r",
      "\u001b[K     / 6.8MB 3.1MB/s\r",
      "\u001b[K     - 6.9MB 3.0MB/s\r",
      "\u001b[K     \\ 6.9MB 3.0MB/s\r",
      "\u001b[K     | 6.9MB 3.6MB/s"
     ]
    },
    {
     "name": "stdout",
     "output_type": "stream",
     "text": [
      "\r",
      "\u001b[K     / 6.9MB 4.9MB/s\r",
      "\u001b[K     - 6.9MB 4.0MB/s\r",
      "\u001b[K     \\ 6.9MB 3.9MB/s\r",
      "\u001b[K     | 6.9MB 3.2MB/s\r",
      "\u001b[K     / 6.9MB 3.0MB/s\r",
      "\u001b[K     - 6.9MB 3.0MB/s\r",
      "\u001b[K     \\ 6.9MB 3.5MB/s\r",
      "\u001b[K     | 7.0MB 3.3MB/s\r",
      "\u001b[K     / 7.0MB 3.1MB/s\r",
      "\u001b[K     - 7.0MB 3.1MB/s\r",
      "\u001b[K     \\ 7.0MB 3.0MB/s\r",
      "\u001b[K     | 7.0MB 3.0MB/s\r",
      "\u001b[K     / 7.0MB 3.0MB/s\r",
      "\u001b[K     - 7.0MB 3.7MB/s\r",
      "\u001b[K     \\ 7.0MB 3.4MB/s"
     ]
    },
    {
     "name": "stdout",
     "output_type": "stream",
     "text": [
      "\r",
      "\u001b[K     | 7.0MB 3.0MB/s\r",
      "\u001b[K     / 7.0MB 3.0MB/s\r",
      "\u001b[K     - 7.1MB 3.3MB/s\r",
      "\u001b[K     \\ 7.1MB 2.8MB/s\r",
      "\u001b[K     | 7.1MB 2.8MB/s\r",
      "\u001b[K     / 7.1MB 3.3MB/s\r",
      "\u001b[K     - 7.1MB 3.4MB/s\r",
      "\u001b[K     \\ 7.1MB 2.5MB/s\r",
      "\u001b[K     | 7.1MB 2.4MB/s\r",
      "\u001b[K     / 7.1MB 2.8MB/s\r",
      "\u001b[K     - 7.1MB 2.8MB/s\r",
      "\u001b[K     \\ 7.1MB 2.8MB/s\r",
      "\u001b[K     | 7.2MB 3.3MB/s\r",
      "\u001b[K     / 7.2MB 3.6MB/s\r",
      "\u001b[K     - 7.2MB 3.0MB/s\r",
      "\u001b[K     \\ 7.2MB 2.9MB/s"
     ]
    },
    {
     "name": "stdout",
     "output_type": "stream",
     "text": [
      "\r",
      "\u001b[K     | 7.2MB 3.1MB/s\r",
      "\u001b[K     / 7.2MB 3.7MB/s\r",
      "\u001b[K     - 7.2MB 3.7MB/s\r",
      "\u001b[K     \\ 7.2MB 4.0MB/s\r",
      "\u001b[K     | 7.2MB 3.6MB/s\r",
      "\u001b[K     / 7.2MB 3.1MB/s\r",
      "\u001b[K     - 7.3MB 3.1MB/s\r",
      "\u001b[K     \\ 7.3MB 2.9MB/s\r",
      "\u001b[K     | 7.3MB 2.9MB/s\r",
      "\u001b[K     / 7.3MB 2.9MB/s\r",
      "\u001b[K     - 7.3MB 3.3MB/s\r",
      "\u001b[K     \\ 7.3MB 3.4MB/s\r",
      "\u001b[K     | 7.3MB 2.8MB/s\r",
      "\u001b[K     / 7.3MB 2.8MB/s\r",
      "\u001b[K     - 7.3MB 3.0MB/s"
     ]
    },
    {
     "name": "stdout",
     "output_type": "stream",
     "text": [
      "\r",
      "\u001b[K     \\ 7.4MB 3.0MB/s\r",
      "\u001b[K     | 7.4MB 3.0MB/s\r",
      "\u001b[K     / 7.4MB 3.7MB/s\r",
      "\u001b[K     - 7.4MB 3.7MB/s\r",
      "\u001b[K     \\ 7.4MB 3.0MB/s\r",
      "\u001b[K     | 7.4MB 3.0MB/s\r",
      "\u001b[K     / 7.4MB 2.3MB/s\r",
      "\u001b[K     - 7.4MB 2.6MB/s\r",
      "\u001b[K     \\ 7.4MB 2.6MB/s\r",
      "\u001b[K     | 7.4MB 3.0MB/s\r",
      "\u001b[K     / 7.5MB 3.4MB/s\r",
      "\u001b[K     - 7.5MB 3.0MB/s\r",
      "\u001b[K     \\ 7.5MB 3.0MB/s\r",
      "\u001b[K     | 7.5MB 2.9MB/s\r",
      "\u001b[K     / 7.5MB 3.1MB/s\r",
      "\u001b[K     - 7.5MB 3.1MB/s\r",
      "\u001b[K     \\ 7.5MB 5.9MB/s"
     ]
    },
    {
     "name": "stdout",
     "output_type": "stream",
     "text": [
      "\r",
      "\u001b[K     | 7.5MB 4.5MB/s\r",
      "\u001b[K     / 7.5MB 3.7MB/s\r",
      "\u001b[K     - 7.5MB 3.7MB/s\r",
      "\u001b[K     \\ 7.6MB 3.1MB/s\r",
      "\u001b[K     | 7.6MB 3.0MB/s\r",
      "\u001b[K     / 7.6MB 3.0MB/s\r",
      "\u001b[K     - 7.6MB 3.6MB/s\r",
      "\u001b[K     \\ 7.6MB 3.5MB/s\r",
      "\u001b[K     | 7.6MB 3.0MB/s\r",
      "\u001b[K     / 7.6MB 3.0MB/s\r",
      "\u001b[K     - 7.6MB 3.1MB/s\r",
      "\u001b[K     \\ 7.6MB 2.9MB/s\r",
      "\u001b[K     | 7.6MB 2.9MB/s\r",
      "\u001b[K     / 7.7MB 3.4MB/s\r",
      "\u001b[K     - 7.7MB 3.6MB/s"
     ]
    },
    {
     "name": "stdout",
     "output_type": "stream",
     "text": [
      "\r",
      "\u001b[K     \\ 7.7MB 3.0MB/s\r",
      "\u001b[K     | 7.7MB 3.0MB/s\r",
      "\u001b[K     / 7.7MB 3.0MB/s\r",
      "\u001b[K     - 7.7MB 3.0MB/s\r",
      "\u001b[K     \\ 7.7MB 3.0MB/s\r",
      "\u001b[K     | 7.7MB 3.5MB/s\r",
      "\u001b[K     / 7.7MB 2.5MB/s\r",
      "\u001b[K     - 7.8MB 2.4MB/s\r",
      "\u001b[K     \\ 7.8MB 2.4MB/s\r",
      "\u001b[K     | 7.8MB 2.7MB/s\r",
      "\u001b[K     / 7.8MB 3.0MB/s\r",
      "\u001b[K     - 7.8MB 3.0MB/s\r",
      "\u001b[K     \\ 7.8MB 3.6MB/s\r",
      "\u001b[K     | 7.8MB 3.4MB/s\r",
      "\u001b[K     / 7.8MB 3.0MB/s\r",
      "\u001b[K     - 7.8MB 3.0MB/s"
     ]
    },
    {
     "name": "stdout",
     "output_type": "stream",
     "text": [
      "\r",
      "\u001b[K     \\ 7.8MB 5.1MB/s\r",
      "\u001b[K     | 7.9MB 4.1MB/s\r",
      "\u001b[K     / 7.9MB 4.1MB/s\r",
      "\u001b[K     - 7.9MB 4.1MB/s\r",
      "\u001b[K     \\ 7.9MB 3.6MB/s\r",
      "\u001b[K     | 7.9MB 3.0MB/s\r",
      "\u001b[K     / 7.9MB 3.0MB/s\r",
      "\u001b[K     - 7.9MB 2.9MB/s\r",
      "\u001b[K     \\ 7.9MB 3.0MB/s\r",
      "\u001b[K     | 7.9MB 3.0MB/s\r",
      "\u001b[K     / 7.9MB 3.5MB/s\r",
      "\u001b[K     - 8.0MB 3.5MB/s\r",
      "\u001b[K     \\ 8.0MB 2.8MB/s\r",
      "\u001b[K     | 8.0MB 2.8MB/s\r",
      "\u001b[K     / 8.0MB 2.5MB/s"
     ]
    },
    {
     "name": "stdout",
     "output_type": "stream",
     "text": [
      "\r",
      "\u001b[K     - 8.0MB 2.9MB/s\r",
      "\u001b[K     \\ 8.0MB 2.9MB/s\r",
      "\u001b[K     | 8.0MB 3.8MB/s\r",
      "\u001b[K     / 8.0MB 3.1MB/s\r",
      "\u001b[K     - 8.0MB 2.8MB/s\r",
      "\u001b[K     \\ 8.0MB 2.8MB/s\r",
      "\u001b[K     | 8.1MB 2.3MB/s\r",
      "\u001b[K     / 8.1MB 2.7MB/s\r",
      "\u001b[K     - 8.1MB 2.7MB/s\r",
      "\u001b[K     \\ 8.1MB 3.6MB/s\r",
      "\u001b[K     | 8.1MB 3.6MB/s\r",
      "\u001b[K     / 8.1MB 3.0MB/s\r",
      "\u001b[K     - 8.1MB 3.0MB/s\r",
      "\u001b[K     \\ 8.1MB 3.4MB/s\r",
      "\u001b[K     | 8.1MB 3.1MB/s\r",
      "\u001b[K     / 8.2MB 3.1MB/s\r",
      "\u001b[K     - 8.2MB 5.3MB/s"
     ]
    },
    {
     "name": "stdout",
     "output_type": "stream",
     "text": [
      "\r",
      "\u001b[K     \\ 8.2MB 3.8MB/s\r",
      "\u001b[K     | 8.2MB 3.4MB/s\r",
      "\u001b[K     / 8.2MB 3.4MB/s\r",
      "\u001b[K     - 8.2MB 2.8MB/s\r",
      "\u001b[K     \\ 8.2MB 3.1MB/s\r",
      "\u001b[K     | 8.2MB 3.1MB/s\r",
      "\u001b[K     / 8.2MB 3.5MB/s\r",
      "\u001b[K     - 8.2MB 3.5MB/s\r",
      "\u001b[K     \\ 8.3MB 3.2MB/s\r",
      "\u001b[K     | 8.3MB 3.1MB/s\r",
      "\u001b[K     / 8.3MB 3.4MB/s\r",
      "\u001b[K     - 8.3MB 3.9MB/s\r",
      "\u001b[K     \\ 8.3MB 3.1MB/s\r",
      "\u001b[K     | 8.3MB 4.0MB/s\r",
      "\u001b[K     / 8.3MB 3.7MB/s\r",
      "\u001b[K     - 8.3MB 2.9MB/s\r",
      "\u001b[K     \\ 8.3MB 2.9MB/s"
     ]
    },
    {
     "name": "stdout",
     "output_type": "stream",
     "text": [
      "\r",
      "\u001b[K     | 8.3MB 3.1MB/s\r",
      "\u001b[K     / 8.4MB 3.0MB/s\r",
      "\u001b[K     - 8.4MB 3.0MB/s\r",
      "\u001b[K     \\ 8.4MB 3.5MB/s\r",
      "\u001b[K     | 8.4MB 2.3MB/s\r",
      "\u001b[K     / 8.4MB 2.6MB/s\r",
      "\u001b[K     - 8.4MB 2.6MB/s\r",
      "\u001b[K     \\ 8.4MB 2.9MB/s\r",
      "\u001b[K     | 8.4MB 3.2MB/s\r",
      "\u001b[K     / 8.4MB 3.2MB/s\r",
      "\u001b[K     - 8.4MB 3.6MB/s\r",
      "\u001b[K     \\ 8.5MB 3.4MB/s\r",
      "\u001b[K     | 8.5MB 2.9MB/s\r",
      "\u001b[K     / 8.5MB 2.9MB/s\r",
      "\u001b[K     - 8.5MB 4.3MB/s"
     ]
    },
    {
     "name": "stdout",
     "output_type": "stream",
     "text": [
      "\r",
      "\u001b[K     \\ 8.5MB 3.4MB/s\r",
      "\u001b[K     | 8.5MB 3.4MB/s\r",
      "\u001b[K     / 8.5MB 3.5MB/s\r",
      "\u001b[K     - 8.5MB 3.5MB/s\r",
      "\u001b[K     \\ 8.5MB 2.9MB/s\r",
      "\u001b[K     | 8.6MB 2.9MB/s\r",
      "\u001b[K     / 8.6MB 3.1MB/s\r",
      "\u001b[K     - 8.6MB 3.0MB/s\r",
      "\u001b[K     \\ 8.6MB 3.0MB/s\r",
      "\u001b[K     | 8.6MB 3.4MB/s\r",
      "\u001b[K     / 8.6MB 3.6MB/s\r",
      "\u001b[K     - 8.6MB 2.8MB/s\r",
      "\u001b[K     \\ 8.6MB 2.8MB/s\r",
      "\u001b[K     | 8.6MB 2.9MB/s\r",
      "\u001b[K     / 8.6MB 3.1MB/s\r",
      "\u001b[K     - 8.7MB 3.1MB/s\r",
      "\u001b[K     \\ 8.7MB 3.7MB/s"
     ]
    },
    {
     "name": "stdout",
     "output_type": "stream",
     "text": [
      "\r",
      "\u001b[K     | 8.7MB 3.4MB/s\r",
      "\u001b[K     / 8.7MB 3.0MB/s\r",
      "\u001b[K     - 8.7MB 3.0MB/s\r",
      "\u001b[K     \\ 8.7MB 2.4MB/s\r",
      "\u001b[K     | 8.7MB 2.9MB/s\r",
      "\u001b[K     / 8.7MB 2.9MB/s\r",
      "\u001b[K     - 8.7MB 3.3MB/s\r",
      "\u001b[K     \\ 8.7MB 3.5MB/s\r",
      "\u001b[K     | 8.8MB 2.9MB/s\r",
      "\u001b[K     / 8.8MB 2.9MB/s\r",
      "\u001b[K     - 8.8MB 2.9MB/s\r",
      "\u001b[K     \\ 8.8MB 3.0MB/s\r",
      "\u001b[K     | 8.8MB 3.0MB/s\r",
      "\u001b[K     / 8.8MB 4.9MB/s\r",
      "\u001b[K     - 8.8MB 3.8MB/s\r",
      "\u001b[K     \\ 8.8MB 3.5MB/s\r",
      "\u001b[K     | 8.8MB 3.5MB/s"
     ]
    },
    {
     "name": "stdout",
     "output_type": "stream",
     "text": [
      "\r",
      "\u001b[K     / 8.8MB 2.9MB/s\r",
      "\u001b[K     - 8.9MB 3.0MB/s\r",
      "\u001b[K     \\ 8.9MB 3.0MB/s\r",
      "\u001b[K     | 8.9MB 4.1MB/s\r",
      "\u001b[K     / 8.9MB 3.6MB/s\r",
      "\u001b[K     - 8.9MB 3.1MB/s\r",
      "\u001b[K     \\ 8.9MB 3.1MB/s\r",
      "\u001b[K     | 8.9MB 3.1MB/s\r",
      "\u001b[K     / 8.9MB 2.4MB/s\r",
      "\u001b[K     - 8.9MB 2.4MB/s\r",
      "\u001b[K     \\ 8.9MB 2.8MB/s\r",
      "\u001b[K     | 9.0MB 3.2MB/s\r",
      "\u001b[K     / 9.0MB 2.7MB/s\r",
      "\u001b[K     - 9.0MB 2.7MB/s\r",
      "\u001b[K     \\ 9.0MB 3.1MB/s"
     ]
    },
    {
     "name": "stdout",
     "output_type": "stream",
     "text": [
      "\r",
      "\u001b[K     | 9.0MB 2.9MB/s\r",
      "\u001b[K     / 9.0MB 2.9MB/s\r",
      "\u001b[K     - 9.0MB 3.6MB/s\r",
      "\u001b[K     \\ 9.0MB 3.3MB/s\r",
      "\u001b[K     | 9.0MB 3.3MB/s\r",
      "\u001b[K     / 9.1MB 3.3MB/s\r",
      "\u001b[K     - 9.1MB 3.3MB/s\r",
      "\u001b[K     \\ 9.1MB 3.2MB/s\r",
      "\u001b[K     | 9.1MB 3.2MB/s\r",
      "\u001b[K     / 9.1MB 3.5MB/s\r",
      "\u001b[K     - 9.1MB 3.5MB/s\r",
      "\u001b[K     \\ 9.1MB 2.9MB/s\r",
      "\u001b[K     | 9.1MB 2.9MB/s\r",
      "\u001b[K     / 9.1MB 3.8MB/s\r",
      "\u001b[K     - 9.1MB 3.6MB/s\r",
      "\u001b[K     \\ 9.2MB 3.6MB/s\r",
      "\u001b[K     | 9.2MB 3.6MB/s"
     ]
    },
    {
     "name": "stdout",
     "output_type": "stream",
     "text": [
      "\r",
      "\u001b[K     / 9.2MB 3.6MB/s\r",
      "\u001b[K     - 9.2MB 2.7MB/s\r",
      "\u001b[K     \\ 9.2MB 2.7MB/s\r",
      "\u001b[K     | 9.2MB 3.2MB/s\r",
      "\u001b[K     / 9.2MB 3.3MB/s\r",
      "\u001b[K     - 9.2MB 3.3MB/s\r",
      "\u001b[K     \\ 9.2MB 4.0MB/s\r",
      "\u001b[K     | 9.2MB 3.5MB/s\r",
      "\u001b[K     / 9.3MB 3.0MB/s\r",
      "\u001b[K     - 9.3MB 3.0MB/s\r",
      "\u001b[K     \\ 9.3MB 3.0MB/s\r",
      "\u001b[K     | 9.3MB 3.3MB/s\r",
      "\u001b[K     / 9.3MB 3.3MB/s\r",
      "\u001b[K     - 9.3MB 3.5MB/s\r",
      "\u001b[K     \\ 9.3MB 3.6MB/s"
     ]
    },
    {
     "name": "stdout",
     "output_type": "stream",
     "text": [
      "\r",
      "\u001b[K     | 9.3MB 2.9MB/s\r",
      "\u001b[K     / 9.3MB 2.9MB/s\r",
      "\u001b[K     - 9.3MB 2.4MB/s\r",
      "\u001b[K     \\ 9.4MB 2.7MB/s\r",
      "\u001b[K     | 9.4MB 2.7MB/s\r",
      "\u001b[K     / 9.4MB 3.1MB/s\r",
      "\u001b[K     - 9.4MB 3.5MB/s\r",
      "\u001b[K     \\ 9.4MB 3.0MB/s\r",
      "\u001b[K     | 9.4MB 2.9MB/s\r",
      "\u001b[K     / 9.4MB 2.9MB/s\r",
      "\u001b[K     - 9.4MB 3.0MB/s\r",
      "\u001b[K     \\ 9.4MB 3.0MB/s\r",
      "\u001b[K     | 9.5MB 5.1MB/s\r",
      "\u001b[K     / 9.5MB 4.2MB/s\r",
      "\u001b[K     - 9.5MB 3.4MB/s\r",
      "\u001b[K     \\ 9.5MB 3.3MB/s\r",
      "\u001b[K     | 9.5MB 3.0MB/s"
     ]
    },
    {
     "name": "stdout",
     "output_type": "stream",
     "text": [
      "\r",
      "\u001b[K     / 9.5MB 2.9MB/s\r",
      "\u001b[K     - 9.5MB 2.9MB/s\r",
      "\u001b[K     \\ 9.5MB 3.3MB/s\r",
      "\u001b[K     | 9.5MB 3.6MB/s\r",
      "\u001b[K     / 9.5MB 3.1MB/s\r",
      "\u001b[K     - 9.6MB 3.1MB/s\r",
      "\u001b[K     \\ 9.6MB 2.9MB/s\r",
      "\u001b[K     | 9.6MB 3.0MB/s\r",
      "\u001b[K     / 9.6MB 3.0MB/s\r",
      "\u001b[K     - 9.6MB 3.6MB/s\r",
      "\u001b[K     \\ 9.6MB 3.9MB/s\r",
      "\u001b[K     | 9.6MB 3.2MB/s\r",
      "\u001b[K     / 9.6MB 3.1MB/s\r",
      "\u001b[K     - 9.6MB 2.8MB/s"
     ]
    },
    {
     "name": "stdout",
     "output_type": "stream",
     "text": [
      "\r",
      "\u001b[K     \\ 9.6MB 2.1MB/s\r",
      "\u001b[K     | 9.7MB 2.1MB/s\r",
      "\u001b[K     / 9.7MB 2.4MB/s\r",
      "\u001b[K     - 9.7MB 2.5MB/s\r",
      "\u001b[K     \\ 9.7MB 2.2MB/s\r",
      "\u001b[K     | 9.7MB 2.2MB/s\r",
      "\u001b[K     / 9.7MB 2.0MB/s\r",
      "\u001b[K     - 9.7MB 1.7MB/s\r",
      "\u001b[K     \\ 9.7MB 1.7MB/s\r",
      "\u001b[K     | 9.7MB 1.9MB/s\r",
      "\u001b[K     / 9.7MB 2.5MB/s"
     ]
    },
    {
     "name": "stdout",
     "output_type": "stream",
     "text": [
      "\r",
      "\u001b[K     - 9.8MB 1.7MB/s\r",
      "\u001b[K     \\ 9.8MB 1.7MB/s\r",
      "\u001b[K     | 9.8MB 1.7MB/s\r",
      "\u001b[K     / 9.8MB 1.8MB/s\r",
      "\u001b[K     - 9.8MB 1.8MB/s\r",
      "\u001b[K     \\ 9.8MB 2.2MB/s\r",
      "\u001b[K     | 9.8MB 2.9MB/s"
     ]
    },
    {
     "name": "stdout",
     "output_type": "stream",
     "text": [
      "\r",
      "\u001b[K     / 9.8MB 1.3MB/s\r",
      "\u001b[K     - 9.8MB 1.3MB/s\r",
      "\u001b[K     \\ 9.9MB 1.2MB/s\r",
      "\u001b[K     | 9.9MB 1.3MB/s\r",
      "\u001b[K     / 9.9MB 1.3MB/s\r",
      "\u001b[K     - 9.9MB 1.4MB/s\r",
      "\u001b[K     \\ 9.9MB 1.4MB/s\r",
      "\u001b[K     | 9.9MB 1.2MB/s\r",
      "\u001b[K     / 9.9MB 1.2MB/s"
     ]
    },
    {
     "name": "stdout",
     "output_type": "stream",
     "text": [
      "\r",
      "\u001b[K     - 9.9MB 1.2MB/s\r",
      "\u001b[K     \\ 9.9MB 2.3MB/s\r",
      "\u001b[K     | 9.9MB 2.3MB/s\r",
      "\u001b[K     / 10.0MB 2.9MB/s\r",
      "\u001b[K     - 10.0MB 3.7MB/s\r",
      "\u001b[K     \\ 10.0MB 3.1MB/s\r",
      "\u001b[K     | 10.0MB 3.1MB/s\r",
      "\u001b[K     / 10.0MB 2.9MB/s\r",
      "\u001b[K     - 10.0MB 3.1MB/s\r",
      "\u001b[K     \\ 10.0MB 3.1MB/s\r",
      "\u001b[K     | 10.0MB 3.7MB/s\r",
      "\u001b[K     / 10.0MB 3.8MB/s"
     ]
    },
    {
     "name": "stdout",
     "output_type": "stream",
     "text": [
      "\r",
      "\u001b[K     - 10.0MB 2.4MB/s\r",
      "\u001b[K     \\ 10.1MB 2.3MB/s\r",
      "\u001b[K     | 10.1MB 2.7MB/s\r",
      "\u001b[K     / 10.1MB 2.9MB/s\r",
      "\u001b[K     - 10.1MB 2.9MB/s\r",
      "\u001b[K     \\ 10.1MB 3.5MB/s\r",
      "\u001b[K     | 10.1MB 3.3MB/s\r",
      "\u001b[K     / 10.1MB 2.9MB/s\r",
      "\u001b[K     - 10.1MB 2.9MB/s\r",
      "\u001b[K     \\ 10.1MB 2.9MB/s\r",
      "\u001b[K     | 10.1MB 4.2MB/s\r",
      "\u001b[K     / 10.2MB 4.2MB/s\r",
      "\u001b[K     - 10.2MB 4.2MB/s\r",
      "\u001b[K     \\ 10.2MB 3.8MB/s\r",
      "\u001b[K     | 10.2MB 3.1MB/s\r",
      "\u001b[K     / 10.2MB 3.1MB/s\r",
      "\u001b[K     - 10.2MB 3.1MB/s\r",
      "\u001b[K     \\ 10.2MB 3.0MB/s\r",
      "\u001b[K     | 10.2MB 3.0MB/s\r",
      "\u001b[K     / 10.2MB 3.5MB/s"
     ]
    },
    {
     "name": "stdout",
     "output_type": "stream",
     "text": [
      "\r",
      "\u001b[K     - 10.3MB 3.6MB/s\r",
      "\u001b[K     \\ 10.3MB 3.0MB/s\r",
      "\u001b[K     | 10.3MB 2.9MB/s\r",
      "\u001b[K     / 10.3MB 2.9MB/s\r",
      "\u001b[K     - 10.3MB 2.9MB/s\r",
      "\u001b[K     \\ 10.3MB 2.9MB/s\r",
      "\u001b[K     | 10.3MB 3.5MB/s\r",
      "\u001b[K     / 10.3MB 3.5MB/s\r",
      "\u001b[K     - 10.3MB 2.9MB/s\r",
      "\u001b[K     \\ 10.3MB 2.9MB/s\r",
      "\u001b[K     | 10.4MB 3.0MB/s\r",
      "\u001b[K     / 10.4MB 2.4MB/s\r",
      "\u001b[K     - 10.4MB 2.4MB/s\r",
      "\u001b[K     \\ 10.4MB 2.7MB/s\r",
      "\u001b[K     | 10.4MB 3.2MB/s"
     ]
    },
    {
     "name": "stdout",
     "output_type": "stream",
     "text": [
      "\r",
      "\u001b[K     / 10.4MB 3.0MB/s\r",
      "\u001b[K     - 10.4MB 3.0MB/s\r",
      "\u001b[K     \\ 10.4MB 2.8MB/s\r",
      "\u001b[K     | 10.4MB 2.7MB/s\r",
      "\u001b[K     / 10.4MB 2.7MB/s\r",
      "\u001b[K     - 10.5MB 3.0MB/s\r",
      "\u001b[K     \\ 10.5MB 5.3MB/s\r",
      "\u001b[K     | 10.5MB 4.2MB/s\r",
      "\u001b[K     / 10.5MB 4.2MB/s\r",
      "\u001b[K     - 10.5MB 3.2MB/s\r",
      "\u001b[K     \\ 10.5MB 2.9MB/s\r",
      "\u001b[K     | 10.5MB 2.9MB/s\r",
      "\u001b[K     / 10.5MB 3.9MB/s\r",
      "\u001b[K     - 10.5MB 4.1MB/s\r",
      "\u001b[K     \\ 10.5MB 3.4MB/s\r",
      "\u001b[K     | 10.6MB 3.4MB/s"
     ]
    },
    {
     "name": "stdout",
     "output_type": "stream",
     "text": [
      "\r",
      "\u001b[K     / 10.6MB 2.8MB/s\r",
      "\u001b[K     - 10.6MB 2.8MB/s\r",
      "\u001b[K     \\ 10.6MB 2.8MB/s\r",
      "\u001b[K     | 10.6MB 3.5MB/s\r",
      "\u001b[K     / 10.6MB 3.4MB/s\r",
      "\u001b[K     - 10.6MB 2.6MB/s\r",
      "\u001b[K     \\ 10.6MB 2.6MB/s\r",
      "\u001b[K     | 10.6MB 2.8MB/s\r",
      "\u001b[K     / 10.6MB 2.9MB/s\r",
      "\u001b[K     - 10.7MB 2.9MB/s\r",
      "\u001b[K     \\ 10.7MB 3.6MB/s\r",
      "\u001b[K     | 10.7MB 3.4MB/s"
     ]
    },
    {
     "name": "stdout",
     "output_type": "stream",
     "text": [
      "\r",
      "\u001b[K     / 10.7MB 1.5MB/s\r",
      "\u001b[K     - 10.7MB 1.4MB/s\r",
      "\u001b[K     \\ 10.7MB 1.6MB/s\r",
      "\u001b[K     | 10.7MB 1.8MB/s\r",
      "\u001b[K     / 10.7MB 1.8MB/s\r",
      "\u001b[K     - 10.7MB 1.9MB/s\r",
      "\u001b[K     \\ 10.8MB 2.1MB/s\r",
      "\u001b[K     | 10.8MB 2.0MB/s\r",
      "\u001b[K     / 10.8MB 2.0MB/s\r",
      "\u001b[K     - 10.8MB 2.3MB/s\r",
      "\u001b[K     \\ 10.8MB 13.4MB/s\r",
      "\u001b[K     | 10.8MB 13.5MB/s\r",
      "\u001b[K     / 10.8MB 13.5MB/s\r",
      "\u001b[K     - 10.8MB 8.1MB/s\r",
      "\u001b[K     \\ 10.8MB 5.5MB/s\r",
      "\u001b[K     | 10.8MB 5.4MB/s\r",
      "\u001b[K     / 10.9MB 4.2MB/s"
     ]
    },
    {
     "name": "stdout",
     "output_type": "stream",
     "text": [
      "\r",
      "\u001b[K     - 10.9MB 2.3MB/s\r",
      "\u001b[K     \\ 10.9MB 2.3MB/s\r",
      "\u001b[K     | 10.9MB 2.3MB/s\r",
      "\u001b[K     / 10.9MB 2.3MB/s\r",
      "\u001b[K     - 10.9MB 2.1MB/s\r",
      "\u001b[K     \\ 10.9MB 2.1MB/s\r",
      "\u001b[K     | 10.9MB 1.7MB/s\r",
      "\u001b[K     / 10.9MB 1.8MB/s\r",
      "\u001b[K     - 10.9MB 1.8MB/s\r",
      "\u001b[K     \\ 11.0MB 2.0MB/s\r",
      "\u001b[K     | 11.0MB 3.2MB/s"
     ]
    },
    {
     "name": "stdout",
     "output_type": "stream",
     "text": [
      "\r",
      "\u001b[K     / 11.0MB 3.0MB/s\r",
      "\u001b[K     - 11.0MB 3.0MB/s\r",
      "\u001b[K     \\ 11.0MB 2.8MB/s\r",
      "\u001b[K     | 11.0MB 2.8MB/s\r",
      "\u001b[K     / 11.0MB 2.8MB/s\r",
      "\u001b[K     - 11.0MB 4.9MB/s\r",
      "\u001b[K     \\ 11.0MB 4.2MB/s\r",
      "\u001b[K     | 11.0MB 3.5MB/s\r",
      "\u001b[K     / 11.1MB 3.5MB/s\r",
      "\u001b[K     - 11.1MB 3.2MB/s\r",
      "\u001b[K     \\ 11.1MB 2.6MB/s\r",
      "\u001b[K     | 11.1MB 2.6MB/s\r",
      "\u001b[K     / 11.1MB 3.3MB/s\r",
      "\u001b[K     - 11.1MB 3.6MB/s"
     ]
    },
    {
     "name": "stdout",
     "output_type": "stream",
     "text": [
      "\r",
      "\u001b[K     \\ 11.1MB 2.5MB/s\r",
      "\u001b[K     | 11.1MB 2.5MB/s\r",
      "\u001b[K     / 11.1MB 2.9MB/s\r",
      "\u001b[K     - 11.2MB 3.1MB/s\r",
      "\u001b[K     \\ 11.2MB 3.1MB/s\r",
      "\u001b[K     | 11.2MB 3.7MB/s\r",
      "\u001b[K     / 11.2MB 4.2MB/s\r",
      "\u001b[K     - 11.2MB 3.3MB/s\r",
      "\u001b[K     \\ 11.2MB 3.3MB/s\r",
      "\u001b[K     | 11.2MB 3.1MB/s\r",
      "\u001b[K     / 11.2MB 3.7MB/s\r",
      "\u001b[K     - 11.2MB 3.6MB/s\r",
      "\u001b[K     \\ 11.2MB 3.6MB/s\r",
      "\u001b[K     | 11.3MB 2.5MB/s\r",
      "\u001b[K     / 11.3MB 2.4MB/s\r",
      "\u001b[K     - 11.3MB 2.4MB/s\r",
      "\u001b[K     \\ 11.3MB 2.8MB/s"
     ]
    },
    {
     "name": "stdout",
     "output_type": "stream",
     "text": [
      "\r",
      "\u001b[K     | 11.3MB 2.8MB/s\r",
      "\u001b[K     / 11.3MB 2.8MB/s\r",
      "\u001b[K     - 11.3MB 3.2MB/s\r",
      "\u001b[K     \\ 11.3MB 3.3MB/s\r",
      "\u001b[K     | 11.3MB 2.8MB/s\r",
      "\u001b[K     / 11.3MB 2.8MB/s\r",
      "\u001b[K     - 11.4MB 4.6MB/s\r",
      "\u001b[K     \\ 11.4MB 3.6MB/s\r",
      "\u001b[K     | 11.4MB 3.6MB/s\r",
      "\u001b[K     / 11.4MB 3.6MB/s\r",
      "\u001b[K     - 11.4MB 3.8MB/s\r",
      "\u001b[K     \\ 11.4MB 2.9MB/s\r",
      "\u001b[K     | 11.4MB 2.9MB/s\r",
      "\u001b[K     / 11.4MB 2.9MB/s\r",
      "\u001b[K     - 11.4MB 3.1MB/s\r",
      "\u001b[K     \\ 11.4MB 3.1MB/s\r",
      "\u001b[K     | 11.5MB 3.3MB/s\r",
      "\u001b[K     / 11.5MB 3.6MB/s"
     ]
    },
    {
     "name": "stdout",
     "output_type": "stream",
     "text": [
      "\r",
      "\u001b[K     - 11.5MB 2.8MB/s\r",
      "\u001b[K     \\ 11.5MB 2.8MB/s\r",
      "\u001b[K     | 11.5MB 3.1MB/s\r",
      "\u001b[K     / 11.5MB 3.4MB/s\r",
      "\u001b[K     - 11.5MB 3.5MB/s\r",
      "\u001b[K     \\ 11.5MB 4.5MB/s\r",
      "\u001b[K     | 11.5MB 3.9MB/s\r",
      "\u001b[K     / 11.6MB 2.9MB/s\r",
      "\u001b[K     - 11.6MB 2.9MB/s\r",
      "\u001b[K     \\ 11.6MB 2.5MB/s\r",
      "\u001b[K     | 11.6MB 3.1MB/s\r",
      "\u001b[K     / 11.6MB 3.1MB/s\r",
      "\u001b[K     - 11.6MB 3.2MB/s\r",
      "\u001b[K     \\ 11.6MB 3.2MB/s"
     ]
    },
    {
     "name": "stdout",
     "output_type": "stream",
     "text": [
      "\r",
      "\u001b[K     | 11.6MB 2.2MB/s\r",
      "\u001b[K     / 11.6MB 2.2MB/s\r",
      "\u001b[K     - 11.6MB 2.4MB/s\r",
      "\u001b[K     \\ 11.7MB 3.0MB/s\r",
      "\u001b[K     | 11.7MB 3.0MB/s\r",
      "\u001b[K     / 11.7MB 4.1MB/s\r",
      "\u001b[K     - 11.7MB 2.9MB/s\r",
      "\u001b[K     \\ 11.7MB 2.9MB/s\r",
      "\u001b[K     | 11.7MB 2.9MB/s\r",
      "\u001b[K     / 11.7MB 3.2MB/s\r",
      "\u001b[K     - 11.7MB 4.0MB/s\r",
      "\u001b[K     \\ 11.7MB 4.0MB/s\r",
      "\u001b[K     | 11.7MB 4.4MB/s\r",
      "\u001b[K     / 11.8MB 4.0MB/s\r",
      "\u001b[K     - 11.8MB 3.1MB/s\r",
      "\u001b[K     \\ 11.8MB 3.1MB/s\r",
      "\u001b[K     | 11.8MB 4.2MB/s\r",
      "\u001b[K     / 11.8MB 3.4MB/s"
     ]
    },
    {
     "name": "stdout",
     "output_type": "stream",
     "text": [
      "\r",
      "\u001b[K     - 11.8MB 3.4MB/s\r",
      "\u001b[K     \\ 11.8MB 3.7MB/s\r",
      "\u001b[K     | 11.8MB 3.1MB/s\r",
      "\u001b[K     / 11.8MB 1.8MB/s\r",
      "\u001b[K     - 11.8MB 1.8MB/s\r",
      "\u001b[K     \\ 11.9MB 1.9MB/s\r",
      "\u001b[K     | 11.9MB 2.2MB/s\r",
      "\u001b[K     / 11.9MB 2.2MB/s\r",
      "\u001b[K     - 11.9MB 2.3MB/s\r",
      "\u001b[K     \\ 11.9MB 2.6MB/s\r",
      "\u001b[K     | 11.9MB 2.4MB/s\r",
      "\u001b[K     / 11.9MB 2.4MB/s\r",
      "\u001b[K     - 11.9MB 2.8MB/s"
     ]
    },
    {
     "name": "stdout",
     "output_type": "stream",
     "text": [
      "\r",
      "\u001b[K     \\ 11.9MB 4.2MB/s\r",
      "\u001b[K     | 12.0MB 4.2MB/s\r",
      "\u001b[K     / 12.0MB 4.2MB/s\r",
      "\u001b[K     - 12.0MB 4.5MB/s\r",
      "\u001b[K     \\ 12.0MB 3.6MB/s\r",
      "\u001b[K     | 12.0MB 3.6MB/s\r",
      "\u001b[K     / 12.0MB 2.3MB/s\r",
      "\u001b[K     - 12.0MB 2.6MB/s\r",
      "\u001b[K     \\ 12.0MB 2.6MB/s\r",
      "\u001b[K     | 12.0MB 3.1MB/s\r",
      "\u001b[K     / 12.0MB 4.4MB/s\r",
      "\u001b[K     - 12.1MB 3.4MB/s\r",
      "\u001b[K     \\ 12.1MB 3.4MB/s\r",
      "\u001b[K     | 12.1MB 2.9MB/s\r",
      "\u001b[K     / 12.1MB 2.8MB/s"
     ]
    },
    {
     "name": "stdout",
     "output_type": "stream",
     "text": [
      "\r",
      "\u001b[K     - 12.1MB 2.8MB/s\r",
      "\u001b[K     \\ 12.1MB 5.0MB/s\r",
      "\u001b[K     | 12.1MB 4.0MB/s\r",
      "\u001b[K     / 12.1MB 3.4MB/s\r",
      "\u001b[K     - 12.1MB 3.4MB/s\r",
      "\u001b[K     \\ 12.1MB 2.9MB/s\r",
      "\u001b[K     | 12.2MB 3.1MB/s\r",
      "\u001b[K     / 12.2MB 3.0MB/s\r",
      "\u001b[K     - 12.2MB 3.6MB/s\r",
      "\u001b[K     \\ 12.2MB 2.9MB/s\r",
      "\u001b[K     | 12.2MB 2.8MB/s\r",
      "\u001b[K     / 12.2MB 2.8MB/s\r",
      "\u001b[K     - 12.2MB 3.1MB/s\r",
      "\u001b[K     \\ 12.2MB 3.0MB/s\r",
      "\u001b[K     | 12.2MB 3.0MB/s\r",
      "\u001b[K     / 12.2MB 3.6MB/s\r",
      "\u001b[K     - 12.3MB 3.6MB/s"
     ]
    },
    {
     "name": "stdout",
     "output_type": "stream",
     "text": [
      "\r",
      "\u001b[K     \\ 12.3MB 3.0MB/s\r",
      "\u001b[K     | 12.3MB 3.0MB/s\r",
      "\u001b[K     / 12.3MB 3.8MB/s\r",
      "\u001b[K     - 12.3MB 2.8MB/s\r",
      "\u001b[K     \\ 12.3MB 2.8MB/s\r",
      "\u001b[K     | 12.3MB 3.0MB/s\r",
      "\u001b[K     / 12.3MB 3.5MB/s\r",
      "\u001b[K     - 12.3MB 2.7MB/s\r",
      "\u001b[K     \\ 12.3MB 2.7MB/s\r",
      "\u001b[K     | 12.4MB 2.8MB/s\r",
      "\u001b[K     / 12.4MB 2.9MB/s\r",
      "\u001b[K     - 12.4MB 2.9MB/s\r",
      "\u001b[K     \\ 12.4MB 3.6MB/s\r",
      "\u001b[K     | 12.4MB 4.2MB/s\r",
      "\u001b[K     / 12.4MB 3.3MB/s"
     ]
    },
    {
     "name": "stdout",
     "output_type": "stream",
     "text": [
      "\r",
      "\u001b[K     - 12.4MB 3.3MB/s\r",
      "\u001b[K     \\ 12.4MB 2.9MB/s\r",
      "\u001b[K     | 12.4MB 3.3MB/s\r",
      "\u001b[K     / 12.5MB 3.3MB/s\r",
      "\u001b[K     - 12.5MB 3.9MB/s\r",
      "\u001b[K     \\ 12.5MB 3.7MB/s\r",
      "\u001b[K     | 12.5MB 3.1MB/s\r",
      "\u001b[K     / 12.5MB 3.1MB/s\r",
      "\u001b[K     - 12.5MB 2.5MB/s\r",
      "\u001b[K     \\ 12.5MB 2.9MB/s\r",
      "\u001b[K     | 12.5MB 2.9MB/s\r",
      "\u001b[K     / 12.5MB 3.3MB/s\r",
      "\u001b[K     - 12.5MB 3.4MB/s\r",
      "\u001b[K     \\ 12.6MB 3.0MB/s\r",
      "\u001b[K     | 12.6MB 3.0MB/s\r",
      "\u001b[K     / 12.6MB 3.0MB/s"
     ]
    },
    {
     "name": "stdout",
     "output_type": "stream",
     "text": [
      "\r",
      "\u001b[K     - 12.6MB 3.0MB/s\r",
      "\u001b[K     \\ 12.6MB 3.0MB/s\r",
      "\u001b[K     | 12.6MB 4.7MB/s\r",
      "\u001b[K     / 12.6MB 3.8MB/s\r",
      "\u001b[K     - 12.6MB 2.9MB/s\r",
      "\u001b[K     \\ 12.6MB 2.9MB/s\r",
      "\u001b[K     | 12.6MB 2.9MB/s\r",
      "\u001b[K     / 12.7MB 2.6MB/s\r",
      "\u001b[K     - 12.7MB 2.5MB/s\r",
      "\u001b[K     \\ 12.7MB 2.9MB/s\r",
      "\u001b[K     | 12.7MB 3.5MB/s\r",
      "\u001b[K     / 12.7MB 2.9MB/s\r",
      "\u001b[K     - 12.7MB 2.9MB/s\r",
      "\u001b[K     \\ 12.7MB 3.1MB/s\r",
      "\u001b[K     | 12.7MB 3.3MB/s\r",
      "\u001b[K     / 12.7MB 3.3MB/s\r",
      "\u001b[K     - 12.7MB 3.8MB/s"
     ]
    },
    {
     "name": "stdout",
     "output_type": "stream",
     "text": [
      "\r",
      "\u001b[K     \\ 12.8MB 4.4MB/s\r",
      "\u001b[K     | 12.8MB 3.4MB/s\r",
      "\u001b[K     / 12.8MB 3.4MB/s\r",
      "\u001b[K     - 12.8MB 2.9MB/s\r",
      "\u001b[K     \\ 12.8MB 2.3MB/s\r",
      "\u001b[K     | 12.8MB 2.3MB/s\r",
      "\u001b[K     / 12.8MB 2.5MB/s\r",
      "\u001b[K     - 12.8MB 2.8MB/s\r",
      "\u001b[K     \\ 12.8MB 2.8MB/s\r",
      "\u001b[K     | 12.9MB 2.8MB/s\r",
      "\u001b[K     / 12.9MB 2.9MB/s\r",
      "\u001b[K     - 12.9MB 3.0MB/s\r",
      "\u001b[K     \\ 12.9MB 3.0MB/s\r",
      "\u001b[K     | 12.9MB 3.5MB/s\r",
      "\u001b[K     / 12.9MB 5.3MB/s"
     ]
    },
    {
     "name": "stdout",
     "output_type": "stream",
     "text": [
      "\r",
      "\u001b[K     - 12.9MB 4.3MB/s\r",
      "\u001b[K     \\ 12.9MB 4.3MB/s\r",
      "\u001b[K     | 12.9MB 3.7MB/s\r",
      "\u001b[K     / 12.9MB 2.6MB/s\r",
      "\u001b[K     - 13.0MB 2.6MB/s\r",
      "\u001b[K     \\ 13.0MB 2.9MB/s\r",
      "\u001b[K     | 13.0MB 2.8MB/s\r",
      "\u001b[K     / 13.0MB 2.1MB/s\r",
      "\u001b[K     - 13.0MB 2.1MB/s\r",
      "\u001b[K     \\ 13.0MB 2.4MB/s\r",
      "\u001b[K     | 13.0MB 2.3MB/s\r",
      "\u001b[K     / 13.0MB 2.3MB/s\r",
      "\u001b[K     - 13.0MB 2.5MB/s\r",
      "\u001b[K     \\ 13.0MB 3.4MB/s"
     ]
    },
    {
     "name": "stdout",
     "output_type": "stream",
     "text": [
      "\r",
      "\u001b[K     | 13.1MB 2.9MB/s\r",
      "\u001b[K     / 13.1MB 2.9MB/s\r",
      "\u001b[K     - 13.1MB 3.0MB/s\r",
      "\u001b[K     \\ 13.1MB 3.7MB/s\r",
      "\u001b[K     | 13.1MB 3.7MB/s\r",
      "\u001b[K     / 13.1MB 3.7MB/s\r",
      "\u001b[K     - 13.1MB 3.1MB/s\r",
      "\u001b[K     \\ 13.1MB 3.0MB/s\r",
      "\u001b[K     | 13.1MB 3.0MB/s\r",
      "\u001b[K     / 13.1MB 2.3MB/s\r",
      "\u001b[K     - 13.2MB 2.3MB/s\r",
      "\u001b[K     \\ 13.2MB 2.3MB/s\r",
      "\u001b[K     | 13.2MB 2.7MB/s\r",
      "\u001b[K     / 13.2MB 3.2MB/s"
     ]
    },
    {
     "name": "stdout",
     "output_type": "stream",
     "text": [
      "\r",
      "\u001b[K     - 13.2MB 2.9MB/s\r",
      "\u001b[K     \\ 13.2MB 2.9MB/s\r",
      "\u001b[K     | 13.2MB 3.6MB/s\r",
      "\u001b[K     / 13.2MB 3.1MB/s\r",
      "\u001b[K     - 13.2MB 3.1MB/s\r",
      "\u001b[K     \\ 13.3MB 4.7MB/s\r",
      "\u001b[K     | 13.3MB 5.3MB/s\r",
      "\u001b[K     / 13.3MB 3.6MB/s\r",
      "\u001b[K     - 13.3MB 3.6MB/s\r",
      "\u001b[K     \\ 13.3MB 3.2MB/s\r",
      "\u001b[K     | 13.3MB 3.1MB/s\r",
      "\u001b[K     / 13.3MB 3.1MB/s\r",
      "\u001b[K     - 13.3MB 3.7MB/s\r",
      "\u001b[K     \\ 13.3MB 3.4MB/s\r",
      "\u001b[K     | 13.3MB 2.5MB/s"
     ]
    },
    {
     "name": "stdout",
     "output_type": "stream",
     "text": [
      "\r",
      "\u001b[K     / 13.4MB 2.5MB/s\r",
      "\u001b[K     - 13.4MB 2.8MB/s\r",
      "\u001b[K     \\ 13.4MB 3.0MB/s\r",
      "\u001b[K     | 13.4MB 3.0MB/s\r",
      "\u001b[K     / 13.4MB 3.4MB/s\r",
      "\u001b[K     - 13.4MB 3.7MB/s\r",
      "\u001b[K     \\ 13.4MB 3.0MB/s\r",
      "\u001b[K     | 13.4MB 2.9MB/s\r",
      "\u001b[K     / 13.4MB 2.7MB/s\r",
      "\u001b[K     - 13.4MB 3.6MB/s\r",
      "\u001b[K     \\ 13.5MB 3.6MB/s\r",
      "\u001b[K     | 13.5MB 3.6MB/s\r",
      "\u001b[K     / 13.5MB 3.6MB/s\r",
      "\u001b[K     - 13.5MB 3.3MB/s\r",
      "\u001b[K     \\ 13.5MB 3.2MB/s\r",
      "\u001b[K     | 13.5MB 2.6MB/s\r",
      "\u001b[K     / 13.5MB 3.1MB/s\r",
      "\u001b[K     - 13.5MB 3.1MB/s"
     ]
    },
    {
     "name": "stdout",
     "output_type": "stream",
     "text": [
      "\r",
      "\u001b[K     \\ 13.5MB 4.4MB/s\r",
      "\u001b[K     | 13.5MB 3.8MB/s\r",
      "\u001b[K     / 13.6MB 3.0MB/s\r",
      "\u001b[K     - 13.6MB 3.0MB/s\r",
      "\u001b[K     \\ 13.6MB 3.2MB/s\r",
      "\u001b[K     | 13.6MB 2.9MB/s\r",
      "\u001b[K     / 13.6MB 2.9MB/s\r",
      "\u001b[K     - 13.6MB 4.0MB/s\r",
      "\u001b[K     \\ 13.6MB 3.3MB/s\r",
      "\u001b[K     | 13.6MB 2.8MB/s\r",
      "\u001b[K     / 13.6MB 2.9MB/s\r",
      "\u001b[K     - 13.6MB 3.0MB/s\r",
      "\u001b[K     \\ 13.7MB 3.1MB/s\r",
      "\u001b[K     | 13.7MB 3.1MB/s\r",
      "\u001b[K     / 13.7MB 3.5MB/s\r",
      "\u001b[K     - 13.7MB 3.8MB/s"
     ]
    },
    {
     "name": "stdout",
     "output_type": "stream",
     "text": [
      "\r",
      "\u001b[K     \\ 13.7MB 2.6MB/s\r",
      "\u001b[K     | 13.7MB 2.6MB/s\r",
      "\u001b[K     / 13.7MB 2.9MB/s\r",
      "\u001b[K     - 13.7MB 3.2MB/s\r",
      "\u001b[K     \\ 13.7MB 3.2MB/s\r",
      "\u001b[K     | 13.8MB 3.6MB/s\r",
      "\u001b[K     / 13.8MB 3.0MB/s\r",
      "\u001b[K     - 13.8MB 2.9MB/s\r",
      "\u001b[K     \\ 13.8MB 2.9MB/s\r",
      "\u001b[K     | 13.8MB 3.0MB/s\r",
      "\u001b[K     / 13.8MB 3.5MB/s\r",
      "\u001b[K     - 13.8MB 3.5MB/s\r",
      "\u001b[K     \\ 13.8MB 3.8MB/s\r",
      "\u001b[K     | 13.8MB 3.2MB/s\r",
      "\u001b[K     / 13.8MB 3.0MB/s\r",
      "\u001b[K     - 13.9MB 3.0MB/s"
     ]
    },
    {
     "name": "stdout",
     "output_type": "stream",
     "text": [
      "\r",
      "\u001b[K     \\ 13.9MB 3.4MB/s\r",
      "\u001b[K     | 13.9MB 3.2MB/s\r",
      "\u001b[K     / 13.9MB 3.1MB/s\r",
      "\u001b[K     - 13.9MB 3.6MB/s\r",
      "\u001b[K     \\ 13.9MB 3.5MB/s\r",
      "\u001b[K     | 13.9MB 3.0MB/s\r",
      "\u001b[K     / 13.9MB 3.0MB/s\r",
      "\u001b[K     - 13.9MB 2.8MB/s\r",
      "\u001b[K     \\ 13.9MB 2.7MB/s\r",
      "\u001b[K     | 14.0MB 2.7MB/s\r",
      "\u001b[K     / 14.0MB 3.4MB/s\r",
      "\u001b[K     - 14.0MB 3.4MB/s\r",
      "\u001b[K     \\ 14.0MB 3.0MB/s\r",
      "\u001b[K     | 14.0MB 2.9MB/s\r",
      "\u001b[K     / 14.0MB 3.0MB/s\r",
      "\u001b[K     - 14.0MB 2.8MB/s"
     ]
    },
    {
     "name": "stdout",
     "output_type": "stream",
     "text": [
      "\r",
      "\u001b[K     \\ 14.0MB 2.8MB/s\r",
      "\u001b[K     | 14.0MB 3.8MB/s\r",
      "\u001b[K     / 14.0MB 3.7MB/s\r",
      "\u001b[K     - 14.1MB 2.2MB/s\r",
      "\u001b[K     \\ 14.1MB 2.2MB/s\r",
      "\u001b[K     | 14.1MB 2.3MB/s\r",
      "\u001b[K     / 14.1MB 2.5MB/s\r",
      "\u001b[K     - 14.1MB 2.5MB/s\r",
      "\u001b[K     \\ 14.1MB 3.0MB/s\r",
      "\u001b[K     | 14.1MB 3.7MB/s\r",
      "\u001b[K     / 14.1MB 2.8MB/s\r",
      "\u001b[K     - 14.1MB 2.8MB/s\r",
      "\u001b[K     \\ 14.2MB 2.7MB/s\r",
      "\u001b[K     | 14.2MB 3.9MB/s\r",
      "\u001b[K     / 14.2MB 3.9MB/s\r",
      "\u001b[K     - 14.2MB 4.0MB/s"
     ]
    },
    {
     "name": "stdout",
     "output_type": "stream",
     "text": [
      "\r",
      "\u001b[K     \\ 14.2MB 3.5MB/s\r",
      "\u001b[K     | 14.2MB 2.8MB/s\r",
      "\u001b[K     / 14.2MB 2.8MB/s\r",
      "\u001b[K     - 14.2MB 2.4MB/s\r",
      "\u001b[K     \\ 14.2MB 3.0MB/s\r",
      "\u001b[K     | 14.2MB 2.5MB/s\r",
      "\u001b[K     / 14.3MB 2.9MB/s\r",
      "\u001b[K     - 14.3MB 3.2MB/s\r",
      "\u001b[K     \\ 14.3MB 2.8MB/s\r",
      "\u001b[K     | 14.3MB 2.8MB/s\r",
      "\u001b[K     / 14.3MB 2.8MB/s\r",
      "\u001b[K     - 14.3MB 2.8MB/s\r",
      "\u001b[K     \\ 14.3MB 2.8MB/s\r",
      "\u001b[K     | 14.3MB 3.4MB/s"
     ]
    },
    {
     "name": "stdout",
     "output_type": "stream",
     "text": [
      "\r",
      "\u001b[K     / 14.3MB 2.9MB/s\r",
      "\u001b[K     - 14.3MB 2.3MB/s\r",
      "\u001b[K     \\ 14.4MB 2.3MB/s\r",
      "\u001b[K     | 14.4MB 2.5MB/s\r",
      "\u001b[K     / 14.4MB 2.8MB/s\r",
      "\u001b[K     - 14.4MB 2.8MB/s\r",
      "\u001b[K     \\ 14.4MB 3.3MB/s\r",
      "\u001b[K     | 14.4MB 3.0MB/s\r",
      "\u001b[K     / 14.4MB 3.0MB/s\r",
      "\u001b[K     - 14.4MB 3.0MB/s\r",
      "\u001b[K     \\ 14.4MB 3.0MB/s\r",
      "\u001b[K     | 14.4MB 4.6MB/s\r",
      "\u001b[K     / 14.5MB 4.6MB/s\r",
      "\u001b[K     - 14.5MB 4.6MB/s\r",
      "\u001b[K     \\ 14.5MB 3.6MB/s"
     ]
    },
    {
     "name": "stdout",
     "output_type": "stream",
     "text": [
      "\r",
      "\u001b[K     | 14.5MB 2.9MB/s\r",
      "\u001b[K     / 14.5MB 2.9MB/s\r",
      "\u001b[K     - 14.5MB 3.6MB/s\r",
      "\u001b[K     \\ 14.5MB 2.9MB/s\r",
      "\u001b[K     | 14.5MB 2.9MB/s\r",
      "\u001b[K     / 14.5MB 3.5MB/s\r",
      "\u001b[K     - 14.6MB 3.3MB/s\r",
      "\u001b[K     \\ 14.6MB 3.0MB/s\r",
      "\u001b[K     | 14.6MB 3.0MB/s\r",
      "\u001b[K     / 14.6MB 3.0MB/s\r",
      "\u001b[K     - 14.6MB 3.2MB/s\r",
      "\u001b[K     \\ 14.6MB 3.2MB/s\r",
      "\u001b[K     | 14.6MB 3.4MB/s\r",
      "\u001b[K     / 14.6MB 3.7MB/s\r",
      "\u001b[K     - 14.6MB 3.0MB/s\r",
      "\u001b[K     \\ 14.6MB 3.0MB/s\r",
      "\u001b[K     | 14.7MB 3.2MB/s"
     ]
    },
    {
     "name": "stdout",
     "output_type": "stream",
     "text": [
      "\r",
      "\u001b[K     / 14.7MB 2.3MB/s\r",
      "\u001b[K     - 14.7MB 2.3MB/s\r",
      "\u001b[K     \\ 14.7MB 2.6MB/s\r",
      "\u001b[K     | 14.7MB 3.0MB/s\r",
      "\u001b[K     / 14.7MB 3.0MB/s\r",
      "\u001b[K     - 14.7MB 3.0MB/s\r",
      "\u001b[K     \\ 14.7MB 2.9MB/s\r",
      "\u001b[K     | 14.7MB 3.1MB/s\r",
      "\u001b[K     / 14.7MB 3.1MB/s\r",
      "\u001b[K     - 14.8MB 3.6MB/s\r",
      "\u001b[K     \\ 14.8MB 4.5MB/s\r",
      "\u001b[K     | 14.8MB 4.5MB/s\r",
      "\u001b[K     / 14.8MB 4.5MB/s\r",
      "\u001b[K     - 14.8MB 3.7MB/s\r",
      "\u001b[K     \\ 14.8MB 3.2MB/s\r",
      "\u001b[K     | 14.8MB 3.2MB/s\r",
      "\u001b[K     / 14.8MB 4.0MB/s"
     ]
    },
    {
     "name": "stdout",
     "output_type": "stream",
     "text": [
      "\r",
      "\u001b[K     - 14.8MB 3.5MB/s\r",
      "\u001b[K     \\ 14.8MB 2.9MB/s\r",
      "\u001b[K     | 14.9MB 2.9MB/s\r",
      "\u001b[K     / 14.9MB 3.0MB/s\r",
      "\u001b[K     - 14.9MB 2.9MB/s\r",
      "\u001b[K     \\ 14.9MB 2.9MB/s\r",
      "\u001b[K     | 14.9MB 3.4MB/s\r",
      "\u001b[K     / 14.9MB 3.4MB/s\r",
      "\u001b[K     - 14.9MB 2.9MB/s\r",
      "\u001b[K     \\ 14.9MB 2.9MB/s\r",
      "\u001b[K     | 14.9MB 2.8MB/s\r",
      "\u001b[K     / 15.0MB 3.0MB/s\r",
      "\u001b[K     - 15.0MB 3.0MB/s\r",
      "\u001b[K     \\ 15.0MB 4.3MB/s\r",
      "\u001b[K     | 15.0MB 3.7MB/s"
     ]
    },
    {
     "name": "stdout",
     "output_type": "stream",
     "text": [
      "\r",
      "\u001b[K     / 15.0MB 2.3MB/s\r",
      "\u001b[K     - 15.0MB 2.3MB/s\r",
      "\u001b[K     \\ 15.0MB 2.6MB/s\r",
      "\u001b[K     | 15.0MB 3.0MB/s\r",
      "\u001b[K     / 15.0MB 3.0MB/s\r",
      "\u001b[K     - 15.0MB 3.8MB/s\r",
      "\u001b[K     \\ 15.1MB 3.5MB/s\r",
      "\u001b[K     | 15.1MB 3.2MB/s\r",
      "\u001b[K     / 15.1MB 3.2MB/s\r",
      "\u001b[K     - 15.1MB 2.9MB/s\r",
      "\u001b[K     \\ 15.1MB 4.0MB/s\r",
      "\u001b[K     | 15.1MB 4.0MB/s\r",
      "\u001b[K     / 15.1MB 4.1MB/s\r",
      "\u001b[K     - 15.1MB 2.9MB/s\r",
      "\u001b[K     \\ 15.1MB 2.9MB/s\r",
      "\u001b[K     | 15.1MB 2.9MB/s"
     ]
    },
    {
     "name": "stdout",
     "output_type": "stream",
     "text": [
      "\r",
      "\u001b[K     / 15.2MB 3.0MB/s\r",
      "\u001b[K     - 15.2MB 2.6MB/s\r",
      "\u001b[K     \\ 15.2MB 2.6MB/s\r",
      "\u001b[K     | 15.2MB 3.2MB/s\r",
      "\u001b[K     / 15.2MB 3.5MB/s\r",
      "\u001b[K     - 15.2MB 2.9MB/s\r",
      "\u001b[K     \\ 15.2MB 2.9MB/s\r",
      "\u001b[K     | 15.2MB 3.7MB/s\r",
      "\u001b[K     / 15.2MB 3.0MB/s\r",
      "\u001b[K     - 15.2MB 3.0MB/s\r",
      "\u001b[K     \\ 15.3MB 3.6MB/s\r",
      "\u001b[K     | 15.3MB 3.7MB/s\r",
      "\u001b[K     / 15.3MB 3.3MB/s\r",
      "\u001b[K     - 15.3MB 3.3MB/s\r",
      "\u001b[K     \\ 15.3MB 3.1MB/s"
     ]
    },
    {
     "name": "stdout",
     "output_type": "stream",
     "text": [
      "\r",
      "\u001b[K     | 15.3MB 2.5MB/s\r",
      "\u001b[K     / 15.3MB 2.5MB/s\r",
      "\u001b[K     - 15.3MB 2.6MB/s\r",
      "\u001b[K     \\ 15.3MB 3.1MB/s\r",
      "\u001b[K     | 15.3MB 3.0MB/s\r",
      "\u001b[K     / 15.4MB 3.0MB/s\r",
      "\u001b[K     - 15.4MB 3.0MB/s\r",
      "\u001b[K     \\ 15.4MB 2.8MB/s\r",
      "\u001b[K     | 15.4MB 2.8MB/s\r",
      "\u001b[K     / 15.4MB 3.3MB/s\r",
      "\u001b[K     - 15.4MB 4.8MB/s\r",
      "\u001b[K     \\ 15.4MB 4.1MB/s\r",
      "\u001b[K     | 15.4MB 4.1MB/s\r",
      "\u001b[K     / 15.4MB 3.3MB/s\r",
      "\u001b[K     - 15.5MB 2.9MB/s\r",
      "\u001b[K     \\ 15.5MB 2.9MB/s\r",
      "\u001b[K     | 15.5MB 3.4MB/s"
     ]
    },
    {
     "name": "stdout",
     "output_type": "stream",
     "text": [
      "\r",
      "\u001b[K     / 15.5MB 3.1MB/s\r",
      "\u001b[K     - 15.5MB 3.1MB/s\r",
      "\u001b[K     \\ 15.5MB 3.1MB/s\r",
      "\u001b[K     | 15.5MB 2.9MB/s\r",
      "\u001b[K     / 15.5MB 2.8MB/s\r",
      "\u001b[K     - 15.5MB 2.8MB/s\r",
      "\u001b[K     \\ 15.5MB 3.3MB/s\r",
      "\u001b[K     | 15.6MB 3.4MB/s\r",
      "\u001b[K     / 15.6MB 2.9MB/s\r",
      "\u001b[K     - 15.6MB 2.9MB/s\r",
      "\u001b[K     \\ 15.6MB 3.2MB/s\r",
      "\u001b[K     | 15.6MB 2.9MB/s\r",
      "\u001b[K     / 15.6MB 2.9MB/s\r",
      "\u001b[K     - 15.6MB 3.6MB/s\r",
      "\u001b[K     \\ 15.6MB 3.7MB/s"
     ]
    },
    {
     "name": "stdout",
     "output_type": "stream",
     "text": [
      "\r",
      "\u001b[K     | 15.6MB 2.6MB/s\r",
      "\u001b[K     / 15.6MB 2.6MB/s\r",
      "\u001b[K     - 15.7MB 2.9MB/s\r",
      "\u001b[K     \\ 15.7MB 2.9MB/s\r",
      "\u001b[K     | 15.7MB 2.9MB/s\r",
      "\u001b[K     / 15.7MB 3.5MB/s\r",
      "\u001b[K     - 15.7MB 3.1MB/s\r",
      "\u001b[K     \\ 15.7MB 2.6MB/s\r",
      "\u001b[K     | 15.7MB 2.6MB/s\r",
      "\u001b[K     / 15.7MB 2.7MB/s\r",
      "\u001b[K     - 15.7MB 3.3MB/s\r",
      "\u001b[K     \\ 15.7MB 3.4MB/s\r",
      "\u001b[K     | 15.8MB 3.4MB/s\r",
      "\u001b[K     / 15.8MB 3.4MB/s"
     ]
    },
    {
     "name": "stdout",
     "output_type": "stream",
     "text": [
      "\r",
      "\u001b[K     - 15.8MB 2.5MB/s\r",
      "\u001b[K     \\ 15.8MB 2.5MB/s\r",
      "\u001b[K     | 15.8MB 2.9MB/s\r",
      "\u001b[K     / 15.8MB 2.6MB/s\r",
      "\u001b[K     - 15.8MB 2.6MB/s\r",
      "\u001b[K     \\ 15.8MB 3.0MB/s\r",
      "\u001b[K     | 15.8MB 3.1MB/s\r",
      "\u001b[K     / 15.9MB 2.8MB/s\r",
      "\u001b[K     - 15.9MB 2.8MB/s\r",
      "\u001b[K     \\ 15.9MB 2.8MB/s\r",
      "\u001b[K     | 15.9MB 3.1MB/s\r",
      "\u001b[K     / 15.9MB 3.1MB/s\r",
      "\u001b[K     - 15.9MB 3.4MB/s\r",
      "\u001b[K     \\ 15.9MB 3.8MB/s\r",
      "\u001b[K     | 15.9MB 3.4MB/s\r",
      "\u001b[K     / 15.9MB 3.4MB/s"
     ]
    },
    {
     "name": "stdout",
     "output_type": "stream",
     "text": [
      "\r",
      "\u001b[K     - 15.9MB 2.4MB/s\r",
      "\u001b[K     \\ 16.0MB 2.6MB/s\r",
      "\u001b[K     | 16.0MB 2.6MB/s\r",
      "\u001b[K     / 16.0MB 3.0MB/s\r",
      "\u001b[K     - 16.0MB 3.5MB/s\r",
      "\u001b[K     \\ 16.0MB 3.1MB/s\r",
      "\u001b[K     | 16.0MB 3.1MB/s\r",
      "\u001b[K     / 16.0MB 3.1MB/s\r",
      "\u001b[K     - 16.0MB 2.9MB/s\r",
      "\u001b[K     \\ 16.0MB 2.9MB/s\r",
      "\u001b[K     | 16.0MB 5.0MB/s\r",
      "\u001b[K     / 16.1MB 4.2MB/s\r",
      "\u001b[K     - 16.1MB 3.4MB/s\r",
      "\u001b[K     \\ 16.1MB 3.4MB/s\r",
      "\u001b[K     | 16.1MB 3.0MB/s"
     ]
    },
    {
     "name": "stdout",
     "output_type": "stream",
     "text": [
      "\r",
      "\u001b[K     / 16.1MB 2.9MB/s\r",
      "\u001b[K     - 16.1MB 2.9MB/s\r",
      "\u001b[K     \\ 16.1MB 3.5MB/s\r",
      "\u001b[K     | 16.1MB 3.7MB/s\r",
      "\u001b[K     / 16.1MB 3.2MB/s\r",
      "\u001b[K     - 16.1MB 3.2MB/s\r",
      "\u001b[K     \\ 16.2MB 3.0MB/s\r",
      "\u001b[K     | 16.2MB 2.0MB/s\r",
      "\u001b[K     / 16.2MB 2.0MB/s\r",
      "\u001b[K     - 16.2MB 2.3MB/s\r",
      "\u001b[K     \\ 16.2MB 2.6MB/s\r",
      "\u001b[K     | 16.2MB 2.6MB/s\r",
      "\u001b[K     / 16.2MB 2.6MB/s\r",
      "\u001b[K     - 16.2MB 2.8MB/s"
     ]
    },
    {
     "name": "stdout",
     "output_type": "stream",
     "text": [
      "\r",
      "\u001b[K     \\ 16.2MB 2.2MB/s\r",
      "\u001b[K     | 16.3MB 2.2MB/s\r",
      "\u001b[K     / 16.3MB 2.6MB/s\r",
      "\u001b[K     - 16.3MB 5.5MB/s\r",
      "\u001b[K     \\ 16.3MB 5.6MB/s\r",
      "\u001b[K     | 16.3MB 5.6MB/s\r",
      "\u001b[K     / 16.3MB 4.1MB/s\r",
      "\u001b[K     - 16.3MB 3.5MB/s\r",
      "\u001b[K     \\ 16.3MB 3.5MB/s\r",
      "\u001b[K     | 16.3MB 3.6MB/s\r",
      "\u001b[K     / 16.3MB 5.6MB/s\r",
      "\u001b[K     - 16.4MB 4.2MB/s\r",
      "\u001b[K     \\ 16.4MB 4.2MB/s\r",
      "\u001b[K     | 16.4MB 3.5MB/s\r",
      "\u001b[K     / 16.4MB 2.9MB/s\r",
      "\u001b[K     - 16.4MB 2.8MB/s\r",
      "\u001b[K     \\ 16.4MB 3.5MB/s\r",
      "\u001b[K     | 16.4MB 3.5MB/s"
     ]
    },
    {
     "name": "stdout",
     "output_type": "stream",
     "text": [
      "\r",
      "\u001b[K     / 16.4MB 2.9MB/s\r",
      "\u001b[K     - 16.4MB 2.9MB/s\r",
      "\u001b[K     \\ 16.4MB 2.9MB/s\r",
      "\u001b[K     | 16.5MB 3.0MB/s\r",
      "\u001b[K     / 16.5MB 3.0MB/s\r",
      "\u001b[K     - 16.5MB 3.5MB/s\r",
      "\u001b[K     \\ 16.5MB 3.3MB/s\r",
      "\u001b[K     | 16.5MB 2.8MB/s\r",
      "\u001b[K     / 16.5MB 2.8MB/s\r",
      "\u001b[K     - 16.5MB 2.4MB/s\r",
      "\u001b[K     \\ 16.5MB 2.7MB/s\r",
      "\u001b[K     | 16.5MB 2.7MB/s\r",
      "\u001b[K     / 16.5MB 3.1MB/s\r",
      "\u001b[K     - 16.6MB 3.6MB/s\r",
      "\u001b[K     \\ 16.6MB 2.4MB/s"
     ]
    },
    {
     "name": "stdout",
     "output_type": "stream",
     "text": [
      "\r",
      "\u001b[K     | 16.6MB 2.4MB/s\r",
      "\u001b[K     / 16.6MB 2.9MB/s\r",
      "\u001b[K     - 16.6MB 3.5MB/s\r",
      "\u001b[K     \\ 16.6MB 3.3MB/s\r",
      "\u001b[K     | 16.6MB 5.2MB/s\r",
      "\u001b[K     / 16.6MB 5.2MB/s\r",
      "\u001b[K     - 16.6MB 4.0MB/s\r",
      "\u001b[K     \\ 16.7MB 3.2MB/s\r",
      "\u001b[K     | 16.7MB 3.2MB/s\r",
      "\u001b[K     / 16.7MB 4.7MB/s\r",
      "\u001b[K     - 16.7MB 3.8MB/s\r",
      "\u001b[K     \\ 16.7MB 3.8MB/s\r",
      "\u001b[K     | 16.7MB 3.8MB/s\r",
      "\u001b[K     / 16.7MB 3.0MB/s\r",
      "\u001b[K     - 16.7MB 2.3MB/s\r",
      "\u001b[K     \\ 16.7MB 2.3MB/s\r",
      "\u001b[K     | 16.7MB 2.5MB/s"
     ]
    },
    {
     "name": "stdout",
     "output_type": "stream",
     "text": [
      "\r",
      "\u001b[K     / 16.8MB 2.5MB/s\r",
      "\u001b[K     - 16.8MB 2.5MB/s\r",
      "\u001b[K     \\ 16.8MB 2.9MB/s"
     ]
    },
    {
     "name": "stdout",
     "output_type": "stream",
     "text": [
      "\r",
      "\u001b[K     | 16.8MB 210kB/s\r",
      "\u001b[K     / 16.8MB 210kB/s\r",
      "\u001b[K     - 16.8MB 210kB/s\r",
      "\u001b[K     \\ 16.8MB 214kB/s\r",
      "\u001b[K     | 16.8MB 219kB/s\r",
      "\u001b[K     / 16.8MB 219kB/s\r",
      "\u001b[K     - 16.8MB 220kB/s\r",
      "\u001b[K     \\ 16.9MB 223kB/s\r",
      "\u001b[K     | 16.9MB 224kB/s\r",
      "\u001b[K     / 16.9MB 223kB/s\r",
      "\u001b[K     - 16.9MB 67.3MB/s\r",
      "\u001b[K     \\ 16.9MB 67.7MB/s\r",
      "\u001b[K     | 16.9MB 64.6MB/s\r",
      "\u001b[K     / 16.9MB 64.6MB/s\r",
      "\u001b[K     - 16.9MB 57.7MB/s\r",
      "\u001b[K     \\ 16.9MB 54.6MB/s\r",
      "\u001b[K     | 16.9MB 51.7MB/s\r",
      "\u001b[K     / 17.0MB 48.9MB/s\r",
      "\u001b[K     - 17.0MB 46.3MB/s\r",
      "\u001b[K     \\ 17.0MB 45.1MB/s\r",
      "\u001b[K     | 17.0MB 47.4MB/s\r",
      "\u001b[K     / 17.0MB 46.1MB/s\r",
      "\u001b[K     - 17.0MB 45.3MB/s\r",
      "\u001b[K     \\ 17.0MB 44.6MB/s\r",
      "\u001b[K     | 17.0MB 45.7MB/s\r",
      "\u001b[K     / 17.0MB 46.1MB/s\r",
      "\u001b[K     - 17.0MB 46.4MB/s\r",
      "\u001b[K     \\ 17.1MB 49.9MB/s\r",
      "\u001b[K     | 17.1MB 52.5MB/s\r",
      "\u001b[K     / 17.1MB 54.8MB/s\r",
      "\u001b[K     - 17.1MB 55.3MB/s\r",
      "\u001b[K     \\ 17.1MB 59.6MB/s\r",
      "\u001b[K     | 17.1MB 61.4MB/s\r",
      "\u001b[K     / 17.1MB 62.6MB/s\r",
      "\u001b[K     - 17.1MB 69.2MB/s\r",
      "\u001b[K     \\ 17.1MB 69.4MB/s\r",
      "\u001b[K     | 17.2MB 68.8MB/s\r",
      "\u001b[K     / 17.2MB 67.4MB/s\r",
      "\u001b[K     - 17.2MB 68.1MB/s\r",
      "\u001b[K     \\ 17.2MB 68.2MB/s\r",
      "\u001b[K     | 17.2MB 67.9MB/s\r",
      "\u001b[K     / 17.2MB 71.1MB/s\r",
      "\u001b[K     - 17.2MB 70.0MB/s\r",
      "\u001b[K     \\ 17.2MB 68.7MB/s\r",
      "\u001b[K     | 17.2MB 67.2MB/s\r",
      "\u001b[K     / 17.2MB 69.0MB/s\r",
      "\u001b[K     - 17.3MB 68.6MB/s\r",
      "\u001b[K     \\ 17.3MB 68.5MB/s\r",
      "\u001b[K     | 17.3MB 72.5MB/s\r",
      "\u001b[K     / 17.3MB 70.3MB/s\r",
      "\u001b[K     - 17.3MB 68.2MB/s\r",
      "\u001b[K     \\ 17.3MB 66.9MB/s\r",
      "\u001b[K     | 17.3MB 68.1MB/s\r",
      "\u001b[K     / 17.3MB 67.7MB/s\r",
      "\u001b[K     - 17.3MB 66.3MB/s\r",
      "\u001b[K     \\ 17.3MB 69.4MB/s\r",
      "\u001b[K     | 17.4MB 67.5MB/s\r",
      "\u001b[K     / 17.4MB 65.8MB/s\r",
      "\u001b[K     - 17.4MB 61.3MB/s\r",
      "\u001b[K     \\ 17.4MB 60.6MB/s\r",
      "\u001b[K     | 17.4MB 60.6MB/s\r",
      "\u001b[K     / 17.4MB 57.5MB/s\r",
      "\u001b[K     - 17.4MB 59.4MB/s\r",
      "\u001b[K     \\ 17.4MB 55.5MB/s\r",
      "\u001b[K     | 17.4MB 52.1MB/s\r",
      "\u001b[K     / 17.4MB 51.1MB/s\r",
      "\u001b[K     - 17.5MB 52.0MB/s\r",
      "\u001b[K     \\ 17.5MB 52.1MB/s\r",
      "\u001b[K     | 17.5MB 54.0MB/s\r",
      "\u001b[K     / 17.5MB 58.0MB/s\r",
      "\u001b[K     - 17.5MB 57.1MB/s\r",
      "\u001b[K     \\ 17.5MB 58.4MB/s\r",
      "\u001b[K     | 17.5MB 57.7MB/s\r",
      "\u001b[K     / 17.5MB 62.0MB/s\r",
      "\u001b[K     - 17.5MB 66.8MB/s\r",
      "\u001b[K     \\ 17.6MB 67.0MB/s\r",
      "\u001b[K     | 17.6MB 70.8MB/s"
     ]
    },
    {
     "name": "stdout",
     "output_type": "stream",
     "text": [
      "\r",
      "\u001b[K     / 17.6MB 635kB/s\r",
      "\u001b[K     - 17.6MB 634kB/s\r",
      "\u001b[K     \\ 17.6MB 634kB/s\r",
      "\u001b[K     | 17.6MB 605kB/s\r",
      "\u001b[K     / 17.6MB 605kB/s\r",
      "\u001b[K     - 17.6MB 605kB/s\r",
      "\u001b[K     \\ 17.6MB 605kB/s\r",
      "\u001b[K     | 17.6MB 605kB/s\r",
      "\u001b[K     / 17.7MB 605kB/s\r",
      "\u001b[K     - 17.7MB 605kB/s"
     ]
    },
    {
     "name": "stdout",
     "output_type": "stream",
     "text": [
      "\r",
      "\u001b[K     \\ 17.7MB 10.5MB/s\r",
      "\u001b[K     | 17.7MB 10.7MB/s\r",
      "\u001b[K     / 17.7MB 10.7MB/s\r",
      "\u001b[K     - 17.7MB 50.6MB/s\r",
      "\u001b[K     \\ 17.7MB 47.4MB/s\r",
      "\u001b[K     | 17.7MB 42.4MB/s\r",
      "\u001b[K     / 17.7MB 37.8MB/s\r",
      "\u001b[K     - 17.7MB 37.0MB/s\r",
      "\u001b[K     \\ 17.8MB 3.4MB/s\r",
      "\u001b[K     | 17.8MB 3.4MB/s\r",
      "\u001b[K     / 17.8MB 3.4MB/s\r",
      "\u001b[K     - 17.8MB 3.4MB/s\r",
      "\u001b[K     \\ 17.8MB 3.4MB/s\r",
      "\u001b[K     | 17.8MB 3.4MB/s\r",
      "\u001b[K     / 17.8MB 3.4MB/s\r",
      "\u001b[K     - 17.8MB 3.4MB/s\r",
      "\u001b[K     \\ 17.8MB 3.4MB/s\r",
      "\u001b[K     | 17.8MB 3.4MB/s\r",
      "\u001b[K     / 17.9MB 41.7MB/s\r",
      "\u001b[K     - 17.9MB 44.7MB/s\r",
      "\u001b[K     \\ 17.9MB 43.4MB/s\r",
      "\u001b[K     | 17.9MB 42.7MB/s\r",
      "\u001b[K     / 17.9MB 41.7MB/s\r",
      "\u001b[K     - 17.9MB 41.4MB/s\r",
      "\u001b[K     \\ 17.9MB 31.9MB/s\r",
      "\u001b[K     | 17.9MB 28.8MB/s\r",
      "\u001b[K     / 17.9MB 28.3MB/s\r",
      "\u001b[K     - 18.0MB 27.9MB/s\r",
      "\u001b[K     \\ 18.0MB 28.5MB/s\r",
      "\u001b[K     | 18.0MB 29.1MB/s\r",
      "\u001b[K     / 18.0MB 29.0MB/s\r",
      "\u001b[K     - 18.0MB 31.0MB/s\r",
      "\u001b[K     \\ 18.0MB 31.0MB/s\r",
      "\u001b[K     | 18.0MB 30.7MB/s\r",
      "\u001b[K     / 18.0MB 40.6MB/s\r",
      "\u001b[K     - 18.0MB 46.7MB/s\r",
      "\u001b[K     \\ 18.0MB 46.8MB/s\r",
      "\u001b[K     | 18.1MB 46.7MB/s\r",
      "\u001b[K     / 18.1MB 49.3MB/s"
     ]
    },
    {
     "name": "stdout",
     "output_type": "stream",
     "text": [
      "\r",
      "\u001b[K     - 18.1MB 1.7MB/s\r",
      "\u001b[K     \\ 18.1MB 1.7MB/s\r",
      "\u001b[K     | 18.1MB 1.7MB/s\r",
      "\u001b[K     / 18.1MB 1.7MB/s\r",
      "\u001b[K     - 18.1MB 1.6MB/s\r",
      "\u001b[K     \\ 18.1MB 1.6MB/s\r",
      "\u001b[K     | 18.1MB 1.6MB/s\r",
      "\u001b[K     / 18.1MB 1.5MB/s\r",
      "\u001b[K     - 18.2MB 1.5MB/s\r",
      "\u001b[K     \\ 18.2MB 1.5MB/s\r",
      "\u001b[K     | 18.2MB 8.1MB/s\r",
      "\u001b[K     / 18.2MB 9.3MB/s"
     ]
    },
    {
     "name": "stdout",
     "output_type": "stream",
     "text": [
      "\r",
      "\u001b[K     - 18.2MB 9.4MB/s\r",
      "\u001b[K     \\ 18.2MB 9.6MB/s\r",
      "\u001b[K     | 18.2MB 13.1MB/s\r",
      "\u001b[K     / 18.2MB 13.2MB/s\r",
      "\u001b[K     - 18.2MB 13.2MB/s\r",
      "\u001b[K     \\ 18.2MB 59.3MB/s\r",
      "\u001b[K     | 18.3MB 66.2MB/s\r",
      "\u001b[K     / 18.3MB 67.4MB/s\r",
      "\u001b[K     - 18.3MB 72.9MB/s\r",
      "\u001b[K     \\ 18.3MB 71.4MB/s\r",
      "\u001b[K     | 18.3MB 68.1MB/s\r",
      "\u001b[K     / 18.3MB 65.5MB/s\r",
      "\u001b[K     - 18.3MB 64.5MB/s\r",
      "\u001b[K     \\ 18.3MB 64.0MB/s\r",
      "\u001b[K     | 18.3MB 63.7MB/s\r",
      "\u001b[K     / 18.4MB 66.6MB/s\r",
      "\u001b[K     - 18.4MB 64.5MB/s\r",
      "\u001b[K     \\ 18.4MB 62.6MB/s\r",
      "\u001b[K     | 18.4MB 61.2MB/s\r",
      "\u001b[K     / 18.4MB 60.8MB/s\r",
      "\u001b[K     - 18.4MB 61.5MB/s\r",
      "\u001b[K     \\ 18.4MB 62.9MB/s\r",
      "\u001b[K     | 18.4MB 68.5MB/s\r",
      "\u001b[K     / 18.4MB 67.6MB/s\r",
      "\u001b[K     - 18.4MB 66.3MB/s\r",
      "\u001b[K     \\ 18.5MB 65.5MB/s\r",
      "\u001b[K     | 18.5MB 67.1MB/s\r",
      "\u001b[K     / 18.5MB 67.6MB/s\r",
      "\u001b[K     - 18.5MB 67.8MB/s\r",
      "\u001b[K     \\ 18.5MB 73.8MB/s\r",
      "\u001b[K     | 18.5MB 72.9MB/s\r",
      "\u001b[K     / 18.5MB 71.7MB/s\r",
      "\u001b[K     - 18.5MB 70.2MB/s\r",
      "\u001b[K     \\ 18.5MB 71.7MB/s\r",
      "\u001b[K     | 18.5MB 71.7MB/s\r",
      "\u001b[K     / 18.6MB 71.7MB/s\r",
      "\u001b[K     - 18.6MB 75.8MB/s\r",
      "\u001b[K     \\ 18.6MB 74.2MB/s\r",
      "\u001b[K     | 18.6MB 72.6MB/s\r",
      "\u001b[K     / 18.6MB 70.9MB/s\r",
      "\u001b[K     - 18.6MB 72.2MB/s\r",
      "\u001b[K     \\ 18.6MB 72.3MB/s\r",
      "\u001b[K     | 18.6MB 72.2MB/s\r",
      "\u001b[K     / 18.6MB 76.1MB/s\r",
      "\u001b[K     - 18.6MB 70.7MB/s\r",
      "\u001b[K     \\ 18.7MB 68.6MB/s\r",
      "\u001b[K     | 18.7MB 67.1MB/s\r",
      "\u001b[K     / 18.7MB 67.8MB/s\r",
      "\u001b[K     - 18.7MB 67.5MB/s\r",
      "\u001b[K     \\ 18.7MB 43.3MB/s\r",
      "\u001b[K     | 18.7MB 44.0MB/s\r",
      "\u001b[K     / 18.7MB 42.5MB/s\r",
      "\u001b[K     - 18.7MB 41.5MB/s\r",
      "\u001b[K     \\ 18.7MB 40.7MB/s\r",
      "\u001b[K     | 18.7MB 42.1MB/s\r",
      "\u001b[K     / 18.8MB 42.0MB/s\r",
      "\u001b[K     - 18.8MB 41.9MB/s\r",
      "\u001b[K     \\ 18.8MB 43.4MB/s\r",
      "\u001b[K     | 18.8MB 42.7MB/s\r",
      "\u001b[K     / 18.8MB 64.4MB/s\r",
      "\u001b[K     - 18.8MB 64.2MB/s\r",
      "\u001b[K     \\ 18.8MB 67.0MB/s\r",
      "\u001b[K     | 18.8MB 67.6MB/s\r",
      "\u001b[K     / 18.8MB 67.6MB/s\r",
      "\u001b[K     - 18.9MB 71.7MB/s\r",
      "\u001b[K     \\ 18.9MB 70.6MB/s\r",
      "\u001b[K     | 18.9MB 68.9MB/s\r",
      "\u001b[K     / 18.9MB 67.3MB/s\r",
      "\u001b[K     - 18.9MB 68.5MB/s\r",
      "\u001b[K     \\ 18.9MB 68.4MB/s\r",
      "\u001b[K     | 18.9MB 68.8MB/s\r",
      "\u001b[K     / 18.9MB 73.1MB/s\r",
      "\u001b[K     - 18.9MB 71.3MB/s\r",
      "\u001b[K     \\ 18.9MB 70.4MB/s\r",
      "\u001b[K     | 19.0MB 68.6MB/s\r",
      "\u001b[K     / 19.0MB 69.9MB/s\r",
      "\u001b[K     - 19.0MB 69.8MB/s\r",
      "\u001b[K     \\ 19.0MB 69.7MB/s\r",
      "\u001b[K     | 19.0MB 73.9MB/s\r",
      "\u001b[K     / 19.0MB 72.0MB/s\r",
      "\u001b[K     - 19.0MB 70.3MB/s\r",
      "\u001b[K     \\ 19.0MB 68.5MB/s\r",
      "\u001b[K     | 19.0MB 69.6MB/s\r",
      "\u001b[K     / 19.0MB 67.8MB/s\r",
      "\u001b[K     - 19.1MB 67.9MB/s\r",
      "\u001b[K     \\ 19.1MB 70.8MB/s\r",
      "\u001b[K     | 19.1MB 69.2MB/s\r",
      "\u001b[K     / 19.1MB 66.9MB/s\r",
      "\u001b[K     - 19.1MB 65.2MB/s\r",
      "\u001b[K     \\ 19.1MB 66.1MB/s\r",
      "\u001b[K     | 19.1MB 25.0MB/s\r",
      "\u001b[K     / 19.1MB 24.5MB/s\r",
      "\u001b[K     - 19.1MB 25.1MB/s\r",
      "\u001b[K     \\ 19.1MB 24.5MB/s\r",
      "\u001b[K     | 19.2MB 18.3MB/s\r",
      "\u001b[K     / 19.2MB 18.3MB/s\r",
      "\u001b[K     - 19.2MB 9.5MB/s\r",
      "\u001b[K     \\ 19.2MB 6.3MB/s\r",
      "\u001b[K     | 19.2MB 6.2MB/s\r",
      "\u001b[K     / 19.2MB 6.3MB/s\r",
      "\u001b[K     - 19.2MB 5.6MB/s\r",
      "\u001b[K     \\ 19.2MB 4.3MB/s\r",
      "\u001b[K     | 19.2MB 4.2MB/s\r",
      "\u001b[K     / 19.3MB 3.6MB/s\r",
      "\u001b[K     - 19.3MB 3.2MB/s"
     ]
    },
    {
     "name": "stdout",
     "output_type": "stream",
     "text": [
      "\r",
      "\u001b[K     \\ 19.3MB 3.1MB/s\r",
      "\u001b[K     | 19.3MB 3.7MB/s\r",
      "\u001b[K     / 19.3MB 3.0MB/s\r",
      "\u001b[K     - 19.3MB 2.9MB/s\r",
      "\u001b[K     \\ 19.3MB 2.9MB/s\r",
      "\u001b[K     | 19.3MB 3.0MB/s\r",
      "\u001b[K     / 19.3MB 3.1MB/s\r",
      "\u001b[K     - 19.3MB 3.1MB/s\r",
      "\u001b[K     \\ 19.4MB 3.6MB/s\r",
      "\u001b[K     | 19.4MB 3.5MB/s\r",
      "\u001b[K     / 19.4MB 2.7MB/s\r",
      "\u001b[K     - 19.4MB 2.7MB/s\r",
      "\u001b[K     \\ 19.4MB 3.6MB/s\r",
      "\u001b[K     | 19.4MB 3.0MB/s\r",
      "\u001b[K     / 19.4MB 3.0MB/s\r",
      "\u001b[K     - 19.4MB 3.3MB/s\r",
      "\u001b[K     \\ 19.4MB 3.3MB/s"
     ]
    },
    {
     "name": "stdout",
     "output_type": "stream",
     "text": [
      "\r",
      "\u001b[K     | 19.4MB 2.3MB/s\r",
      "\u001b[K     / 19.5MB 2.3MB/s\r",
      "\u001b[K     - 19.5MB 2.5MB/s\r",
      "\u001b[K     \\ 19.5MB 3.1MB/s\r",
      "\u001b[K     | 19.5MB 3.1MB/s\r",
      "\u001b[K     / 19.5MB 3.5MB/s\r",
      "\u001b[K     - 19.5MB 3.5MB/s\r",
      "\u001b[K     \\ 19.5MB 3.2MB/s\r",
      "\u001b[K     | 19.5MB 3.2MB/s\r",
      "\u001b[K     / 19.5MB 3.1MB/s\r",
      "\u001b[K     - 19.5MB 4.0MB/s\r",
      "\u001b[K     \\ 19.6MB 3.9MB/s\r",
      "\u001b[K     | 19.6MB 4.5MB/s\r",
      "\u001b[K     / 19.6MB 3.9MB/s\r",
      "\u001b[K     - 19.6MB 3.1MB/s\r",
      "\u001b[K     \\ 19.6MB 3.1MB/s"
     ]
    },
    {
     "name": "stdout",
     "output_type": "stream",
     "text": [
      "\r",
      "\u001b[K     | 19.6MB 3.3MB/s\r",
      "\u001b[K     / 19.6MB 3.0MB/s\r",
      "\u001b[K     - 19.6MB 3.0MB/s\r",
      "\u001b[K     \\ 19.6MB 3.6MB/s\r",
      "\u001b[K     | 19.7MB 3.5MB/s\r",
      "\u001b[K     / 19.7MB 3.0MB/s\r",
      "\u001b[K     - 19.7MB 3.0MB/s\r",
      "\u001b[K     \\ 19.7MB 3.0MB/s\r",
      "\u001b[K     | 19.7MB 3.1MB/s\r",
      "\u001b[K     / 19.7MB 3.1MB/s\r",
      "\u001b[K     - 19.7MB 3.6MB/s\r",
      "\u001b[K     \\ 19.7MB 3.3MB/s\r",
      "\u001b[K     | 19.7MB 3.0MB/s\r",
      "\u001b[K     / 19.7MB 3.0MB/s\r",
      "\u001b[K     - 19.8MB 3.0MB/s"
     ]
    },
    {
     "name": "stdout",
     "output_type": "stream",
     "text": [
      "\r",
      "\u001b[K     \\ 19.8MB 2.4MB/s\r",
      "\u001b[K     | 19.8MB 2.4MB/s\r",
      "\u001b[K     / 19.8MB 2.7MB/s\r",
      "\u001b[K     - 19.8MB 3.1MB/s\r",
      "\u001b[K     \\ 19.8MB 2.7MB/s\r",
      "\u001b[K     | 19.8MB 2.6MB/s\r",
      "\u001b[K     / 19.8MB 3.1MB/s\r",
      "\u001b[K     - 19.8MB 2.7MB/s\r",
      "\u001b[K     \\ 19.8MB 2.7MB/s\r",
      "\u001b[K     | 19.9MB 3.4MB/s\r",
      "\u001b[K     / 19.9MB 4.1MB/s\r",
      "\u001b[K     - 19.9MB 4.0MB/s\r",
      "\u001b[K     \\ 19.9MB 4.0MB/s"
     ]
    },
    {
     "name": "stdout",
     "output_type": "stream",
     "text": [
      "\r",
      "\u001b[K     | 19.9MB 2.0MB/s\r",
      "\u001b[K     / 19.9MB 2.2MB/s\r",
      "\u001b[K     - 19.9MB 2.3MB/s\r",
      "\u001b[K     \\ 19.9MB 2.4MB/s\r",
      "\u001b[K     | 19.9MB 2.9MB/s\r",
      "\u001b[K     / 19.9MB 2.5MB/s\r",
      "\u001b[K     - 20.0MB 2.5MB/s\r",
      "\u001b[K     \\ 20.0MB 2.9MB/s\r",
      "\u001b[K     | 20.0MB 2.8MB/s\r",
      "\u001b[K     / 20.0MB 2.8MB/s\r",
      "\u001b[K     - 20.0MB 9.8MB/s\r",
      "\u001b[K     \\ 20.0MB 8.1MB/s\r",
      "\u001b[K     | 20.0MB 5.3MB/s\r",
      "\u001b[K     / 20.0MB 5.3MB/s\r",
      "\u001b[K     - 20.0MB 4.1MB/s\r",
      "\u001b[K     \\ 20.0MB 4.4MB/s\r",
      "\u001b[K     | 20.1MB 4.3MB/s\r",
      "\u001b[K     / 20.1MB 4.4MB/s\r",
      "\u001b[K     - 20.1MB 3.8MB/s"
     ]
    },
    {
     "name": "stdout",
     "output_type": "stream",
     "text": [
      "\r",
      "\u001b[K     \\ 20.1MB 2.5MB/s\r",
      "\u001b[K     | 20.1MB 2.5MB/s\r",
      "\u001b[K     / 20.1MB 2.7MB/s\r",
      "\u001b[K     - 20.1MB 2.8MB/s\r",
      "\u001b[K     \\ 20.1MB 2.8MB/s\r",
      "\u001b[K     | 20.1MB 3.3MB/s\r",
      "\u001b[K     / 20.2MB 3.4MB/s\r",
      "\u001b[K     - 20.2MB 2.9MB/s\r",
      "\u001b[K     \\ 20.2MB 2.8MB/s\r",
      "\u001b[K     | 20.2MB 2.9MB/s\r",
      "\u001b[K     / 20.2MB 3.9MB/s\r",
      "\u001b[K     - 20.2MB 4.0MB/s\r",
      "\u001b[K     \\ 20.2MB 4.0MB/s\r",
      "\u001b[K     | 20.2MB 3.7MB/s\r",
      "\u001b[K     / 20.2MB 3.0MB/s\r",
      "\u001b[K     - 20.2MB 3.0MB/s\r",
      "\u001b[K     \\ 20.3MB 3.2MB/s"
     ]
    },
    {
     "name": "stdout",
     "output_type": "stream",
     "text": [
      "\r",
      "\u001b[K     | 20.3MB 3.1MB/s\r",
      "\u001b[K     / 20.3MB 3.1MB/s\r",
      "\u001b[K     - 20.3MB 3.7MB/s\r",
      "\u001b[K     \\ 20.3MB 3.3MB/s\r",
      "\u001b[K     | 20.3MB 2.7MB/s\r",
      "\u001b[K     / 20.3MB 2.7MB/s\r",
      "\u001b[K     - 20.3MB 2.9MB/s\r",
      "\u001b[K     \\ 20.3MB 3.1MB/s\r",
      "\u001b[K     | 20.3MB 3.1MB/s\r",
      "\u001b[K     / 20.4MB 3.3MB/s\r",
      "\u001b[K     - 20.4MB 3.4MB/s\r",
      "\u001b[K     \\ 20.4MB 2.9MB/s\r",
      "\u001b[K     | 20.4MB 2.9MB/s\r",
      "\u001b[K     / 20.4MB 3.3MB/s"
     ]
    },
    {
     "name": "stdout",
     "output_type": "stream",
     "text": [
      "\r",
      "\u001b[K     - 20.4MB 2.6MB/s\r",
      "\u001b[K     \\ 20.4MB 2.6MB/s\r",
      "\u001b[K     | 20.4MB 2.8MB/s\r",
      "\u001b[K     / 20.4MB 3.2MB/s\r",
      "\u001b[K     - 20.4MB 3.0MB/s\r",
      "\u001b[K     \\ 20.5MB 3.0MB/s\r",
      "\u001b[K     | 20.5MB 3.1MB/s\r",
      "\u001b[K     / 20.5MB 2.9MB/s\r",
      "\u001b[K     - 20.5MB 2.9MB/s\r",
      "\u001b[K     \\ 20.5MB 3.3MB/s\r",
      "\u001b[K     | 20.5MB 5.0MB/s\r",
      "\u001b[K     / 20.5MB 4.2MB/s\r",
      "\u001b[K     - 20.5MB 4.2MB/s\r",
      "\u001b[K     \\ 20.5MB 3.3MB/s\r",
      "\u001b[K     | 20.6MB 3.0MB/s\r",
      "\u001b[K     / 20.6MB 3.0MB/s\r",
      "\u001b[K     - 20.6MB 3.5MB/s\r",
      "\u001b[K     \\ 20.6MB 3.3MB/s"
     ]
    },
    {
     "name": "stdout",
     "output_type": "stream",
     "text": [
      "\r",
      "\u001b[K     | 20.6MB 3.1MB/s\r",
      "\u001b[K     / 20.6MB 3.1MB/s\r",
      "\u001b[K     - 20.6MB 3.1MB/s\r",
      "\u001b[K     \\ 20.6MB 2.9MB/s\r",
      "\u001b[K     | 20.6MB 2.9MB/s\r",
      "\u001b[K     / 20.6MB 3.7MB/s\r",
      "\u001b[K     - 20.7MB 3.7MB/s\r",
      "\u001b[K     \\ 20.7MB 3.1MB/s\r",
      "\u001b[K     | 20.7MB 3.1MB/s\r",
      "\u001b[K     / 20.7MB 3.3MB/s\r",
      "\u001b[K     - 20.7MB 3.0MB/s\r",
      "\u001b[K     \\ 20.7MB 3.0MB/s\r",
      "\u001b[K     | 20.7MB 3.6MB/s\r",
      "\u001b[K     / 20.7MB 3.6MB/s\r",
      "\u001b[K     - 20.7MB 2.5MB/s"
     ]
    },
    {
     "name": "stdout",
     "output_type": "stream",
     "text": [
      "\r",
      "\u001b[K     \\ 20.7MB 2.5MB/s\r",
      "\u001b[K     | 20.8MB 2.9MB/s\r",
      "\u001b[K     / 20.8MB 3.1MB/s\r",
      "\u001b[K     - 20.8MB 3.1MB/s\r",
      "\u001b[K     \\ 20.8MB 3.7MB/s\r",
      "\u001b[K     | 20.8MB 3.6MB/s\r",
      "\u001b[K     / 20.8MB 3.1MB/s\r",
      "\u001b[K     - 20.8MB 3.1MB/s\r",
      "\u001b[K     \\ 20.8MB 3.0MB/s\r",
      "\u001b[K     | 20.8MB 3.7MB/s\r",
      "\u001b[K     / 20.8MB 3.7MB/s\r",
      "\u001b[K     - 20.9MB 3.7MB/s\r",
      "\u001b[K     \\ 20.9MB 3.5MB/s\r",
      "\u001b[K     | 20.9MB 2.8MB/s\r",
      "\u001b[K     / 20.9MB 2.8MB/s\r",
      "\u001b[K     - 20.9MB 2.7MB/s\r",
      "\u001b[K     \\ 20.9MB 2.9MB/s\r",
      "\u001b[K     | 20.9MB 2.9MB/s\r",
      "\u001b[K     / 20.9MB 3.5MB/s"
     ]
    },
    {
     "name": "stdout",
     "output_type": "stream",
     "text": [
      "\r",
      "\u001b[K     - 20.9MB 3.6MB/s\r",
      "\u001b[K     \\ 21.0MB 3.0MB/s\r",
      "\u001b[K     | 21.0MB 2.9MB/s\r",
      "\u001b[K     / 21.0MB 2.9MB/s\r",
      "\u001b[K     - 21.0MB 3.2MB/s\r",
      "\u001b[K     \\ 21.0MB 3.2MB/s\r",
      "\u001b[K     | 21.0MB 4.1MB/s\r",
      "\u001b[K     / 21.0MB 3.3MB/s\r",
      "\u001b[K     - 21.0MB 3.1MB/s\r",
      "\u001b[K     \\ 21.0MB 3.1MB/s\r",
      "\u001b[K     | 21.0MB 3.0MB/s\r",
      "\u001b[K     / 21.1MB 2.5MB/s\r",
      "\u001b[K     - 21.1MB 2.5MB/s\r",
      "\u001b[K     \\ 21.1MB 2.9MB/s\r",
      "\u001b[K     | 21.1MB 3.3MB/s"
     ]
    },
    {
     "name": "stdout",
     "output_type": "stream",
     "text": [
      "\r",
      "\u001b[K     / 21.1MB 2.7MB/s\r",
      "\u001b[K     - 21.1MB 2.7MB/s\r",
      "\u001b[K     \\ 21.1MB 3.2MB/s\r",
      "\u001b[K     | 21.1MB 2.9MB/s\r",
      "\u001b[K     / 21.1MB 2.9MB/s\r",
      "\u001b[K     - 21.1MB 3.5MB/s\r",
      "\u001b[K     \\ 21.2MB 4.9MB/s\r",
      "\u001b[K     | 21.2MB 3.8MB/s\r",
      "\u001b[K     / 21.2MB 3.8MB/s\r",
      "\u001b[K     - 21.2MB 3.0MB/s\r",
      "\u001b[K     \\ 21.2MB 3.3MB/s\r",
      "\u001b[K     | 21.2MB 3.3MB/s\r",
      "\u001b[K     / 21.2MB 3.6MB/s\r",
      "\u001b[K     - 21.2MB 3.4MB/s\r",
      "\u001b[K     \\ 21.2MB 3.1MB/s\r",
      "\u001b[K     | 21.2MB 3.1MB/s"
     ]
    },
    {
     "name": "stdout",
     "output_type": "stream",
     "text": [
      "\r",
      "\u001b[K     / 21.3MB 2.9MB/s\r",
      "\u001b[K     - 21.3MB 2.9MB/s\r",
      "\u001b[K     \\ 21.3MB 2.9MB/s\r",
      "\u001b[K     | 21.3MB 3.6MB/s\r",
      "\u001b[K     / 21.3MB 3.7MB/s\r",
      "\u001b[K     - 21.3MB 3.1MB/s\r",
      "\u001b[K     \\ 21.3MB 3.1MB/s\r",
      "\u001b[K     | 21.3MB 3.2MB/s\r",
      "\u001b[K     / 21.3MB 3.0MB/s\r",
      "\u001b[K     - 21.4MB 3.0MB/s\r",
      "\u001b[K     \\ 21.4MB 3.8MB/s\r",
      "\u001b[K     | 21.4MB 3.8MB/s\r",
      "\u001b[K     / 21.4MB 2.6MB/s\r",
      "\u001b[K     - 21.4MB 2.6MB/s\r",
      "\u001b[K     \\ 21.4MB 2.8MB/s"
     ]
    },
    {
     "name": "stdout",
     "output_type": "stream",
     "text": [
      "\r",
      "\u001b[K     | 21.4MB 2.8MB/s\r",
      "\u001b[K     / 21.4MB 2.8MB/s\r",
      "\u001b[K     - 21.4MB 3.3MB/s\r",
      "\u001b[K     \\ 21.4MB 3.4MB/s\r",
      "\u001b[K     | 21.5MB 2.8MB/s\r",
      "\u001b[K     / 21.5MB 2.8MB/s\r",
      "\u001b[K     - 21.5MB 3.0MB/s\r",
      "\u001b[K     \\ 21.5MB 3.7MB/s\r",
      "\u001b[K     | 21.5MB 3.7MB/s\r",
      "\u001b[K     / 21.5MB 3.8MB/s\r",
      "\u001b[K     - 21.5MB 3.7MB/s\r",
      "\u001b[K     \\ 21.5MB 3.2MB/s\r",
      "\u001b[K     | 21.5MB 3.2MB/s\r",
      "\u001b[K     / 21.5MB 2.9MB/s\r",
      "\u001b[K     - 21.6MB 3.2MB/s\r",
      "\u001b[K     \\ 21.6MB 3.2MB/s\r",
      "\u001b[K     | 21.6MB 3.6MB/s\r",
      "\u001b[K     / 21.6MB 3.5MB/s"
     ]
    },
    {
     "name": "stdout",
     "output_type": "stream",
     "text": [
      "\r",
      "\u001b[K     - 21.6MB 2.4MB/s\r",
      "\u001b[K     \\ 21.6MB 2.4MB/s\r",
      "\u001b[K     | 21.6MB 2.7MB/s\r",
      "\u001b[K     / 21.6MB 2.8MB/s\r",
      "\u001b[K     - 21.6MB 2.8MB/s\r",
      "\u001b[K     \\ 21.6MB 3.5MB/s\r",
      "\u001b[K     | 21.7MB 3.3MB/s\r",
      "\u001b[K     / 21.7MB 2.8MB/s\r",
      "\u001b[K     - 21.7MB 2.8MB/s\r",
      "\u001b[K     \\ 21.7MB 2.2MB/s\r",
      "\u001b[K     | 21.7MB 3.0MB/s\r",
      "\u001b[K     / 21.7MB 3.0MB/s\r",
      "\u001b[K     - 21.7MB 3.2MB/s\r",
      "\u001b[K     \\ 21.7MB 3.6MB/s"
     ]
    },
    {
     "name": "stdout",
     "output_type": "stream",
     "text": [
      "\r",
      "\u001b[K     | 21.7MB 3.0MB/s\r",
      "\u001b[K     / 21.7MB 3.0MB/s\r",
      "\u001b[K     - 21.8MB 3.0MB/s\r",
      "\u001b[K     \\ 21.8MB 3.0MB/s\r",
      "\u001b[K     | 21.8MB 3.0MB/s\r",
      "\u001b[K     / 21.8MB 5.8MB/s\r",
      "\u001b[K     - 21.8MB 4.4MB/s\r",
      "\u001b[K     \\ 21.8MB 4.4MB/s\r",
      "\u001b[K     | 21.8MB 3.8MB/s\r",
      "\u001b[K     / 21.8MB 3.0MB/s\r",
      "\u001b[K     - 21.8MB 3.7MB/s\r",
      "\u001b[K     \\ 21.9MB 3.2MB/s\r",
      "\u001b[K     | 21.9MB 3.6MB/s\r",
      "\u001b[K     / 21.9MB 3.5MB/s\r",
      "\u001b[K     - 21.9MB 3.0MB/s\r",
      "\u001b[K     \\ 21.9MB 3.0MB/s"
     ]
    },
    {
     "name": "stdout",
     "output_type": "stream",
     "text": [
      "\r",
      "\u001b[K     | 21.9MB 2.7MB/s\r",
      "\u001b[K     / 21.9MB 2.5MB/s\r",
      "\u001b[K     - 21.9MB 2.8MB/s\r",
      "\u001b[K     \\ 21.9MB 3.4MB/s\r",
      "\u001b[K     | 21.9MB 3.0MB/s\r",
      "\u001b[K     / 22.0MB 3.1MB/s\r",
      "\u001b[K     - 22.0MB 3.1MB/s\r",
      "\u001b[K     \\ 22.0MB 3.1MB/s\r",
      "\u001b[K     | 22.0MB 2.9MB/s\r",
      "\u001b[K     / 22.0MB 2.9MB/s\r",
      "\u001b[K     - 22.0MB 4.2MB/s\r",
      "\u001b[K     \\ 22.0MB 2.7MB/s\r",
      "\u001b[K     | 22.0MB 2.7MB/s\r",
      "\u001b[K     / 22.0MB 2.7MB/s\r",
      "\u001b[K     - 22.0MB 2.9MB/s\r",
      "\u001b[K     \\ 22.1MB 2.9MB/s\r",
      "\u001b[K     | 22.1MB 2.9MB/s\r",
      "\u001b[K     / 22.1MB 3.5MB/s"
     ]
    },
    {
     "name": "stdout",
     "output_type": "stream",
     "text": [
      "\r",
      "\u001b[K     - 22.1MB 3.7MB/s\r",
      "\u001b[K     \\ 22.1MB 3.1MB/s\r",
      "\u001b[K     | 22.1MB 3.1MB/s\r",
      "\u001b[K     / 22.1MB 4.7MB/s\r",
      "\u001b[K     - 22.1MB 3.8MB/s\r",
      "\u001b[K     \\ 22.1MB 3.8MB/s\r",
      "\u001b[K     | 22.1MB 3.9MB/s\r",
      "\u001b[K     / 22.2MB 3.5MB/s\r",
      "\u001b[K     - 22.2MB 3.0MB/s\r",
      "\u001b[K     \\ 22.2MB 3.0MB/s\r",
      "\u001b[K     | 22.2MB 3.0MB/s\r",
      "\u001b[K     / 22.2MB 3.0MB/s\r",
      "\u001b[K     - 22.2MB 3.0MB/s\r",
      "\u001b[K     \\ 22.2MB 3.5MB/s\r",
      "\u001b[K     | 22.2MB 3.4MB/s"
     ]
    },
    {
     "name": "stdout",
     "output_type": "stream",
     "text": [
      "\r",
      "\u001b[K     / 22.2MB 2.8MB/s\r",
      "\u001b[K     - 22.3MB 2.8MB/s\r",
      "\u001b[K     \\ 22.3MB 3.1MB/s\r",
      "\u001b[K     | 22.3MB 2.9MB/s\r",
      "\u001b[K     / 22.3MB 2.9MB/s\r",
      "\u001b[K     - 22.3MB 3.4MB/s\r",
      "\u001b[K     \\ 22.3MB 3.5MB/s\r",
      "\u001b[K     | 22.3MB 2.8MB/s\r",
      "\u001b[K     / 22.3MB 2.7MB/s\r",
      "\u001b[K     - 22.3MB 2.3MB/s\r",
      "\u001b[K     \\ 22.3MB 2.7MB/s\r",
      "\u001b[K     | 22.4MB 2.7MB/s\r",
      "\u001b[K     / 22.4MB 3.0MB/s\r",
      "\u001b[K     - 22.4MB 3.6MB/s\r",
      "\u001b[K     \\ 22.4MB 3.2MB/s\r",
      "\u001b[K     | 22.4MB 3.2MB/s"
     ]
    },
    {
     "name": "stdout",
     "output_type": "stream",
     "text": [
      "\r",
      "\u001b[K     / 22.4MB 2.9MB/s\r",
      "\u001b[K     - 22.4MB 3.2MB/s\r",
      "\u001b[K     \\ 22.4MB 3.2MB/s\r",
      "\u001b[K     | 22.4MB 5.6MB/s\r",
      "\u001b[K     / 22.4MB 4.4MB/s\r",
      "\u001b[K     - 22.5MB 3.4MB/s\r",
      "\u001b[K     \\ 22.5MB 3.4MB/s\r",
      "\u001b[K     | 22.5MB 3.1MB/s\r",
      "\u001b[K     / 22.5MB 2.9MB/s\r",
      "\u001b[K     - 22.5MB 2.9MB/s\r",
      "\u001b[K     \\ 22.5MB 3.6MB/s\r",
      "\u001b[K     | 22.5MB 3.6MB/s\r",
      "\u001b[K     / 22.5MB 2.8MB/s\r",
      "\u001b[K     - 22.5MB 2.8MB/s\r",
      "\u001b[K     \\ 22.5MB 3.0MB/s"
     ]
    },
    {
     "name": "stdout",
     "output_type": "stream",
     "text": [
      "\r",
      "\u001b[K     | 22.6MB 3.0MB/s\r",
      "\u001b[K     / 22.6MB 3.0MB/s\r",
      "\u001b[K     - 22.6MB 3.4MB/s\r",
      "\u001b[K     \\ 22.6MB 3.3MB/s\r",
      "\u001b[K     | 22.6MB 2.8MB/s\r",
      "\u001b[K     / 22.6MB 2.8MB/s\r",
      "\u001b[K     - 22.6MB 2.9MB/s\r",
      "\u001b[K     \\ 22.6MB 3.1MB/s\r",
      "\u001b[K     | 22.6MB 3.1MB/s\r",
      "\u001b[K     / 22.7MB 3.4MB/s\r",
      "\u001b[K     - 22.7MB 2.7MB/s\r",
      "\u001b[K     \\ 22.7MB 2.7MB/s\r",
      "\u001b[K     | 22.7MB 2.7MB/s\r",
      "\u001b[K     / 22.7MB 3.2MB/s\r",
      "\u001b[K     - 22.7MB 3.0MB/s\r",
      "\u001b[K     \\ 22.7MB 3.0MB/s"
     ]
    },
    {
     "name": "stdout",
     "output_type": "stream",
     "text": [
      "\r",
      "\u001b[K     | 22.7MB 3.4MB/s\r",
      "\u001b[K     / 22.7MB 3.8MB/s\r",
      "\u001b[K     - 22.7MB 3.1MB/s\r",
      "\u001b[K     \\ 22.8MB 3.1MB/s\r",
      "\u001b[K     | 22.8MB 4.1MB/s\r",
      "\u001b[K     / 22.8MB 3.4MB/s\r",
      "\u001b[K     - 22.8MB 3.3MB/s\r",
      "\u001b[K     \\ 22.8MB 3.4MB/s\r",
      "\u001b[K     | 22.8MB 3.7MB/s\r",
      "\u001b[K     / 22.8MB 2.7MB/s\r",
      "\u001b[K     - 22.8MB 2.7MB/s\r",
      "\u001b[K     \\ 22.8MB 2.9MB/s\r",
      "\u001b[K     | 22.8MB 2.8MB/s\r",
      "\u001b[K     / 22.9MB 2.8MB/s\r",
      "\u001b[K     - 22.9MB 3.4MB/s\r",
      "\u001b[K     \\ 22.9MB 3.8MB/s"
     ]
    },
    {
     "name": "stdout",
     "output_type": "stream",
     "text": [
      "\r",
      "\u001b[K     | 22.9MB 3.1MB/s\r",
      "\u001b[K     / 22.9MB 3.1MB/s\r",
      "\u001b[K     - 22.9MB 2.9MB/s\r",
      "\u001b[K     \\ 22.9MB 3.4MB/s\r",
      "\u001b[K     | 22.9MB 3.4MB/s\r",
      "\u001b[K     / 22.9MB 3.5MB/s\r",
      "\u001b[K     - 22.9MB 4.0MB/s\r",
      "\u001b[K     \\ 23.0MB 3.2MB/s\r",
      "\u001b[K     | 23.0MB 3.2MB/s\r",
      "\u001b[K     / 23.0MB 2.3MB/s\r",
      "\u001b[K     - 23.0MB 2.6MB/s\r",
      "\u001b[K     \\ 23.0MB 2.7MB/s\r",
      "\u001b[K     | 23.0MB 3.2MB/s\r",
      "\u001b[K     / 23.0MB 3.7MB/s\r",
      "\u001b[K     - 23.0MB 3.2MB/s\r",
      "\u001b[K     \\ 23.0MB 3.2MB/s"
     ]
    },
    {
     "name": "stdout",
     "output_type": "stream",
     "text": [
      "\r",
      "\u001b[K     | 23.1MB 2.9MB/s\r",
      "\u001b[K     / 23.1MB 2.7MB/s\r",
      "\u001b[K     - 23.1MB 2.7MB/s\r",
      "\u001b[K     \\ 23.1MB 4.5MB/s\r",
      "\u001b[K     | 23.1MB 4.1MB/s\r",
      "\u001b[K     / 23.1MB 3.4MB/s\r",
      "\u001b[K     - 23.1MB 3.4MB/s\r",
      "\u001b[K     \\ 23.1MB 2.9MB/s\r",
      "\u001b[K     | 23.1MB 3.0MB/s\r",
      "\u001b[K     / 23.1MB 3.0MB/s\r",
      "\u001b[K     - 23.2MB 3.7MB/s\r",
      "\u001b[K     \\ 23.2MB 3.9MB/s\r",
      "\u001b[K     | 23.2MB 3.3MB/s\r",
      "\u001b[K     / 23.2MB 3.3MB/s\r",
      "\u001b[K     - 23.2MB 3.0MB/s\r",
      "\u001b[K     \\ 23.2MB 3.1MB/s\r",
      "\u001b[K     | 23.2MB 3.1MB/s\r",
      "\u001b[K     / 23.2MB 3.8MB/s"
     ]
    },
    {
     "name": "stdout",
     "output_type": "stream",
     "text": [
      "\r",
      "\u001b[K     - 23.2MB 3.5MB/s\r",
      "\u001b[K     \\ 23.2MB 2.9MB/s\r",
      "\u001b[K     | 23.3MB 2.9MB/s\r",
      "\u001b[K     / 23.3MB 3.1MB/s\r",
      "\u001b[K     - 23.3MB 3.0MB/s\r",
      "\u001b[K     \\ 23.3MB 3.0MB/s\r",
      "\u001b[K     | 23.3MB 3.6MB/s\r",
      "\u001b[K     / 23.3MB 2.7MB/s\r",
      "\u001b[K     - 23.3MB 2.4MB/s\r",
      "\u001b[K     \\ 23.3MB 2.4MB/s\r",
      "\u001b[K     | 23.3MB 2.8MB/s\r",
      "\u001b[K     / 23.3MB 2.8MB/s\r",
      "\u001b[K     - 23.4MB 2.8MB/s\r",
      "\u001b[K     \\ 23.4MB 3.2MB/s\r",
      "\u001b[K     | 23.4MB 3.5MB/s"
     ]
    },
    {
     "name": "stdout",
     "output_type": "stream",
     "text": [
      "\r",
      "\u001b[K     / 23.4MB 2.9MB/s\r",
      "\u001b[K     - 23.4MB 2.9MB/s\r",
      "\u001b[K     \\ 23.4MB 3.6MB/s\r",
      "\u001b[K     | 23.4MB 4.0MB/s\r",
      "\u001b[K     / 23.4MB 4.0MB/s\r",
      "\u001b[K     - 23.4MB 4.0MB/s\r",
      "\u001b[K     \\ 23.4MB 4.0MB/s\r",
      "\u001b[K     | 23.5MB 3.5MB/s\r",
      "\u001b[K     / 23.5MB 3.5MB/s\r",
      "\u001b[K     - 23.5MB 2.8MB/s\r",
      "\u001b[K     \\ 23.5MB 3.2MB/s\r",
      "\u001b[K     | 23.5MB 3.2MB/s\r",
      "\u001b[K     / 23.5MB 3.8MB/s\r",
      "\u001b[K     - 23.5MB 3.5MB/s\r",
      "\u001b[K     \\ 23.5MB 2.9MB/s\r",
      "\u001b[K     | 23.5MB 2.9MB/s"
     ]
    },
    {
     "name": "stdout",
     "output_type": "stream",
     "text": [
      "\r",
      "\u001b[K     / 23.6MB 3.1MB/s\r",
      "\u001b[K     - 23.6MB 2.9MB/s\r",
      "\u001b[K     \\ 23.6MB 2.9MB/s\r",
      "\u001b[K     | 23.6MB 3.8MB/s\r",
      "\u001b[K     / 23.6MB 3.2MB/s\r",
      "\u001b[K     - 23.6MB 3.0MB/s\r",
      "\u001b[K     \\ 23.6MB 3.0MB/s\r",
      "\u001b[K     | 23.6MB 2.4MB/s\r",
      "\u001b[K     / 23.6MB 2.7MB/s\r",
      "\u001b[K     - 23.6MB 2.7MB/s\r",
      "\u001b[K     \\ 23.7MB 3.1MB/s\r",
      "\u001b[K     | 23.7MB 3.6MB/s\r",
      "\u001b[K     / 23.7MB 3.0MB/s\r",
      "\u001b[K     - 23.7MB 3.0MB/s\r",
      "\u001b[K     \\ 23.7MB 3.3MB/s"
     ]
    },
    {
     "name": "stdout",
     "output_type": "stream",
     "text": [
      "\r",
      "\u001b[K     | 23.7MB 2.9MB/s\r",
      "\u001b[K     / 23.7MB 2.9MB/s\r",
      "\u001b[K     - 23.7MB 4.9MB/s\r",
      "\u001b[K     \\ 23.7MB 3.8MB/s\r",
      "\u001b[K     | 23.7MB 3.3MB/s\r",
      "\u001b[K     / 23.8MB 3.3MB/s\r",
      "\u001b[K     - 23.8MB 2.9MB/s\r",
      "\u001b[K     \\ 23.8MB 2.7MB/s\r",
      "\u001b[K     | 23.8MB 2.7MB/s\r",
      "\u001b[K     / 23.8MB 3.1MB/s\r",
      "\u001b[K     - 23.8MB 3.4MB/s\r",
      "\u001b[K     \\ 23.8MB 3.1MB/s\r",
      "\u001b[K     | 23.8MB 3.1MB/s\r",
      "\u001b[K     / 23.8MB 3.0MB/s\r",
      "\u001b[K     - 23.8MB 2.9MB/s\r",
      "\u001b[K     \\ 23.9MB 2.9MB/s\r",
      "\u001b[K     | 23.9MB 3.4MB/s"
     ]
    },
    {
     "name": "stdout",
     "output_type": "stream",
     "text": [
      "\r",
      "\u001b[K     / 23.9MB 3.8MB/s\r",
      "\u001b[K     - 23.9MB 3.1MB/s\r",
      "\u001b[K     \\ 23.9MB 3.1MB/s\r",
      "\u001b[K     | 23.9MB 3.2MB/s\r",
      "\u001b[K     / 23.9MB 3.0MB/s\r",
      "\u001b[K     - 23.9MB 2.9MB/s\r",
      "\u001b[K     \\ 23.9MB 3.7MB/s\r",
      "\u001b[K     | 24.0MB 2.9MB/s\r",
      "\u001b[K     / 24.0MB 2.9MB/s\r",
      "\u001b[K     - 24.0MB 2.9MB/s\r",
      "\u001b[K     \\ 24.0MB 3.2MB/s\r",
      "\u001b[K     | 24.0MB 3.1MB/s\r",
      "\u001b[K     / 24.0MB 3.1MB/s\r",
      "\u001b[K     - 24.0MB 3.4MB/s\r",
      "\u001b[K     \\ 24.0MB 3.3MB/s"
     ]
    },
    {
     "name": "stdout",
     "output_type": "stream",
     "text": [
      "\r",
      "\u001b[K     | 24.0MB 2.9MB/s\r",
      "\u001b[K     / 24.0MB 2.9MB/s\r",
      "\u001b[K     - 24.1MB 3.9MB/s\r",
      "\u001b[K     \\ 24.1MB 3.3MB/s\r",
      "\u001b[K     | 24.1MB 3.3MB/s\r",
      "\u001b[K     / 24.1MB 3.5MB/s\r",
      "\u001b[K     - 24.1MB 3.7MB/s\r",
      "\u001b[K     \\ 24.1MB 3.1MB/s\r",
      "\u001b[K     | 24.1MB 3.1MB/s\r",
      "\u001b[K     / 24.1MB 3.0MB/s\r",
      "\u001b[K     - 24.1MB 3.0MB/s\r",
      "\u001b[K     \\ 24.1MB 3.0MB/s\r",
      "\u001b[K     | 24.2MB 3.3MB/s\r",
      "\u001b[K     / 24.2MB 3.6MB/s\r",
      "\u001b[K     - 24.2MB 2.9MB/s\r",
      "\u001b[K     \\ 24.2MB 2.9MB/s\r",
      "\u001b[K     | 24.2MB 3.0MB/s"
     ]
    },
    {
     "name": "stdout",
     "output_type": "stream",
     "text": [
      "\r",
      "\u001b[K     / 24.2MB 3.0MB/s\r",
      "\u001b[K     - 24.2MB 3.0MB/s\r",
      "\u001b[K     \\ 24.2MB 3.9MB/s\r",
      "\u001b[K     | 24.2MB 3.6MB/s\r",
      "\u001b[K     / 24.2MB 3.3MB/s\r",
      "\u001b[K     - 24.3MB 3.3MB/s\r",
      "\u001b[K     \\ 24.3MB 2.4MB/s\r",
      "\u001b[K     | 24.3MB 2.9MB/s\r",
      "\u001b[K     / 24.3MB 2.9MB/s\r",
      "\u001b[K     - 24.3MB 3.2MB/s\r",
      "\u001b[K     \\ 24.3MB 3.5MB/s\r",
      "\u001b[K     | 24.3MB 3.0MB/s\r",
      "\u001b[K     / 24.3MB 3.0MB/s\r",
      "\u001b[K     - 24.3MB 3.1MB/s\r",
      "\u001b[K     \\ 24.4MB 2.9MB/s"
     ]
    },
    {
     "name": "stdout",
     "output_type": "stream",
     "text": [
      "\r",
      "\u001b[K     | 24.4MB 2.9MB/s\r",
      "\u001b[K     / 24.4MB 4.7MB/s\r",
      "\u001b[K     - 24.4MB 3.9MB/s\r",
      "\u001b[K     \\ 24.4MB 3.2MB/s\r",
      "\u001b[K     | 24.4MB 3.2MB/s\r",
      "\u001b[K     / 24.4MB 3.0MB/s\r",
      "\u001b[K     - 24.4MB 2.8MB/s\r",
      "\u001b[K     \\ 24.4MB 2.8MB/s\r",
      "\u001b[K     | 24.4MB 3.5MB/s\r",
      "\u001b[K     / 24.5MB 3.4MB/s\r",
      "\u001b[K     - 24.5MB 2.9MB/s\r",
      "\u001b[K     \\ 24.5MB 2.9MB/s\r",
      "\u001b[K     | 24.5MB 2.8MB/s\r",
      "\u001b[K     / 24.5MB 2.9MB/s\r",
      "\u001b[K     - 24.5MB 2.9MB/s\r",
      "\u001b[K     \\ 24.5MB 3.4MB/s\r",
      "\u001b[K     | 24.5MB 3.7MB/s"
     ]
    },
    {
     "name": "stdout",
     "output_type": "stream",
     "text": [
      "\r",
      "\u001b[K     / 24.5MB 3.2MB/s\r",
      "\u001b[K     - 24.5MB 3.2MB/s\r",
      "\u001b[K     \\ 24.6MB 3.0MB/s\r",
      "\u001b[K     | 24.6MB 3.0MB/s\r",
      "\u001b[K     / 24.6MB 3.0MB/s\r",
      "\u001b[K     - 24.6MB 3.7MB/s\r",
      "\u001b[K     \\ 24.6MB 2.8MB/s\r",
      "\u001b[K     | 24.6MB 2.8MB/s\r",
      "\u001b[K     / 24.6MB 2.8MB/s\r",
      "\u001b[K     - 24.6MB 2.9MB/s\r",
      "\u001b[K     \\ 24.6MB 2.9MB/s\r",
      "\u001b[K     | 24.6MB 2.9MB/s\r",
      "\u001b[K     / 24.7MB 3.6MB/s\r",
      "\u001b[K     - 24.7MB 3.5MB/s\r",
      "\u001b[K     \\ 24.7MB 3.0MB/s"
     ]
    },
    {
     "name": "stdout",
     "output_type": "stream",
     "text": [
      "\r",
      "\u001b[K     | 24.7MB 3.0MB/s\r",
      "\u001b[K     / 24.7MB 3.8MB/s\r",
      "\u001b[K     - 24.7MB 3.0MB/s\r",
      "\u001b[K     \\ 24.7MB 2.9MB/s\r",
      "\u001b[K     | 24.7MB 3.2MB/s\r",
      "\u001b[K     / 24.7MB 3.3MB/s\r",
      "\u001b[K     - 24.8MB 3.3MB/s\r",
      "\u001b[K     \\ 24.8MB 2.9MB/s\r",
      "\u001b[K     | 24.8MB 2.9MB/s\r",
      "\u001b[K     / 24.8MB 3.4MB/s\r",
      "\u001b[K     - 24.8MB 3.1MB/s\r",
      "\u001b[K     \\ 24.8MB 3.8MB/s\r",
      "\u001b[K     | 24.8MB 4.0MB/s\r",
      "\u001b[K     / 24.8MB 3.2MB/s\r",
      "\u001b[K     - 24.8MB 3.1MB/s\r",
      "\u001b[K     \\ 24.8MB 3.3MB/s"
     ]
    },
    {
     "name": "stdout",
     "output_type": "stream",
     "text": [
      "\r",
      "\u001b[K     | 24.9MB 2.7MB/s\r",
      "\u001b[K     / 24.9MB 3.0MB/s\r",
      "\u001b[K     - 24.9MB 3.6MB/s\r",
      "\u001b[K     \\ 24.9MB 3.1MB/s\r",
      "\u001b[K     | 24.9MB 2.9MB/s\r",
      "\u001b[K     / 24.9MB 2.9MB/s\r",
      "\u001b[K     - 24.9MB 2.6MB/s\r",
      "\u001b[K     \\ 24.9MB 3.1MB/s\r",
      "\u001b[K     | 24.9MB 3.1MB/s\r",
      "\u001b[K     / 24.9MB 3.4MB/s\r",
      "\u001b[K     - 25.0MB 3.7MB/s\r",
      "\u001b[K     \\ 25.0MB 3.0MB/s\r",
      "\u001b[K     | 25.0MB 3.0MB/s\r",
      "\u001b[K     / 25.0MB 3.1MB/s\r",
      "\u001b[K     - 25.0MB 3.1MB/s\r",
      "\u001b[K     \\ 25.0MB 3.1MB/s\r",
      "\u001b[K     | 25.0MB 4.5MB/s"
     ]
    },
    {
     "name": "stdout",
     "output_type": "stream",
     "text": [
      "\r",
      "\u001b[K     / 25.0MB 3.7MB/s\r",
      "\u001b[K     - 25.0MB 3.1MB/s\r",
      "\u001b[K     \\ 25.0MB 3.0MB/s\r",
      "\u001b[K     | 25.1MB 2.9MB/s\r",
      "\u001b[K     / 25.1MB 3.0MB/s\r",
      "\u001b[K     - 25.1MB 3.0MB/s\r",
      "\u001b[K     \\ 25.1MB 3.4MB/s\r",
      "\u001b[K     | 25.1MB 3.4MB/s\r",
      "\u001b[K     / 25.1MB 3.0MB/s\r",
      "\u001b[K     - 25.1MB 2.9MB/s\r",
      "\u001b[K     \\ 25.1MB 2.9MB/s\r",
      "\u001b[K     | 25.1MB 2.9MB/s\r",
      "\u001b[K     / 25.1MB 2.9MB/s\r",
      "\u001b[K     - 25.2MB 3.4MB/s\r",
      "\u001b[K     \\ 25.2MB 3.8MB/s\r",
      "\u001b[K     | 25.2MB 3.1MB/s"
     ]
    },
    {
     "name": "stdout",
     "output_type": "stream",
     "text": [
      "\r",
      "\u001b[K     / 25.2MB 3.1MB/s\r",
      "\u001b[K     - 25.2MB 3.0MB/s\r",
      "\u001b[K     \\ 25.2MB 3.0MB/s\r",
      "\u001b[K     | 25.2MB 3.0MB/s\r",
      "\u001b[K     / 25.2MB 3.6MB/s\r",
      "\u001b[K     - 25.2MB 3.2MB/s\r",
      "\u001b[K     \\ 25.3MB 3.1MB/s\r",
      "\u001b[K     | 25.3MB 3.1MB/s\r",
      "\u001b[K     / 25.3MB 2.9MB/s\r",
      "\u001b[K     - 25.3MB 2.8MB/s\r",
      "\u001b[K     \\ 25.3MB 2.8MB/s\r",
      "\u001b[K     | 25.3MB 3.4MB/s\r",
      "\u001b[K     / 25.3MB 3.4MB/s\r",
      "\u001b[K     - 25.3MB 3.1MB/s\r",
      "\u001b[K     \\ 25.3MB 3.1MB/s\r",
      "\u001b[K     | 25.3MB 3.6MB/s"
     ]
    },
    {
     "name": "stdout",
     "output_type": "stream",
     "text": [
      "\r",
      "\u001b[K     / 25.4MB 3.1MB/s\r",
      "\u001b[K     - 25.4MB 3.0MB/s\r",
      "\u001b[K     \\ 25.4MB 3.6MB/s\r",
      "\u001b[K     | 25.4MB 3.8MB/s\r",
      "\u001b[K     / 25.4MB 3.0MB/s\r",
      "\u001b[K     - 25.4MB 3.0MB/s\r",
      "\u001b[K     \\ 25.4MB 3.2MB/s\r",
      "\u001b[K     | 25.4MB 2.8MB/s\r",
      "\u001b[K     / 25.4MB 2.8MB/s\r",
      "\u001b[K     - 25.4MB 3.3MB/s\r",
      "\u001b[K     \\ 25.5MB 3.4MB/s\r",
      "\u001b[K     | 25.5MB 2.9MB/s\r",
      "\u001b[K     / 25.5MB 2.9MB/s\r",
      "\u001b[K     - 25.5MB 3.0MB/s"
     ]
    },
    {
     "name": "stdout",
     "output_type": "stream",
     "text": [
      "\r",
      "\u001b[K     \\ 25.5MB 2.7MB/s\r",
      "\u001b[K     | 25.5MB 2.7MB/s\r",
      "\u001b[K     / 25.5MB 3.0MB/s\r",
      "\u001b[K     - 25.5MB 3.5MB/s\r",
      "\u001b[K     \\ 25.5MB 2.4MB/s\r",
      "\u001b[K     | 25.5MB 2.3MB/s\r",
      "\u001b[K     / 25.6MB 2.6MB/s\r",
      "\u001b[K     - 25.6MB 2.9MB/s\r",
      "\u001b[K     \\ 25.6MB 2.9MB/s\r",
      "\u001b[K     | 25.6MB 3.3MB/s\r",
      "\u001b[K     / 25.6MB 4.3MB/s\r",
      "\u001b[K     - 25.6MB 3.6MB/s\r",
      "\u001b[K     \\ 25.6MB 3.6MB/s\r",
      "\u001b[K     | 25.6MB 3.3MB/s\r",
      "\u001b[K     / 25.6MB 4.5MB/s\r",
      "\u001b[K     - 25.7MB 4.5MB/s\r",
      "\u001b[K     \\ 25.7MB 4.6MB/s\r",
      "\u001b[K     | 25.7MB 3.3MB/s"
     ]
    },
    {
     "name": "stdout",
     "output_type": "stream",
     "text": [
      "\r",
      "\u001b[K     / 25.7MB 3.1MB/s\r",
      "\u001b[K     - 25.7MB 3.1MB/s\r",
      "\u001b[K     \\ 25.7MB 2.9MB/s\r",
      "\u001b[K     | 25.7MB 3.0MB/s\r",
      "\u001b[K     / 25.7MB 2.9MB/s\r",
      "\u001b[K     - 25.7MB 3.4MB/s\r",
      "\u001b[K     \\ 25.7MB 3.0MB/s\r",
      "\u001b[K     | 25.8MB 2.9MB/s\r",
      "\u001b[K     / 25.8MB 2.8MB/s\r",
      "\u001b[K     - 25.8MB 3.3MB/s\r",
      "\u001b[K     \\ 25.8MB 3.1MB/s\r",
      "\u001b[K     | 25.8MB 3.0MB/s\r",
      "\u001b[K     / 25.8MB 3.7MB/s\r",
      "\u001b[K     - 25.8MB 4.4MB/s\r\n"
     ]
    },
    {
     "name": "stdout",
     "output_type": "stream",
     "text": [
      "    Complete output from command python setup.py egg_info:\r\n"
     ]
    },
    {
     "name": "stdout",
     "output_type": "stream",
     "text": [
      "    Traceback (most recent call last):\r\n",
      "      File \"<string>\", line 1, in <module>\r\n",
      "      File \"/private/var/folders/qf/dfz088fn4_g4gpgm95zbg7x8000219/T/pip-v952zmnj-build/setup.py\", line 17, in <module>\r\n",
      "        from Cython.Build import cythonize\r\n",
      "    ModuleNotFoundError: No module named 'Cython'\r\n",
      "    \r\n",
      "    ----------------------------------------\r\n",
      "\u001b[31mCommand \"python setup.py egg_info\" failed with error code 1 in /private/var/folders/qf/dfz088fn4_g4gpgm95zbg7x8000219/T/pip-v952zmnj-build/\u001b[0m\r\n",
      "\u001b[33mYou are using pip version 9.0.1, however version 22.2.2 is available.\r\n",
      "You should consider upgrading via the 'pip install --upgrade pip' command.\u001b[0m\r\n"
     ]
    }
   ],
   "source": [
    "# Step 1: Install FFTW\n",
    "!apt-get install libfftw3-dev\n",
    "!apt-get install libfftw3-mpi-dev\n",
    "\n",
    "# Step 2: Set paths for Dedalus installation\n",
    "import os\n",
    "os.environ['MPI_INCLUDE_PATH'] = \"/usr/lib/x86_64-linux-gnu/openmpi/include\"\n",
    "os.environ['MPI_LIBRARY_PATH'] = \"/usr/lib/x86_64-linux-gnu\"\n",
    "os.environ['FFTW_INCLUDE_PATH'] = \"/usr/include\"\n",
    "os.environ['FFTW_LIBRARY_PATH'] = \"/usr/lib/x86_64-linux-gnu\"\n",
    "\n",
    "# Step 3: Install Dedalus using pip\n",
    "!pip3 install --no-cache http://github.com/dedalusproject/dedalus/zipball/d3/"
   ]
  },
  {
   "cell_type": "code",
   "execution_count": 2,
   "metadata": {
    "colab": {
     "base_uri": "https://localhost:8080/"
    },
    "executionInfo": {
     "elapsed": 81394,
     "status": "ok",
     "timestamp": 1652117432116,
     "user": {
      "displayName": "Eric Tseng",
      "userId": "16756084133469534332"
     },
     "user_tz": 240
    },
    "id": "Cfxh5e36gODG",
    "outputId": "85e0ec3f-c839-443f-994c-ff81a00948d5"
   },
   "outputs": [
    {
     "ename": "ModuleNotFoundError",
     "evalue": "No module named 'dedalus'",
     "output_type": "error",
     "traceback": [
      "\u001b[0;31m---------------------------------------------------------------------------\u001b[0m",
      "\u001b[0;31mModuleNotFoundError\u001b[0m                       Traceback (most recent call last)",
      "Input \u001b[0;32mIn [2]\u001b[0m, in \u001b[0;36m<module>\u001b[0;34m\u001b[0m\n\u001b[1;32m      1\u001b[0m \u001b[38;5;124;03m\"\"\"\u001b[39;00m\n\u001b[1;32m      2\u001b[0m \u001b[38;5;124;03mDedalus script simulating the viscous shallow water equations on a sphere. This\u001b[39;00m\n\u001b[1;32m      3\u001b[0m \u001b[38;5;124;03mscript demonstrates solving an initial value problem on the sphere. It can be\u001b[39;00m\n\u001b[0;32m   (...)\u001b[0m\n\u001b[1;32m     15\u001b[0m \u001b[38;5;124;03m    $ mpiexec -n 4 python3 plot_sphere.py snapshots/*.h5\u001b[39;00m\n\u001b[1;32m     16\u001b[0m \u001b[38;5;124;03m\"\"\"\u001b[39;00m\n\u001b[1;32m     18\u001b[0m \u001b[38;5;28;01mimport\u001b[39;00m \u001b[38;5;21;01mnumpy\u001b[39;00m \u001b[38;5;28;01mas\u001b[39;00m \u001b[38;5;21;01mnp\u001b[39;00m\n\u001b[0;32m---> 19\u001b[0m \u001b[38;5;28;01mimport\u001b[39;00m \u001b[38;5;21;01mdedalus\u001b[39;00m\u001b[38;5;21;01m.\u001b[39;00m\u001b[38;5;21;01mpublic\u001b[39;00m \u001b[38;5;28;01mas\u001b[39;00m \u001b[38;5;21;01md3\u001b[39;00m\n\u001b[1;32m     20\u001b[0m \u001b[38;5;28;01mimport\u001b[39;00m \u001b[38;5;21;01mlogging\u001b[39;00m\n\u001b[1;32m     21\u001b[0m logger \u001b[38;5;241m=\u001b[39m logging\u001b[38;5;241m.\u001b[39mgetLogger(\u001b[38;5;18m__name__\u001b[39m)\n",
      "\u001b[0;31mModuleNotFoundError\u001b[0m: No module named 'dedalus'"
     ]
    }
   ],
   "source": [
    "\"\"\"\n",
    "Dedalus script simulating the viscous shallow water equations on a sphere. This\n",
    "script demonstrates solving an initial value problem on the sphere. It can be\n",
    "ran serially or in parallel, and uses the built-in analysis framework to save\n",
    "data snapshots to HDF5 files. The `plot_sphere.py` script can be used to produce\n",
    "plots from the saved data. The simulation should a few cpu-minutes to run.\n",
    "\n",
    "The script implements the test case of a barotropically unstable mid-latitude\n",
    "jet from Galewsky et al. 2004 (https://doi.org/10.3402/tellusa.v56i5.14436).\n",
    "The initial height field balanced the imposed jet is solved with an LBVP.\n",
    "A perturbation is then added and the solution is evolved as an IVP.\n",
    "\n",
    "To run and plot using e.g. 4 processes:\n",
    "    $ mpiexec -n 4 python3 shallow_water.py\n",
    "    $ mpiexec -n 4 python3 plot_sphere.py snapshots/*.h5\n",
    "\"\"\"\n",
    "\n",
    "import numpy as np\n",
    "import dedalus.public as d3\n",
    "import logging\n",
    "logger = logging.getLogger(__name__)\n",
    "\n",
    "\n",
    "# Simulation units\n",
    "meter = 1 / 6.37122e6\n",
    "hour = 1\n",
    "second = hour / 3600\n",
    "\n",
    "# Parameters\n",
    "Nphi = 256*4\n",
    "Ntheta = 128*4\n",
    "dealias = 3/2\n",
    "R = 6.37122e6 * meter\n",
    "Omega = 7.292e-5 / second\n",
    "nu = 1e5 * meter**2 / second / 32**2 # Hyperdiffusion matched at ell=32\n",
    "g = 9.80616 * meter / second**2\n",
    "H = 1e4 * meter\n",
    "timestep = 600 * second\n",
    "stop_sim_time = 360 * hour\n",
    "dtype = np.float64\n",
    "\n",
    "# Bases\n",
    "coords = d3.S2Coordinates('phi', 'theta')\n",
    "dist = d3.Distributor(coords, dtype=dtype)\n",
    "basis = d3.SphereBasis(coords, (Nphi, Ntheta), radius=R, dealias=dealias, dtype=dtype)\n",
    "\n",
    "# Fields\n",
    "u      = dist.VectorField(coords, name='u', bases=basis)\n",
    "du_dt  = dist.VectorField(coords, name='du_dt', bases=basis)\n",
    "u_init = dist.VectorField(coords, name='u_init', bases=basis)\n",
    "h_init = dist.Field(name='h_init', bases=basis)\n",
    "h      = dist.Field(name='h', bases=basis)\n",
    "vor    = dist.Field(name='vor', bases=basis)\n",
    "sin_theta = dist.Field(name='sin_theta', bases=basis)\n",
    "\n",
    "\n",
    "# Substitutions\n",
    "zcross = lambda A: d3.MulCosine(d3.skew(A))\n",
    "\n",
    "# Initial conditions: zonal jet\n",
    "phi, theta = dist.local_grids(basis)\n",
    "lat = np.pi / 2 - theta + 0*phi\n",
    "umax = 80 * meter / second\n",
    "lat0 = np.pi / 7\n",
    "lat1 = np.pi / 2 - lat0\n",
    "en = np.exp(-4 / (lat1 - lat0)**2)\n",
    "jet  = (lat0 <= lat) * (lat <= lat1)\n",
    "jet2 = (-lat0 >= lat) * (lat >= -lat1)\n",
    "u_jet = umax / en * np.exp(1 / (lat[jet] - lat0) / (lat[jet] - lat1))\n",
    "u_jet2 = umax / en * np.exp(1 / (lat[jet2] + lat0) / (lat[jet2] + lat1))\n",
    "u['g'][0][jet]  = u_jet\n",
    "u['g'][0][jet2]  = u_jet2\n",
    "u_init['g'][0][jet]  = u_jet\n",
    "u_init['g'][0][jet2]  = u_jet2\n",
    "sin_theta['g'] = np.sin(lat)\n",
    "\n",
    "\n",
    "# Initial conditions: balanced height\n",
    "c = dist.Field(name='c')\n",
    "problem = d3.LBVP([h, c], namespace=locals())\n",
    "problem.add_equation(\"g*lap(h) + c = - div( 2*Omega*zcross(u))\")\n",
    "problem.add_equation(\"ave(h) = 0\")\n",
    "solver = problem.build_solver()\n",
    "solver.solve()\n",
    "\n",
    "c = dist.Field(name='c')\n",
    "problem = d3.LBVP([h_init, c], namespace=locals())\n",
    "problem.add_equation(\"g*lap(h_init) + c = - div(2*Omega*zcross(u_init))\")\n",
    "problem.add_equation(\"ave(h_init) = 0\")\n",
    "solver = problem.build_solver()\n",
    "solver.solve()\n",
    "\n",
    "\n",
    "#\n",
    "\n",
    "# Initial conditions: perturbation\n",
    "lat2 = np.pi / 4\n",
    "lon2 = np.pi / 2\n",
    "hpert = 120 * meter\n",
    "alpha = 1 / 3\n",
    "beta  = 1 / 5\n",
    "h['g'] += hpert * np.cos(lat) * np.exp(-((phi-lon2)/alpha)**2) * np.exp(-((lat2-lat)/beta)**2)\n",
    "h['g'] += hpert * np.cos(lat) * np.exp(-((phi-lon2)/alpha)**2) * np.exp(-((-lat2-lat)/beta)**2)\n",
    "#h_init['g'] += hpert * np.cos(lat) * np.exp(-(phi/alpha)**2) * np.exp(-((lat2-lat)/beta)**2)\n",
    "\n",
    "tan_theta       = dist.Field(name='tan_theta', bases=basis)\n",
    "cos_theta       = dist.Field(name='cos_theta', bases=basis)\n",
    "zonal_unit      = dist.VectorField(coords, name='zonal_unit', bases=basis) # zonal direction unit vector\n",
    "meridional_unit = dist.VectorField(coords, name='zonal_unit', bases=basis) # zonal direction unit vector\n",
    "tan_theta['g']          = np.tan(lat)\n",
    "cos_theta['g']          = np.cos(lat)\n",
    "zonal_unit['g'][0]      = 1\n",
    "zonal_unit['g'][1]      = 0\n",
    "meridional_unit['g'][0] = 0\n",
    "meridional_unit['g'][1] = 1\n",
    "\n",
    "\n",
    "u['g']                  = g*d3.skew(d3.grad(h)/(2*Omega*sin_theta)).evaluate()['g']\n",
    "#u_init['g']             = g*d3.skew(d3.grad(h_init)/(2*Omega*sin_theta)).evaluate()['g']\n",
    "# vorticity initial condition \n",
    "#vor['g'] = g*d3.lap(h).evaluate()['g']\n",
    "\n",
    "# Problem\n",
    "#c       = dist.Field(name='c')\n",
    "problem = d3.IVP([h, c, u, u_init, h_init], namespace=locals())\n",
    "problem.add_equation(\"dt(u)    + nu*lap(lap(u))   + g*grad(h)      + 2*Omega*zcross(u)  = - dot(u, grad(u)) -(u-u_init)/(24*hour*200)\")\n",
    "problem.add_equation(\"g*lap(h) + c = - div(dot(u, grad(u))+2*Omega*zcross(u))\")\n",
    "problem.add_equation(\"ave(h)       = 0\")\n",
    "problem.add_equation(\"u_init       = u_init + 0\")\n",
    "problem.add_equation(\"h_init       = h_init + 0\")\n",
    "\n",
    "\n",
    "#problem = d3.IVP([h, u, c], namespace=locals())\n",
    "#c       = dist.Field(name='c')\n",
    "#problem.add_equation(\"dt(u)         = - dot(u, grad(u)) - nu*lap(lap(u))      - g*grad(h)      - 2*Omega*zcross(u) \")\n",
    "#problem.add_equation(\"dt(vor)       = 2*Omega*cos_theta/R*dot(meridional_unit,u) + div(skew(du_dt)) \")\n",
    "#problem.add_equation(\"g*lap(h)  +c  = - div(2*Omega*zcross(u))\")\n",
    "#problem.add_equation(\"ave(h)        = 0\")\n",
    "#problem.add_equation(\"u             = g*skew(grad(h)/(2*Omega*sin_theta))\")\n",
    "#problem.add_equation(\"u_init        = u_init + 0\")\n",
    "#problem.add_equation(\"h_init        = h_init + 0\")"
   ]
  },
  {
   "cell_type": "code",
   "execution_count": null,
   "metadata": {
    "colab": {
     "base_uri": "https://localhost:8080/",
     "height": 545
    },
    "executionInfo": {
     "elapsed": 2674,
     "status": "ok",
     "timestamp": 1652037802560,
     "user": {
      "displayName": "Eric Tseng",
      "userId": "16756084133469534332"
     },
     "user_tz": 240
    },
    "id": "602jLnIg3Fq0",
    "outputId": "5e5422e7-221f-4e0a-b3e2-09ae9f9bb491"
   },
   "outputs": [
    {
     "data": {
      "text/plain": [
       "<matplotlib.colorbar.Colorbar at 0x7fda31ed0e90>"
      ]
     },
     "execution_count": 5,
     "metadata": {},
     "output_type": "execute_result"
    },
    {
     "data": {
      "image/png": "[encoded data removed]",
      "text/plain": [
       "<Figure size 432x288 with 2 Axes>"
      ]
     },
     "metadata": {
      "filenames": {
       "image/png": "/Users/ktseng/Library/CloudStorage/GoogleDrive-kuiper2000@gmail.com/My Drive/website-hugo/chaos_and_predictability/chaos_and_predictability/_build/jupyter_execute/week3/RB2D/Dynamical_Core2_2_1.png"
      },
      "needs_background": "light"
     },
     "output_type": "display_data"
    },
    {
     "data": {
      "image/png": "[encoded data removed]",
      "text/plain": [
       "<Figure size 432x288 with 2 Axes>"
      ]
     },
     "metadata": {
      "filenames": {
       "image/png": "/Users/ktseng/Library/CloudStorage/GoogleDrive-kuiper2000@gmail.com/My Drive/website-hugo/chaos_and_predictability/chaos_and_predictability/_build/jupyter_execute/week3/RB2D/Dynamical_Core2_2_2.png"
      },
      "needs_background": "light"
     },
     "output_type": "display_data"
    }
   ],
   "source": [
    "import matplotlib.pyplot as plt\n",
    "plt.figure()\n",
    "cs=plt.contourf(g*d3.grad(h).evaluate()['g'][0])\n",
    "plt.colorbar(cs)\n",
    "\n",
    "plt.figure()\n",
    "field = (u-u_init)/(24*hour*40)\n",
    "cs=plt.contourf(field.evaluate()['g'][0])\n",
    "plt.colorbar(cs)"
   ]
  },
  {
   "cell_type": "code",
   "execution_count": null,
   "metadata": {
    "colab": {
     "base_uri": "https://localhost:8080/",
     "height": 1000
    },
    "executionInfo": {
     "elapsed": 45864,
     "status": "ok",
     "timestamp": 1652038843620,
     "user": {
      "displayName": "Eric Tseng",
      "userId": "16756084133469534332"
     },
     "user_tz": 240
    },
    "id": "NlFt8dlXaf9d",
    "outputId": "b7aa5489-6017-4f9f-d3e2-6f6abd9f61a1"
   },
   "outputs": [
    {
     "data": {
      "text/plain": [
       "<matplotlib.colorbar.Colorbar at 0x7fda380a4990>"
      ]
     },
     "execution_count": 12,
     "metadata": {},
     "output_type": "execute_result"
    },
    {
     "data": {
      "image/png": "[encoded data removed]",
      "text/plain": [
       "<Figure size 432x288 with 2 Axes>"
      ]
     },
     "metadata": {
      "filenames": {
       "image/png": "/Users/ktseng/Library/CloudStorage/GoogleDrive-kuiper2000@gmail.com/My Drive/website-hugo/chaos_and_predictability/chaos_and_predictability/_build/jupyter_execute/week3/RB2D/Dynamical_Core2_3_1.png"
      },
      "needs_background": "light"
     },
     "output_type": "display_data"
    },
    {
     "data": {
      "image/png": "[encoded data removed]",
      "text/plain": [
       "<Figure size 432x288 with 2 Axes>"
      ]
     },
     "metadata": {
      "filenames": {
       "image/png": "/Users/ktseng/Library/CloudStorage/GoogleDrive-kuiper2000@gmail.com/My Drive/website-hugo/chaos_and_predictability/chaos_and_predictability/_build/jupyter_execute/week3/RB2D/Dynamical_Core2_3_2.png"
      },
      "needs_background": "light"
     },
     "output_type": "display_data"
    },
    {
     "data": {
      "image/png": "[encoded data removed]",
      "text/plain": [
       "<Figure size 432x288 with 2 Axes>"
      ]
     },
     "metadata": {
      "filenames": {
       "image/png": "/Users/ktseng/Library/CloudStorage/GoogleDrive-kuiper2000@gmail.com/My Drive/website-hugo/chaos_and_predictability/chaos_and_predictability/_build/jupyter_execute/week3/RB2D/Dynamical_Core2_3_3.png"
      },
      "needs_background": "light"
     },
     "output_type": "display_data"
    },
    {
     "data": {
      "image/png": "[encoded data removed]",
      "text/plain": [
       "<Figure size 432x288 with 2 Axes>"
      ]
     },
     "metadata": {
      "filenames": {
       "image/png": "/Users/ktseng/Library/CloudStorage/GoogleDrive-kuiper2000@gmail.com/My Drive/website-hugo/chaos_and_predictability/chaos_and_predictability/_build/jupyter_execute/week3/RB2D/Dynamical_Core2_3_4.png"
      },
      "needs_background": "light"
     },
     "output_type": "display_data"
    },
    {
     "data": {
      "image/png": "[encoded data removed]",
      "text/plain": [
       "<Figure size 432x288 with 2 Axes>"
      ]
     },
     "metadata": {
      "filenames": {
       "image/png": "/Users/ktseng/Library/CloudStorage/GoogleDrive-kuiper2000@gmail.com/My Drive/website-hugo/chaos_and_predictability/chaos_and_predictability/_build/jupyter_execute/week3/RB2D/Dynamical_Core2_3_5.png"
      },
      "needs_background": "light"
     },
     "output_type": "display_data"
    }
   ],
   "source": [
    "import matplotlib.pyplot as plt\n",
    "field = (g*d3.lap(h_init)).evaluate()\n",
    "plt.figure()\n",
    "cs=plt.contourf(field['g'])\n",
    "plt.colorbar(cs)\n",
    "\n",
    "\n",
    "field2 = (g*d3.lap(h)).evaluate()\n",
    "plt.figure()\n",
    "cs=plt.contourf(field2['g'])\n",
    "plt.colorbar(cs)\n",
    "\n",
    "field3 = (g*d3.div(d3.grad(h))).evaluate()\n",
    "plt.figure()\n",
    "cs=plt.contourf(field3['g'])\n",
    "plt.colorbar(cs)\n",
    "\n",
    "field4 = d3.div(d3.dot(u,d3.grad(u))+2*Omega*zcross(u)).evaluate()\n",
    "plt.figure()\n",
    "cs=plt.contourf(-field4['g'])\n",
    "plt.colorbar(cs)\n",
    "\n",
    "\n",
    "field5 = (d3.dot(zonal_unit,u)*cos_theta).evaluate()\n",
    "plt.figure()\n",
    "cs=plt.contourf(field5['g'])\n",
    "plt.colorbar(cs)"
   ]
  },
  {
   "cell_type": "code",
   "execution_count": null,
   "metadata": {
    "colab": {
     "base_uri": "https://localhost:8080/",
     "height": 791
    },
    "executionInfo": {
     "elapsed": 4467,
     "status": "ok",
     "timestamp": 1652062052703,
     "user": {
      "displayName": "Eric Tseng",
      "userId": "16756084133469534332"
     },
     "user_tz": 240
    },
    "id": "R9_E9UTZ2uq3",
    "outputId": "3eff163b-3003-4347-a74c-b473837b4d91"
   },
   "outputs": [
    {
     "data": {
      "text/plain": [
       "<matplotlib.colorbar.Colorbar at 0x7fda2efbec50>"
      ]
     },
     "execution_count": 17,
     "metadata": {},
     "output_type": "execute_result"
    },
    {
     "data": {
      "image/png": "[encoded data removed]",
      "text/plain": [
       "<Figure size 432x288 with 2 Axes>"
      ]
     },
     "metadata": {
      "filenames": {
       "image/png": "/Users/ktseng/Library/CloudStorage/GoogleDrive-kuiper2000@gmail.com/My Drive/website-hugo/chaos_and_predictability/chaos_and_predictability/_build/jupyter_execute/week3/RB2D/Dynamical_Core2_4_1.png"
      },
      "needs_background": "light"
     },
     "output_type": "display_data"
    },
    {
     "data": {
      "image/png": "[encoded data removed]",
      "text/plain": [
       "<Figure size 432x288 with 2 Axes>"
      ]
     },
     "metadata": {
      "filenames": {
       "image/png": "/Users/ktseng/Library/CloudStorage/GoogleDrive-kuiper2000@gmail.com/My Drive/website-hugo/chaos_and_predictability/chaos_and_predictability/_build/jupyter_execute/week3/RB2D/Dynamical_Core2_4_2.png"
      },
      "needs_background": "light"
     },
     "output_type": "display_data"
    },
    {
     "data": {
      "image/png": "[encoded data removed]",
      "text/plain": [
       "<Figure size 432x288 with 2 Axes>"
      ]
     },
     "metadata": {
      "filenames": {
       "image/png": "/Users/ktseng/Library/CloudStorage/GoogleDrive-kuiper2000@gmail.com/My Drive/website-hugo/chaos_and_predictability/chaos_and_predictability/_build/jupyter_execute/week3/RB2D/Dynamical_Core2_4_3.png"
      },
      "needs_background": "light"
     },
     "output_type": "display_data"
    }
   ],
   "source": [
    "plt.figure()\n",
    "cs=plt.contourf(g*d3.skew(d3.grad(h_init)).evaluate()['g'][0])\n",
    "plt.colorbar(cs)\n",
    "\n",
    "plt.figure()\n",
    "cs=plt.contourf(g*d3.skew(d3.grad(h)).evaluate()['g'][0])\n",
    "plt.colorbar(cs)\n",
    "\n",
    "field = (u).evaluate()\n",
    "plt.figure()\n",
    "cs=plt.contourf(h['g'])\n",
    "plt.colorbar(cs)"
   ]
  },
  {
   "cell_type": "code",
   "execution_count": null,
   "metadata": {
    "colab": {
     "base_uri": "https://localhost:8080/",
     "height": 1000
    },
    "executionInfo": {
     "elapsed": 3121,
     "status": "ok",
     "timestamp": 1651846318937,
     "user": {
      "displayName": "Eric Tseng",
      "userId": "16756084133469534332"
     },
     "user_tz": 240
    },
    "id": "DKpZEHs3jnrU",
    "outputId": "11da1d23-d594-4ae7-fa0a-7ce070b287c0"
   },
   "outputs": [
    {
     "name": "stdout",
     "output_type": "stream",
     "text": [
      "2022-05-06 14:11:56,273 subsystems 0/1 INFO :: Building subproblem matrices 1/127 (~1%) Elapsed: 0s, Remaining: 1s, Rate: 8.7e+01/s\n",
      "2022-05-06 14:11:56,340 subsystems 0/1 INFO :: Building subproblem matrices 13/127 (~10%) Elapsed: 0s, Remaining: 1s, Rate: 1.7e+02/s\n",
      "2022-05-06 14:11:56,411 subsystems 0/1 INFO :: Building subproblem matrices 26/127 (~20%) Elapsed: 0s, Remaining: 1s, Rate: 1.7e+02/s\n",
      "2022-05-06 14:11:56,486 subsystems 0/1 INFO :: Building subproblem matrices 39/127 (~31%) Elapsed: 0s, Remaining: 1s, Rate: 1.7e+02/s\n",
      "2022-05-06 14:11:56,548 subsystems 0/1 INFO :: Building subproblem matrices 52/127 (~41%) Elapsed: 0s, Remaining: 0s, Rate: 1.8e+02/s\n",
      "2022-05-06 14:11:56,614 subsystems 0/1 INFO :: Building subproblem matrices 65/127 (~51%) Elapsed: 0s, Remaining: 0s, Rate: 1.8e+02/s\n",
      "2022-05-06 14:11:56,682 subsystems 0/1 INFO :: Building subproblem matrices 78/127 (~61%) Elapsed: 0s, Remaining: 0s, Rate: 1.9e+02/s\n",
      "2022-05-06 14:11:56,748 subsystems 0/1 INFO :: Building subproblem matrices 91/127 (~72%) Elapsed: 0s, Remaining: 0s, Rate: 1.9e+02/s\n",
      "2022-05-06 14:11:56,813 subsystems 0/1 INFO :: Building subproblem matrices 104/127 (~82%) Elapsed: 1s, Remaining: 0s, Rate: 1.9e+02/s\n",
      "2022-05-06 14:11:56,883 subsystems 0/1 INFO :: Building subproblem matrices 117/127 (~92%) Elapsed: 1s, Remaining: 0s, Rate: 1.9e+02/s\n",
      "2022-05-06 14:11:56,939 subsystems 0/1 INFO :: Building subproblem matrices 127/127 (~100%) Elapsed: 1s, Remaining: 0s, Rate: 1.9e+02/s\n"
     ]
    },
    {
     "data": {
      "text/plain": [
       "<matplotlib.colorbar.Colorbar at 0x7f762d4941d0>"
      ]
     },
     "execution_count": 53,
     "metadata": {},
     "output_type": "execute_result"
    },
    {
     "data": {
      "image/png": "[encoded data removed]",
      "text/plain": [
       "<Figure size 432x288 with 2 Axes>"
      ]
     },
     "metadata": {
      "filenames": {
       "image/png": "/Users/ktseng/Library/CloudStorage/GoogleDrive-kuiper2000@gmail.com/My Drive/website-hugo/chaos_and_predictability/chaos_and_predictability/_build/jupyter_execute/week3/RB2D/Dynamical_Core2_5_2.png"
      },
      "needs_background": "light"
     },
     "output_type": "display_data"
    },
    {
     "data": {
      "image/png": "[encoded data removed]",
      "text/plain": [
       "<Figure size 432x288 with 2 Axes>"
      ]
     },
     "metadata": {
      "filenames": {
       "image/png": "/Users/ktseng/Library/CloudStorage/GoogleDrive-kuiper2000@gmail.com/My Drive/website-hugo/chaos_and_predictability/chaos_and_predictability/_build/jupyter_execute/week3/RB2D/Dynamical_Core2_5_3.png"
      },
      "needs_background": "light"
     },
     "output_type": "display_data"
    },
    {
     "data": {
      "image/png": "[encoded data removed]",
      "text/plain": [
       "<Figure size 432x288 with 2 Axes>"
      ]
     },
     "metadata": {
      "filenames": {
       "image/png": "/Users/ktseng/Library/CloudStorage/GoogleDrive-kuiper2000@gmail.com/My Drive/website-hugo/chaos_and_predictability/chaos_and_predictability/_build/jupyter_execute/week3/RB2D/Dynamical_Core2_5_4.png"
      },
      "needs_background": "light"
     },
     "output_type": "display_data"
    },
    {
     "data": {
      "image/png": "[encoded data removed]",
      "text/plain": [
       "<Figure size 432x288 with 2 Axes>"
      ]
     },
     "metadata": {
      "filenames": {
       "image/png": "/Users/ktseng/Library/CloudStorage/GoogleDrive-kuiper2000@gmail.com/My Drive/website-hugo/chaos_and_predictability/chaos_and_predictability/_build/jupyter_execute/week3/RB2D/Dynamical_Core2_5_5.png"
      },
      "needs_background": "light"
     },
     "output_type": "display_data"
    },
    {
     "data": {
      "image/png": "[encoded data removed]",
      "text/plain": [
       "<Figure size 432x288 with 2 Axes>"
      ]
     },
     "metadata": {
      "filenames": {
       "image/png": "/Users/ktseng/Library/CloudStorage/GoogleDrive-kuiper2000@gmail.com/My Drive/website-hugo/chaos_and_predictability/chaos_and_predictability/_build/jupyter_execute/week3/RB2D/Dynamical_Core2_5_6.png"
      },
      "needs_background": "light"
     },
     "output_type": "display_data"
    }
   ],
   "source": [
    "aa  = dist.VectorField(coords,name='aa', bases=basis)\n",
    "aa  = (- d3.dot(u, d3.grad(u))            - nu*d3.lap(d3.lap(u))      - g*d3.grad(h_init2)      - 2*Omega*zcross(u) \\\n",
    "       + d3.dot(u_init, d3.grad(u)) \\\n",
    "       + d3.dot(u, d3.grad(u_init)) \\\n",
    "       - d3.dot(u_init, d3.grad(u_init)) + nu*d3.lap(d3.lap(u_init)) + g*d3.grad(h_init) + 2*Omega*zcross(u_init)).evaluate()\n",
    "\n",
    "plt.figure()\n",
    "cs=plt.contourf(aa['g'][0])\n",
    "plt.colorbar(cs)      \n",
    "\n",
    "h_init2 = dist.Field(name='h_init2', bases=basis)\n",
    "\n",
    "c = dist.Field(name='c')\n",
    "problem = d3.LBVP([h_init2, c], namespace=locals())\n",
    "problem.add_equation(\"g*lap(h_init2) + c = - div(dot(aa+u, grad(aa+u)) + 2*Omega*zcross(aa+u))\")\n",
    "problem.add_equation(\"ave(h_init2) = 0\")\n",
    "solver = problem.build_solver()\n",
    "solver.solve()\n",
    "\n",
    "plt.figure()\n",
    "cs=plt.contourf(h_init2['g'])\n",
    "plt.colorbar(cs)     \n",
    "\n",
    "plt.figure()\n",
    "cs=plt.contourf((h_init2-h).evaluate()['g'])\n",
    "plt.colorbar(cs)     \n",
    "\n",
    "plt.figure()\n",
    "cs=plt.contourf(d3.grad(g*(h_init2-h_init)).evaluate()['g'][0])\n",
    "plt.colorbar(cs)     \n",
    "\n",
    "plt.figure()\n",
    "cs=plt.contourf(u_init['g'][0])\n",
    "plt.colorbar(cs) \n"
   ]
  },
  {
   "cell_type": "code",
   "execution_count": null,
   "metadata": {
    "colab": {
     "base_uri": "https://localhost:8080/",
     "height": 239
    },
    "executionInfo": {
     "elapsed": 221,
     "status": "error",
     "timestamp": 1652137647044,
     "user": {
      "displayName": "Eric Tseng",
      "userId": "16756084133469534332"
     },
     "user_tz": 240
    },
    "id": "iF50kyrnoaCk",
    "outputId": "a6bdaab2-1934-4016-c4d1-be61a535e5d4"
   },
   "outputs": [
    {
     "ename": "NameError",
     "evalue": "ignored",
     "output_type": "error",
     "traceback": [
      "\u001b[0;31m---------------------------------------------------------------------------\u001b[0m",
      "\u001b[0;31mNameError\u001b[0m                                 Traceback (most recent call last)",
      "\u001b[0;32m<ipython-input-1-edb4ef88a67d>\u001b[0m in \u001b[0;36m<module>\u001b[0;34m()\u001b[0m\n\u001b[1;32m      1\u001b[0m \u001b[0;31m# Solver\u001b[0m\u001b[0;34m\u001b[0m\u001b[0;34m\u001b[0m\u001b[0;34m\u001b[0m\u001b[0m\n\u001b[0;32m----> 2\u001b[0;31m \u001b[0msolver\u001b[0m \u001b[0;34m=\u001b[0m \u001b[0mproblem\u001b[0m\u001b[0;34m.\u001b[0m\u001b[0mbuild_solver\u001b[0m\u001b[0;34m(\u001b[0m\u001b[0md3\u001b[0m\u001b[0;34m.\u001b[0m\u001b[0mRK222\u001b[0m\u001b[0;34m)\u001b[0m\u001b[0;34m\u001b[0m\u001b[0;34m\u001b[0m\u001b[0m\n\u001b[0m\u001b[1;32m      3\u001b[0m \u001b[0msolver\u001b[0m\u001b[0;34m.\u001b[0m\u001b[0mstop_sim_time\u001b[0m \u001b[0;34m=\u001b[0m \u001b[0mstop_sim_time\u001b[0m\u001b[0;34m\u001b[0m\u001b[0;34m\u001b[0m\u001b[0m\n\u001b[1;32m      4\u001b[0m \u001b[0;34m\u001b[0m\u001b[0m\n\u001b[1;32m      5\u001b[0m \u001b[0;31m# Analysis\u001b[0m\u001b[0;34m\u001b[0m\u001b[0;34m\u001b[0m\u001b[0;34m\u001b[0m\u001b[0m\n",
      "\u001b[0;31mNameError\u001b[0m: name 'problem' is not defined"
     ]
    }
   ],
   "source": [
    "# Solver\n",
    "solver = problem.build_solver(d3.RK222)\n",
    "solver.stop_sim_time = stop_sim_time\n",
    "\n",
    "# Analysis\n",
    "snapshots = solver.evaluator.add_file_handler('snapshots', sim_dt=1*hour, max_writes=10)\n",
    "snapshots.add_task(h, name='height')\n",
    "snapshots.add_task(-d3.div(d3.skew(u)), name='vorticity')\n",
    "\n",
    "# Main loop\n",
    "try:\n",
    "    logger.info('Starting main loop')\n",
    "    while solver.proceed:\n",
    "        solver.step(timestep)\n",
    "        if (solver.iteration-1) % 10 == 0:\n",
    "            logger.info('Iteration=%i, Time=%e, dt=%e' %(solver.iteration, solver.sim_time, timestep))\n",
    "except:\n",
    "    logger.error('Exception raised, triggering end of main loop.')\n",
    "    raise\n",
    "finally:\n",
    "    solver.log_stats()"
   ]
  },
  {
   "cell_type": "code",
   "execution_count": null,
   "metadata": {
    "colab": {
     "base_uri": "https://localhost:8080/"
    },
    "executionInfo": {
     "elapsed": 36490,
     "status": "ok",
     "timestamp": 1652062109696,
     "user": {
      "displayName": "Eric Tseng",
      "userId": "16756084133469534332"
     },
     "user_tz": 240
    },
    "id": "MEJLrGUJYls6",
    "outputId": "7bb1251a-27b1-4eaa-dae7-37b88d57a179"
   },
   "outputs": [
    {
     "name": "stdout",
     "output_type": "stream",
     "text": [
      "Mounted at /content/gdrive\n"
     ]
    }
   ],
   "source": [
    "from google.colab import drive\n",
    "drive.mount('/content/gdrive')"
   ]
  },
  {
   "cell_type": "code",
   "execution_count": null,
   "metadata": {
    "id": "qIHaBUvdX4QC"
   },
   "outputs": [],
   "source": [
    "!rm list.txt\n",
    "import os\n",
    "for i in range(1,37):\n",
    "    os.system('ls /content/snapshots/snapshots_s'+str(i)+'.h5 >> list.txt')"
   ]
  },
  {
   "cell_type": "code",
   "execution_count": null,
   "metadata": {
    "colab": {
     "base_uri": "https://localhost:8080/",
     "height": 973
    },
    "executionInfo": {
     "elapsed": 7655081,
     "status": "error",
     "timestamp": 1652106409415,
     "user": {
      "displayName": "Eric Tseng",
      "userId": "16756084133469534332"
     },
     "user_tz": 240
    },
    "id": "Oh10-ki8d_rE",
    "outputId": "509806a5-f432-48c8-c5dc-aae5f3ed2164"
   },
   "outputs": [
    {
     "name": "stdout",
     "output_type": "stream",
     "text": [
      "/content/snapshots/snapshots_s1.h5\n",
      "/content/snapshots/snapshots_s2.h5\n",
      "/content/snapshots/snapshots_s3.h5\n",
      "/content/snapshots/snapshots_s4.h5\n",
      "/content/snapshots/snapshots_s5.h5\n",
      "/content/snapshots/snapshots_s6.h5\n",
      "/content/snapshots/snapshots_s7.h5\n",
      "/content/snapshots/snapshots_s8.h5\n",
      "/content/snapshots/snapshots_s9.h5\n",
      "/content/snapshots/snapshots_s10.h5\n",
      "/content/snapshots/snapshots_s11.h5\n",
      "/content/snapshots/snapshots_s12.h5\n",
      "/content/snapshots/snapshots_s13.h5\n",
      "/content/snapshots/snapshots_s14.h5\n",
      "/content/snapshots/snapshots_s15.h5\n",
      "/content/snapshots/snapshots_s16.h5\n",
      "/content/snapshots/snapshots_s17.h5\n",
      "/content/snapshots/snapshots_s18.h5\n",
      "/content/snapshots/snapshots_s19.h5\n",
      "/content/snapshots/snapshots_s20.h5\n",
      "/content/snapshots/snapshots_s21.h5\n",
      "/content/snapshots/snapshots_s22.h5\n",
      "/content/snapshots/snapshots_s23.h5\n",
      "/content/snapshots/snapshots_s24.h5\n",
      "/content/snapshots/snapshots_s25.h5\n",
      "/content/snapshots/snapshots_s26.h5\n",
      "/content/snapshots/snapshots_s27.h5\n"
     ]
    },
    {
     "ename": "OSError",
     "evalue": "ignored",
     "output_type": "error",
     "traceback": [
      "\u001b[0;31m---------------------------------------------------------------------------\u001b[0m",
      "\u001b[0;31mOSError\u001b[0m                                   Traceback (most recent call last)",
      "\u001b[0;32m<ipython-input-6-6bed7241fbe1>\u001b[0m in \u001b[0;36m<module>\u001b[0;34m()\u001b[0m\n\u001b[1;32m     19\u001b[0m           \u001b[0mnewstr\u001b[0m \u001b[0;34m=\u001b[0m \u001b[0mline\u001b[0m\u001b[0;34m.\u001b[0m\u001b[0mstrip\u001b[0m\u001b[0;34m(\u001b[0m\u001b[0;34m)\u001b[0m\u001b[0;34m\u001b[0m\u001b[0;34m\u001b[0m\u001b[0m\n\u001b[1;32m     20\u001b[0m           \u001b[0mprint\u001b[0m\u001b[0;34m(\u001b[0m\u001b[0mnewstr\u001b[0m\u001b[0;34m)\u001b[0m\u001b[0;34m\u001b[0m\u001b[0;34m\u001b[0m\u001b[0m\n\u001b[0;32m---> 21\u001b[0;31m           \u001b[0mf\u001b[0m   \u001b[0;34m=\u001b[0m \u001b[0mh5py\u001b[0m\u001b[0;34m.\u001b[0m\u001b[0mFile\u001b[0m\u001b[0;34m(\u001b[0m\u001b[0mnewstr\u001b[0m\u001b[0;34m,\u001b[0m \u001b[0;34m'r'\u001b[0m\u001b[0;34m)\u001b[0m\u001b[0;34m\u001b[0m\u001b[0;34m\u001b[0m\u001b[0m\n\u001b[0m\u001b[1;32m     22\u001b[0m           \u001b[0mh\u001b[0m   \u001b[0;34m=\u001b[0m \u001b[0mf\u001b[0m\u001b[0;34m[\u001b[0m\u001b[0;34m'tasks'\u001b[0m\u001b[0;34m]\u001b[0m\u001b[0;34m[\u001b[0m\u001b[0;34m'height'\u001b[0m\u001b[0;34m]\u001b[0m\u001b[0;34m\u001b[0m\u001b[0;34m\u001b[0m\u001b[0m\n\u001b[1;32m     23\u001b[0m           \u001b[0mdim\u001b[0m \u001b[0;34m=\u001b[0m \u001b[0mnp\u001b[0m\u001b[0;34m.\u001b[0m\u001b[0mshape\u001b[0m\u001b[0;34m(\u001b[0m\u001b[0mh\u001b[0m\u001b[0;34m)\u001b[0m\u001b[0;34m\u001b[0m\u001b[0;34m\u001b[0m\u001b[0m\n",
      "\u001b[0;32m/usr/local/lib/python3.7/dist-packages/h5py/_hl/files.py\u001b[0m in \u001b[0;36m__init__\u001b[0;34m(self, name, mode, driver, libver, userblock_size, swmr, rdcc_nslots, rdcc_nbytes, rdcc_w0, track_order, fs_strategy, fs_persist, fs_threshold, **kwds)\u001b[0m\n\u001b[1;32m    425\u001b[0m                                fapl, fcpl=make_fcpl(track_order=track_order, fs_strategy=fs_strategy,\n\u001b[1;32m    426\u001b[0m                                fs_persist=fs_persist, fs_threshold=fs_threshold),\n\u001b[0;32m--> 427\u001b[0;31m                                swmr=swmr)\n\u001b[0m\u001b[1;32m    428\u001b[0m \u001b[0;34m\u001b[0m\u001b[0m\n\u001b[1;32m    429\u001b[0m             \u001b[0;32mif\u001b[0m \u001b[0misinstance\u001b[0m\u001b[0;34m(\u001b[0m\u001b[0mlibver\u001b[0m\u001b[0;34m,\u001b[0m \u001b[0mtuple\u001b[0m\u001b[0;34m)\u001b[0m\u001b[0;34m:\u001b[0m\u001b[0;34m\u001b[0m\u001b[0;34m\u001b[0m\u001b[0m\n",
      "\u001b[0;32m/usr/local/lib/python3.7/dist-packages/h5py/_hl/files.py\u001b[0m in \u001b[0;36mmake_fid\u001b[0;34m(name, mode, userblock_size, fapl, fcpl, swmr)\u001b[0m\n\u001b[1;32m    188\u001b[0m         \u001b[0;32mif\u001b[0m \u001b[0mswmr\u001b[0m \u001b[0;32mand\u001b[0m \u001b[0mswmr_support\u001b[0m\u001b[0;34m:\u001b[0m\u001b[0;34m\u001b[0m\u001b[0;34m\u001b[0m\u001b[0m\n\u001b[1;32m    189\u001b[0m             \u001b[0mflags\u001b[0m \u001b[0;34m|=\u001b[0m \u001b[0mh5f\u001b[0m\u001b[0;34m.\u001b[0m\u001b[0mACC_SWMR_READ\u001b[0m\u001b[0;34m\u001b[0m\u001b[0;34m\u001b[0m\u001b[0m\n\u001b[0;32m--> 190\u001b[0;31m         \u001b[0mfid\u001b[0m \u001b[0;34m=\u001b[0m \u001b[0mh5f\u001b[0m\u001b[0;34m.\u001b[0m\u001b[0mopen\u001b[0m\u001b[0;34m(\u001b[0m\u001b[0mname\u001b[0m\u001b[0;34m,\u001b[0m \u001b[0mflags\u001b[0m\u001b[0;34m,\u001b[0m \u001b[0mfapl\u001b[0m\u001b[0;34m=\u001b[0m\u001b[0mfapl\u001b[0m\u001b[0;34m)\u001b[0m\u001b[0;34m\u001b[0m\u001b[0;34m\u001b[0m\u001b[0m\n\u001b[0m\u001b[1;32m    191\u001b[0m     \u001b[0;32melif\u001b[0m \u001b[0mmode\u001b[0m \u001b[0;34m==\u001b[0m \u001b[0;34m'r+'\u001b[0m\u001b[0;34m:\u001b[0m\u001b[0;34m\u001b[0m\u001b[0;34m\u001b[0m\u001b[0m\n\u001b[1;32m    192\u001b[0m         \u001b[0mfid\u001b[0m \u001b[0;34m=\u001b[0m \u001b[0mh5f\u001b[0m\u001b[0;34m.\u001b[0m\u001b[0mopen\u001b[0m\u001b[0;34m(\u001b[0m\u001b[0mname\u001b[0m\u001b[0;34m,\u001b[0m \u001b[0mh5f\u001b[0m\u001b[0;34m.\u001b[0m\u001b[0mACC_RDWR\u001b[0m\u001b[0;34m,\u001b[0m \u001b[0mfapl\u001b[0m\u001b[0;34m=\u001b[0m\u001b[0mfapl\u001b[0m\u001b[0;34m)\u001b[0m\u001b[0;34m\u001b[0m\u001b[0;34m\u001b[0m\u001b[0m\n",
      "\u001b[0;32mh5py/_objects.pyx\u001b[0m in \u001b[0;36mh5py._objects.with_phil.wrapper\u001b[0;34m()\u001b[0m\n",
      "\u001b[0;32mh5py/_objects.pyx\u001b[0m in \u001b[0;36mh5py._objects.with_phil.wrapper\u001b[0;34m()\u001b[0m\n",
      "\u001b[0;32mh5py/h5f.pyx\u001b[0m in \u001b[0;36mh5py.h5f.open\u001b[0;34m()\u001b[0m\n",
      "\u001b[0;31mOSError\u001b[0m: Unable to open file (unable to open file: name = '/content/snapshots/snapshots_s27.h5', errno = 2, error message = 'No such file or directory', flags = 0, o_flags = 0)"
     ]
    }
   ],
   "source": [
    "import numpy as np\n",
    "import h5py\n",
    "import matplotlib.pyplot as plt\n",
    "import matplotlib \n",
    "from matplotlib import cm\n",
    "\n",
    "def build_s2_coord_vertices(phi, theta):\n",
    "    phi = phi.ravel()\n",
    "    phi_vert = np.concatenate([phi, [2*np.pi]])\n",
    "    phi_vert -= phi_vert[1] / 2\n",
    "    theta = theta.ravel()\n",
    "    theta_mid = (theta[:-1] + theta[1:]) / 2\n",
    "    theta_vert = np.concatenate([[np.pi], theta_mid, [0]])\n",
    "    return np.meshgrid(phi_vert, theta_vert, indexing='ij')\n",
    "\n",
    "count=0\n",
    "with open('list.txt') as f:\n",
    "     for line in f:\n",
    "          newstr = line.strip()\n",
    "          print(newstr)\n",
    "          f   = h5py.File(newstr, 'r')\n",
    "          h   = f['tasks']['height']\n",
    "          dim = np.shape(h)\n",
    "          # Plot settings\n",
    "          task = 'height'\n",
    "          cmap = plt.cm.seismic\n",
    "          dpi = 300\n",
    "          figsize = (5, 5)\n",
    "          fig = plt.figure(figsize=figsize)\n",
    "          \n",
    "          ax = fig.add_axes([0, 0, 1, 1], projection='3d')\n",
    "          #plt.contourf(vor[0,:,:].T)\n",
    "          phi = h.dims[1][0][:].ravel()\n",
    "          theta = h.dims[2][0][:].ravel()\n",
    "          phi_vert, theta_vert = build_s2_coord_vertices(phi, theta)\n",
    "          x = np.sin(theta_vert) * np.cos(phi_vert)\n",
    "          y = np.sin(theta_vert) * np.sin(phi_vert)\n",
    "          z = np.cos(theta_vert)\n",
    "          for index in range(1, dim[0]):\n",
    "              data_slices = (index, slice(None), slice(None))\n",
    "              data = h[data_slices]\n",
    "              clim = np.max(np.abs(data))\n",
    "              norm = matplotlib.colors.Normalize(-clim, clim)\n",
    "              fc = cmap(norm(data))\n",
    "              #fc[:, theta.size//2, :] = [0,0,0,1]  # black equator\n",
    "              if index == 1:\n",
    "                  surf = ax.plot_surface(x, y, z, facecolors=fc, cstride=1, rstride=1, linewidth=0, antialiased=False, shade=False, zorder=5)\n",
    "                  #ax.contour(x,y,z,[0],colors='k',linewidths=3)\n",
    "                  #ax.set_box_aspect((1,1,1))\n",
    "                  ax.set_xlim(-0.7, 0.7)\n",
    "                  ax.set_ylim(-0.7, 0.7)\n",
    "                  ax.set_zlim(-0.7, 0.7)\n",
    "                  ax.axis('off')\n",
    "              else:\n",
    "                  surf.set_facecolors(fc.reshape(fc.size//4, 4))\n",
    "              count=count+1\n",
    "              fig.savefig(\"/content/gdrive/MyDrive/website-hugo/chaos_and_predictability/week3/RB2D/2D_shallow_water_output/figures/Height_\"+str(count).zfill(3)+'.png', dpi=dpi)\n",
    "          plt.close(fig)"
   ]
  },
  {
   "cell_type": "code",
   "execution_count": null,
   "metadata": {
    "colab": {
     "base_uri": "https://localhost:8080/"
    },
    "executionInfo": {
     "elapsed": 823527,
     "status": "ok",
     "timestamp": 1651970397703,
     "user": {
      "displayName": "Eric Tseng",
      "userId": "16756084133469534332"
     },
     "user_tz": 240
    },
    "id": "WJzEaYvQYIPn",
    "outputId": "0b3fde14-e547-4c17-df3b-bafdcf755261"
   },
   "outputs": [
    {
     "name": "stdout",
     "output_type": "stream",
     "text": [
      "/content/snapshots/snapshots_s1.h5\n",
      "/content/snapshots/snapshots_s2.h5\n",
      "/content/snapshots/snapshots_s3.h5\n",
      "/content/snapshots/snapshots_s4.h5\n",
      "/content/snapshots/snapshots_s5.h5\n",
      "/content/snapshots/snapshots_s6.h5\n",
      "/content/snapshots/snapshots_s7.h5\n",
      "/content/snapshots/snapshots_s8.h5\n",
      "/content/snapshots/snapshots_s9.h5\n",
      "/content/snapshots/snapshots_s10.h5\n",
      "/content/snapshots/snapshots_s11.h5\n",
      "/content/snapshots/snapshots_s12.h5\n",
      "/content/snapshots/snapshots_s13.h5\n",
      "/content/snapshots/snapshots_s14.h5\n",
      "/content/snapshots/snapshots_s15.h5\n",
      "/content/snapshots/snapshots_s16.h5\n",
      "/content/snapshots/snapshots_s17.h5\n",
      "/content/snapshots/snapshots_s18.h5\n",
      "/content/snapshots/snapshots_s19.h5\n",
      "/content/snapshots/snapshots_s20.h5\n",
      "/content/snapshots/snapshots_s21.h5\n",
      "/content/snapshots/snapshots_s22.h5\n",
      "/content/snapshots/snapshots_s23.h5\n",
      "/content/snapshots/snapshots_s24.h5\n",
      "/content/snapshots/snapshots_s25.h5\n",
      "/content/snapshots/snapshots_s26.h5\n",
      "/content/snapshots/snapshots_s27.h5\n",
      "/content/snapshots/snapshots_s28.h5\n",
      "/content/snapshots/snapshots_s29.h5\n",
      "/content/snapshots/snapshots_s30.h5\n",
      "/content/snapshots/snapshots_s31.h5\n",
      "/content/snapshots/snapshots_s32.h5\n",
      "/content/snapshots/snapshots_s33.h5\n",
      "/content/snapshots/snapshots_s34.h5\n",
      "/content/snapshots/snapshots_s35.h5\n",
      "/content/snapshots/snapshots_s36.h5\n"
     ]
    }
   ],
   "source": [
    "import numpy as np\n",
    "import h5py\n",
    "import matplotlib.pyplot as plt\n",
    "import matplotlib \n",
    "\n",
    "\n",
    "def build_s2_coord_vertices(phi, theta):\n",
    "    phi = phi.ravel()\n",
    "    phi_vert = np.concatenate([phi, [2*np.pi]])\n",
    "    phi_vert -= phi_vert[1] / 2\n",
    "    theta = theta.ravel()\n",
    "    theta_mid = (theta[:-1] + theta[1:]) / 2\n",
    "    theta_vert = np.concatenate([[np.pi], theta_mid, [0]])\n",
    "    return np.meshgrid(phi_vert, theta_vert, indexing='ij')\n",
    "\n",
    "count=0\n",
    "with open('list.txt') as f:\n",
    "     for line in f:\n",
    "          newstr = line.strip()\n",
    "          print(newstr)\n",
    "          f   = h5py.File(newstr, 'r')\n",
    "          vor = f['tasks']['vorticity']\n",
    "          height = f['tasks']['height']\n",
    "          pv  = (vor-(2*Omega*sin_theta).evaluate()['g'])/(height+h_init.evaluate()['g'])\n",
    "          dim = np.shape(vor)\n",
    "          # Plot settings\n",
    "          task = 'vorticity'\n",
    "          cmap = plt.cm.afmhot_r\n",
    "          dpi = 100\n",
    "          figsize = (8, 8)\n",
    "          fig = plt.figure(figsize=figsize)\n",
    "          ax = fig.add_axes([0, 0, 1, 1], projection='3d')\n",
    "          #plt.contourf(vor[0,:,:].T)\n",
    "          phi = pv.dims[1][0][:].ravel()\n",
    "          theta = pv.dims[2][0][:].ravel()\n",
    "          phi_vert, theta_vert = build_s2_coord_vertices(phi, theta)\n",
    "          x = np.sin(theta_vert) * np.cos(phi_vert)\n",
    "          y = np.sin(theta_vert) * np.sin(phi_vert)\n",
    "          z = np.cos(theta_vert)\n",
    "          for index in range(1, dim[0]):\n",
    "              data_slices = (index, slice(None), slice(None))\n",
    "              data = pv[data_slices]\n",
    "              clim = np.max(np.abs(data))\n",
    "              norm = matplotlib.colors.Normalize(-clim, clim)\n",
    "              fc = cmap(norm(data))\n",
    "              #fc[:, theta.size//2, :] = [0,0,0,1]  # black equator\n",
    "              if index == 1:\n",
    "                  surf = ax.plot_surface(x, y, z, facecolors=fc, cstride=1, rstride=1, linewidth=0, antialiased=False, shade=False, zorder=5)\n",
    "                  #ax.set_box_aspect((1,1,1))\n",
    "                  ax.set_xlim(-0.7, 0.7)\n",
    "                  ax.set_ylim(-0.7, 0.7)\n",
    "                  ax.set_zlim(-0.7, 0.7)\n",
    "                  ax.axis('off')\n",
    "              else:\n",
    "                  surf.set_facecolors(fc.reshape(fc.size//4, 4))\n",
    "              count=count+1\n",
    "              fig.savefig(\"/content/gdrive/MyDrive/website-hugo/chaos_and_predictability/week3/RB2D/2D_shallow_water_output/figures/PV_\"+str(count).zfill(3)+'.png', dpi=dpi)\n",
    "          plt.close(fig)"
   ]
  },
  {
   "cell_type": "code",
   "execution_count": null,
   "metadata": {
    "colab": {
     "base_uri": "https://localhost:8080/",
     "height": 221
    },
    "executionInfo": {
     "elapsed": 134,
     "status": "error",
     "timestamp": 1651970482512,
     "user": {
      "displayName": "Eric Tseng",
      "userId": "16756084133469534332"
     },
     "user_tz": 240
    },
    "id": "sB6cq39hD4rG",
    "outputId": "578b78d2-967f-4159-8ee7-ba9f6c99db65"
   },
   "outputs": [
    {
     "ename": "StopIteration",
     "evalue": "ignored",
     "output_type": "error",
     "traceback": [
      "\u001b[0;31m---------------------------------------------------------------------------\u001b[0m",
      "\u001b[0;31mStopIteration\u001b[0m                             Traceback (most recent call last)",
      "\u001b[0;32m<ipython-input-66-498073f91a65>\u001b[0m in \u001b[0;36m<module>\u001b[0;34m()\u001b[0m\n\u001b[1;32m      8\u001b[0m \u001b[0;31m# https://pillow.readthedocs.io/en/stable/handbook/image-file-formats.html#gif\u001b[0m\u001b[0;34m\u001b[0m\u001b[0;34m\u001b[0m\u001b[0;34m\u001b[0m\u001b[0m\n\u001b[1;32m      9\u001b[0m \u001b[0mimgs\u001b[0m \u001b[0;34m=\u001b[0m \u001b[0;34m(\u001b[0m\u001b[0mImage\u001b[0m\u001b[0;34m.\u001b[0m\u001b[0mopen\u001b[0m\u001b[0;34m(\u001b[0m\u001b[0mf\u001b[0m\u001b[0;34m)\u001b[0m \u001b[0;32mfor\u001b[0m \u001b[0mf\u001b[0m \u001b[0;32min\u001b[0m \u001b[0msorted\u001b[0m\u001b[0;34m(\u001b[0m\u001b[0mglob\u001b[0m\u001b[0;34m.\u001b[0m\u001b[0mglob\u001b[0m\u001b[0;34m(\u001b[0m\u001b[0mfp_in\u001b[0m\u001b[0;34m)\u001b[0m\u001b[0;34m)\u001b[0m\u001b[0;34m)\u001b[0m\u001b[0;34m\u001b[0m\u001b[0;34m\u001b[0m\u001b[0m\n\u001b[0;32m---> 10\u001b[0;31m \u001b[0mimg\u001b[0m \u001b[0;34m=\u001b[0m \u001b[0mnext\u001b[0m\u001b[0;34m(\u001b[0m\u001b[0mimgs\u001b[0m\u001b[0;34m)\u001b[0m  \u001b[0;31m# extract first image from iterator\u001b[0m\u001b[0;34m\u001b[0m\u001b[0;34m\u001b[0m\u001b[0m\n\u001b[0m\u001b[1;32m     11\u001b[0m \u001b[0mimg\u001b[0m\u001b[0;34m.\u001b[0m\u001b[0msave\u001b[0m\u001b[0;34m(\u001b[0m\u001b[0mfp\u001b[0m\u001b[0;34m=\u001b[0m\u001b[0mfp_out\u001b[0m\u001b[0;34m,\u001b[0m \u001b[0mformat\u001b[0m\u001b[0;34m=\u001b[0m\u001b[0;34m'GIF'\u001b[0m\u001b[0;34m,\u001b[0m \u001b[0mappend_images\u001b[0m\u001b[0;34m=\u001b[0m\u001b[0mimgs\u001b[0m\u001b[0;34m,\u001b[0m\u001b[0msave_all\u001b[0m\u001b[0;34m=\u001b[0m\u001b[0;32mTrue\u001b[0m\u001b[0;34m,\u001b[0m \u001b[0mduration\u001b[0m\u001b[0;34m=\u001b[0m\u001b[0;36m10\u001b[0m\u001b[0;34m,\u001b[0m \u001b[0mloop\u001b[0m\u001b[0;34m=\u001b[0m\u001b[0;36m0\u001b[0m\u001b[0;34m)\u001b[0m\u001b[0;34m\u001b[0m\u001b[0;34m\u001b[0m\u001b[0m\n",
      "\u001b[0;31mStopIteration\u001b[0m: "
     ]
    }
   ],
   "source": [
    "import glob\n",
    "from PIL import Image\n",
    "\n",
    "# filepaths\n",
    "fp_in = \"/content/drive/MyDrive/website-hugo/chaos_and_predictability/week3/RB2D/2D_shallow_water_output/figures/*.png\"\n",
    "fp_out = \"/content/drive/MyDrive/website-hugo/chaos_and_predictability/week3/RB2D/2D_shallow_water_output/figures/image2.gif\"\n",
    "\n",
    "# https://pillow.readthedocs.io/en/stable/handbook/image-file-formats.html#gif\n",
    "imgs = (Image.open(f) for f in sorted(glob.glob(fp_in)))\n",
    "img = next(imgs)  # extract first image from iterator\n",
    "img.save(fp=fp_out, format='GIF', append_images=imgs,\n",
    "         save_all=True, duration=10, loop=0)"
   ]
  },
  {
   "cell_type": "code",
   "execution_count": null,
   "metadata": {
    "colab": {
     "base_uri": "https://localhost:8080/"
    },
    "executionInfo": {
     "elapsed": 302,
     "status": "ok",
     "timestamp": 1651689987577,
     "user": {
      "displayName": "Eric Tseng",
      "userId": "16756084133469534332"
     },
     "user_tz": 240
    },
    "id": "6PvwT5FlZQ85",
    "outputId": "92d8da4f-7f2b-4a10-a82a-ee2f73a6faf0"
   },
   "outputs": [
    {
     "name": "stdout",
     "output_type": "stream",
     "text": [
      "ls: cannot access '/content/drive/MyDrive/website-hugo/chaos_and_predictability/week3/RB2D/2D_shallow_water_output/figures/': No such file or directory\n"
     ]
    }
   ],
   "source": [
    "!ls /content/gdrive/MyDrive/website-hugo/chaos_and_predictability/week3/RB2D/2D_shallow_water_output/figures"
   ]
  }
 ],
 "metadata": {
  "colab": {
   "authorship_tag": "ABX9TyPaiHfDzuVAIQzMtxehowma",
   "collapsed_sections": [],
   "machine_shape": "hm",
   "name": "Dynamical_Core2.ipynb",
   "provenance": []
  },
  "kernelspec": {
   "display_name": "Python 3",
   "name": "python3"
  },
  "language_info": {
   "codemirror_mode": {
    "name": "ipython",
    "version": 3
   },
   "file_extension": ".py",
   "mimetype": "text/x-python",
   "name": "python",
   "nbconvert_exporter": "python",
   "pygments_lexer": "ipython3",
   "version": "3.8.12"
  }
 },
 "nbformat": 4,
 "nbformat_minor": 0
}