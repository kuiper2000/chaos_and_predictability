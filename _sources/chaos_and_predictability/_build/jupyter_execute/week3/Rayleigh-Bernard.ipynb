{
 "cells": [
  {
   "cell_type": "code",
   "execution_count": 1,
   "metadata": {
    "colab": {
     "base_uri": "https://localhost:8080/"
    },
    "executionInfo": {
     "elapsed": 963,
     "status": "ok",
     "timestamp": 1647822408066,
     "user": {
      "displayName": "Eric Tseng",
      "photoUrl": "https://lh3.googleusercontent.com/a-/AOh14GiXxDp_I3zn0ds5mwR7CkBJbJ5l9pXTmbR2AS_Hhg=s64",
      "userId": "16756084133469534332"
     },
     "user_tz": 240
    },
    "id": "961oLibjr0KS",
    "outputId": "21cdd2d7-32a3-4bd5-bbba-9322f7fd1a28"
   },
   "outputs": [
    {
     "ename": "ModuleNotFoundError",
     "evalue": "No module named 'google'",
     "output_type": "error",
     "traceback": [
      "\u001b[0;31m---------------------------------------------------------------------------\u001b[0m",
      "\u001b[0;31mModuleNotFoundError\u001b[0m                       Traceback (most recent call last)",
      "Input \u001b[0;32mIn [1]\u001b[0m, in \u001b[0;36m<module>\u001b[0;34m\u001b[0m\n\u001b[0;32m----> 1\u001b[0m \u001b[38;5;28;01mfrom\u001b[39;00m \u001b[38;5;21;01mgoogle\u001b[39;00m\u001b[38;5;21;01m.\u001b[39;00m\u001b[38;5;21;01mcolab\u001b[39;00m \u001b[38;5;28;01mimport\u001b[39;00m drive\n\u001b[1;32m      2\u001b[0m drive\u001b[38;5;241m.\u001b[39mmount(\u001b[38;5;124m'\u001b[39m\u001b[38;5;124m/content/gdrive\u001b[39m\u001b[38;5;124m'\u001b[39m)\n",
      "\u001b[0;31mModuleNotFoundError\u001b[0m: No module named 'google'"
     ]
    }
   ],
   "source": [
    "from google.colab import drive\n",
    "drive.mount('/content/gdrive')"
   ]
  },
  {
   "cell_type": "code",
   "execution_count": null,
   "metadata": {
    "colab": {
     "base_uri": "https://localhost:8080/"
    },
    "executionInfo": {
     "elapsed": 1090,
     "status": "ok",
     "timestamp": 1647802670440,
     "user": {
      "displayName": "Eric Tseng",
      "photoUrl": "https://lh3.googleusercontent.com/a-/AOh14GiXxDp_I3zn0ds5mwR7CkBJbJ5l9pXTmbR2AS_Hhg=s64",
      "userId": "16756084133469534332"
     },
     "user_tz": 240
    },
    "id": "reqxKOz2sIvf",
    "outputId": "7fcac42e-c359-4b32-ca2f-4582a4b993c2"
   },
   "outputs": [
    {
     "name": "stdout",
     "output_type": "stream",
     "text": [
      "/content/gdrive/.shortcut-targets-by-id/1EbyOoCcsibqW2eyWyMxbBcxfTcsHKnH4/website-hugo/chaos_and_predictability/week3\n"
     ]
    }
   ],
   "source": [
    "# for installing \n",
    "%cd gdrive/My Drive/website-hugo/chaos_and_predictability/week3\n",
    "!git clone https://github.com/larsgeb/Rayleigh-Bernard.git\n",
    "%cd Rayleigh-Bernard"
   ]
  },
  {
   "cell_type": "code",
   "execution_count": 31,
   "metadata": {
    "colab": {
     "base_uri": "https://localhost:8080/"
    },
    "executionInfo": {
     "elapsed": 226331,
     "status": "ok",
     "timestamp": 1647818336715,
     "user": {
      "displayName": "Eric Tseng",
      "photoUrl": "https://lh3.googleusercontent.com/a-/AOh14GiXxDp_I3zn0ds5mwR7CkBJbJ5l9pXTmbR2AS_Hhg=s64",
      "userId": "16756084133469534332"
     },
     "user_tz": 240
    },
    "id": "zvKIgOwlssMG",
    "outputId": "c02b9184-2d18-4f54-e3e7-d14705a929dd"
   },
   "outputs": [
    {
     "name": "stdout",
     "output_type": "stream",
     "text": [
      "[Errno 2] No such file or directory: 'gdrive/My Drive/website-hugo/chaos_and_predictability/week3/Rayleigh-Bernard'\n",
      "/content/gdrive/.shortcut-targets-by-id/1EbyOoCcsibqW2eyWyMxbBcxfTcsHKnH4/website-hugo/chaos_and_predictability/week3/Rayleigh-Bernard\n",
      "Buoyancy driven flow:\n",
      "Rayleigh number: 196.00\n",
      "dt: 1.25e-04\n",
      "nt: 1600\n",
      "dx: 2.50e-02\n",
      "dy: 2.50e-02\n",
      "Critical CFL velocity: 2.00e+02\n",
      "Runtime of LU factorization for eq-1: 1.95e-02 seconds\n",
      "Starting time marching for 1600 steps ...\n",
      "plotted time step: 1600\n",
      "Runtime of time-marching: 2.24e+02 seconds\n"
     ]
    }
   ],
   "source": [
    "%cd gdrive/My Drive/website-hugo/chaos_and_predictability/week3/Rayleigh-Bernard\n",
    "!python main.py"
   ]
  },
  {
   "cell_type": "code",
   "execution_count": 25,
   "metadata": {
    "colab": {
     "base_uri": "https://localhost:8080/"
    },
    "executionInfo": {
     "elapsed": 5,
     "status": "ok",
     "timestamp": 1647817647585,
     "user": {
      "displayName": "Eric Tseng",
      "photoUrl": "https://lh3.googleusercontent.com/a-/AOh14GiXxDp_I3zn0ds5mwR7CkBJbJ5l9pXTmbR2AS_Hhg=s64",
      "userId": "16756084133469534332"
     },
     "user_tz": 240
    },
    "id": "65mOjnJLgvyY",
    "outputId": "9c6d107e-998a-41ae-fbb9-7987ffafc611"
   },
   "outputs": [
    {
     "data": {
      "text/plain": [
       "array([22, 12, 28, 29, 14, 12, 18, 11, 24, 27])"
      ]
     },
     "execution_count": 25,
     "metadata": {},
     "output_type": "execute_result"
    }
   ],
   "source": [
    "import random\n",
    "import numpy as np\n",
    "posi_y = np.random.randint(10,30, size=10)\n",
    "posi_x = np.random.randint(120, size=10)\n",
    "posi_y"
   ]
  },
  {
   "cell_type": "code",
   "execution_count": 36,
   "metadata": {
    "colab": {
     "base_uri": "https://localhost:8080/"
    },
    "executionInfo": {
     "elapsed": 1686,
     "status": "ok",
     "timestamp": 1647822493541,
     "user": {
      "displayName": "Eric Tseng",
      "photoUrl": "https://lh3.googleusercontent.com/a-/AOh14GiXxDp_I3zn0ds5mwR7CkBJbJ5l9pXTmbR2AS_Hhg=s64",
      "userId": "16756084133469534332"
     },
     "user_tz": 240
    },
    "id": "oBgIE6B-3kuY",
    "outputId": "baf53825-12e1-4ed9-fb33-408be83c6e8e"
   },
   "outputs": [
    {
     "name": "stdout",
     "output_type": "stream",
     "text": [
      "/content/gdrive/.shortcut-targets-by-id/1EbyOoCcsibqW2eyWyMxbBcxfTcsHKnH4/website-hugo/chaos_and_predictability/week3\n",
      "Cloning into 'RB2D'...\n",
      "remote: Enumerating objects: 6, done.\u001b[K\n",
      "remote: Counting objects: 100% (6/6), done.\u001b[K\n",
      "remote: Compressing objects: 100% (5/5), done.\u001b[K\n",
      "remote: Total 6 (delta 0), reused 0 (delta 0), pack-reused 0\u001b[K\n",
      "Unpacking objects: 100% (6/6), done.\n"
     ]
    }
   ],
   "source": [
    "%cd /content/gdrive/MyDrive/website-hugo/chaos_and_predictability/week3\n",
    "!git clone https://github.com/benkywenk/RB2D.git"
   ]
  }
 ],
 "metadata": {
  "colab": {
   "authorship_tag": "ABX9TyNqAegSUbHaPM3mkNKVHN3/",
   "name": "Rayleigh-Bernard.ipynb",
   "provenance": []
  },
  "kernelspec": {
   "display_name": "Python 3",
   "name": "python3"
  },
  "language_info": {
   "codemirror_mode": {
    "name": "ipython",
    "version": 3
   },
   "file_extension": ".py",
   "mimetype": "text/x-python",
   "name": "python",
   "nbconvert_exporter": "python",
   "pygments_lexer": "ipython3",
   "version": "3.8.12"
  }
 },
 "nbformat": 4,
 "nbformat_minor": 0
}